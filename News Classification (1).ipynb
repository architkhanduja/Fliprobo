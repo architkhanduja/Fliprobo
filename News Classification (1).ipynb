{
 "cells": [
  {
   "cell_type": "markdown",
   "metadata": {},
   "source": [
    "## News Classification | September 2017"
   ]
  },
  {
   "cell_type": "code",
   "execution_count": 14,
   "metadata": {},
   "outputs": [],
   "source": [
    "#importing essential libraries\n",
    "import pandas as pd\n",
    "from bs4 import BeautifulSoup\n",
    "import requests\n",
    "import selenium\n",
    "from selenium import webdriver\n",
    "import time\n",
    "from selenium.webdriver.common.keys import Keys\n",
    "from selenium.common.exceptions import StaleElementReferenceException\n",
    "from selenium.common.exceptions import NoSuchElementException\n",
    "from selenium.webdriver.support.ui import WebDriverWait\n",
    "from selenium.webdriver.support import expected_conditions as EC\n",
    "from selenium.webdriver.common.by import By\n",
    "from selenium.common.exceptions import TimeoutException"
   ]
  },
  {
   "cell_type": "code",
   "execution_count": 18,
   "metadata": {},
   "outputs": [],
   "source": [
    "#Calling the Webdriver and declaring the URL\n",
    "driver=webdriver.Chrome(r\"D:\\downloadc\\chrome downloads\\New folder\\chromedriver.exe\")\n",
    "url=\"https://timesofindia.indiatimes.com/archive/year-2017,month-9.cms\"\n",
    "driver.get(url)"
   ]
  },
  {
   "cell_type": "code",
   "execution_count": 19,
   "metadata": {},
   "outputs": [],
   "source": [
    "\n",
    "div=driver.find_element_by_id(\"calenderdiv\")\n",
    "dates=[]\n",
    "for i in div.find_elements_by_xpath(\".//table/tbody/tr\"):\n",
    "    for k in i.find_elements_by_xpath(\".//td/a\"):\n",
    "        date_exist=False\n",
    "        date=k.get_attribute('href')\n",
    "        ### searching if date already present in dates list\n",
    "        for x in dates:\n",
    "            if(x==date):date_exist=True\n",
    "        ## adding date if date not present in list\n",
    "        if date_exist == False:dates.append(date)"
   ]
  },
  {
   "cell_type": "code",
   "execution_count": 24,
   "metadata": {},
   "outputs": [],
   "source": [
    "URL=[]\n",
    "z=1\n",
    "for j in dates:\n",
    "    driver.get(j)\n",
    "    table=driver.find_element_by_xpath(\"//table[@class='cnt'][2]\")\n",
    "    temp=table.find_elements_by_xpath(\".//tbody/tr[2]/td[1]/div[3]/table/tbody/tr[2]/td\")\n",
    "    for i in temp[0].find_elements_by_xpath(\".//span/a\"):\n",
    "        URL.append(i.get_attribute('href'))\n",
    "    for i in temp[2].find_elements_by_xpath(\".//span/a\"):\n",
    "        URL.append(i.get_attribute('href'))\n",
    "    z=z+1"
   ]
  },
  {
   "cell_type": "code",
   "execution_count": 25,
   "metadata": {},
   "outputs": [
    {
     "data": {
      "text/plain": [
       "15000"
      ]
     },
     "execution_count": 25,
     "metadata": {},
     "output_type": "execute_result"
    }
   ],
   "source": [
    "len(URL)"
   ]
  },
  {
   "cell_type": "code",
   "execution_count": 29,
   "metadata": {},
   "outputs": [],
   "source": [
    "def func(urls_):\n",
    "    author=[]\n",
    "    date=[]\n",
    "    vertical=[]\n",
    "    content=[]\n",
    "    heading=[]\n",
    "    for k in urls_:\n",
    "        driver.get(k)\n",
    "        try:\n",
    "            txt=driver.find_element_by_xpath(\"//div[@class='as_byline']/div[2]\").text\n",
    "            if(txt.find('IST')==-1): author.append(txt)\n",
    "            else: \n",
    "                author.append('')\n",
    "        except: \n",
    "            try:author.append(driver.find_element_by_xpath(\"//div[@class='_3Mkg- byline']/span\").text)\n",
    "            except:author.append('')\n",
    "        try:\n",
    "            dt=driver.find_element_by_xpath(\"//div[@class='as_byline']/div[3]\").text.replace('Updated:','').replace('Created:','')\n",
    "            if(dt.find('IST')):date.append(dt)\n",
    "            else: date.append('')\n",
    "        except: \n",
    "            try:\n",
    "                dt=driver.find_element_by_xpath(\"//div[@class='as_byline']/div[2]\").text\n",
    "                if(txt.find('IST')!=-1):date.append(dt.replace('Updated:','').replace('Created:',''))\n",
    "                else:date.append('')  \n",
    "            except:\n",
    "                try:date.append(driver.find_element_by_xpath(\"//div[@class='_3Mkg- byline']\").text[-23:])\n",
    "                except:date.append('')     \n",
    "        try: vertical.append(driver.find_element_by_xpath(\"//div[@class='navbdcrumb']/div[@class='wrapper']/ol/li[2]\").text)\n",
    "        except: vertical.append('')\n",
    "    \n",
    "        try: content.append(driver.find_element_by_xpath(\"//div[@class='article_content clearfix']/arttextxml/div[@class='section1']/div[@class='Normal']\").text.replace('\\n',''))\n",
    "        except: \n",
    "            try:content.append(driver.find_element_by_xpath(\"//div[@class='ga-headlines']\").text.replace('\\n',''))\n",
    "            except:content.append('')\n",
    "                \n",
    "        try: heading.append(driver.find_element_by_xpath(\"//div[@class='as_heading']/h1[@class='heading1']\").text)\n",
    "        except: \n",
    "            try:heading.append(driver.find_element_by_xpath(\"//div[@class='_2NFXP ']/h1[@class='_23498']\").text)\n",
    "            except:heading.append('')\n",
    "    df=pd.DataFrame({'Date':date,'Author':author,'Vertical':vertical,'Headline':heading,'Description':content})\n",
    "    return df\n"
   ]
  },
  {
   "cell_type": "code",
   "execution_count": 32,
   "metadata": {},
   "outputs": [],
   "source": [
    "df=func(URL)\n",
    "df.to_csv('sep2017.csv')"
   ]
  },
  {
   "cell_type": "code",
   "execution_count": null,
   "metadata": {},
   "outputs": [],
   "source": []
  }
 ],
 "metadata": {
  "kernelspec": {
   "display_name": "Python 3",
   "language": "python",
   "name": "python3"
  },
  "language_info": {
   "codemirror_mode": {
    "name": "ipython",
    "version": 3
   },
   "file_extension": ".py",
   "mimetype": "text/x-python",
   "name": "python",
   "nbconvert_exporter": "python",
   "pygments_lexer": "ipython3",
   "version": "3.7.6"
  }
 },
 "nbformat": 4,
 "nbformat_minor": 4
}

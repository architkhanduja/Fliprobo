{
 "cells": [
  {
   "cell_type": "code",
   "execution_count": 1,
   "metadata": {},
   "outputs": [],
   "source": [
    "#Importing essential libraries\n",
    "from bs4 import BeautifulSoup\n",
    "import requests\n",
    "import selenium\n",
    "import pandas as pd\n",
    "from selenium import webdriver\n",
    "import time"
   ]
  },
  {
   "cell_type": "markdown",
   "metadata": {},
   "source": [
    "# Question 1\n",
    "***Write a python program to display all the header tags from ‘en.wikipedia.org/wiki/Main_Page’.***"
   ]
  },
  {
   "cell_type": "code",
   "execution_count": 2,
   "metadata": {},
   "outputs": [],
   "source": [
    "page=requests.get(\"http://en.wikipedia.org/wiki/Main_Page\")"
   ]
  },
  {
   "cell_type": "code",
   "execution_count": 3,
   "metadata": {},
   "outputs": [],
   "source": [
    "#page.content"
   ]
  },
  {
   "cell_type": "code",
   "execution_count": 4,
   "metadata": {},
   "outputs": [],
   "source": [
    "soup=BeautifulSoup(page.content,'html.parser')"
   ]
  },
  {
   "cell_type": "code",
   "execution_count": 5,
   "metadata": {},
   "outputs": [],
   "source": [
    "titles = soup.find_all(['h1', 'h2','h3','h4','h5','h6'])"
   ]
  },
  {
   "cell_type": "code",
   "execution_count": 6,
   "metadata": {},
   "outputs": [
    {
     "data": {
      "text/plain": [
       "['Main Page',\n",
       " \"From today's featured article\",\n",
       " 'Did you know\\xa0...',\n",
       " 'In the news',\n",
       " 'On this day',\n",
       " \"Today's featured picture\",\n",
       " 'Other areas of Wikipedia',\n",
       " \"Wikipedia's sister projects\",\n",
       " 'Wikipedia languages',\n",
       " 'Navigation menu',\n",
       " 'Personal tools',\n",
       " 'Namespaces',\n",
       " 'Variants',\n",
       " 'Views',\n",
       " 'More',\n",
       " 'Search',\n",
       " 'Navigation',\n",
       " 'Contribute',\n",
       " 'Tools',\n",
       " 'Print/export',\n",
       " 'In other projects',\n",
       " 'Languages']"
      ]
     },
     "execution_count": 6,
     "metadata": {},
     "output_type": "execute_result"
    }
   ],
   "source": [
    "#Creating list and appending headers in that list\n",
    "header_titles=[]\n",
    "for i in titles:\n",
    "    \n",
    "    header_titles.append(i.get_text().replace(\"\\n\",\"\"))\n",
    "header_titles"
   ]
  },
  {
   "cell_type": "code",
   "execution_count": 7,
   "metadata": {},
   "outputs": [
    {
     "data": {
      "text/html": [
       "<div>\n",
       "<style scoped>\n",
       "    .dataframe tbody tr th:only-of-type {\n",
       "        vertical-align: middle;\n",
       "    }\n",
       "\n",
       "    .dataframe tbody tr th {\n",
       "        vertical-align: top;\n",
       "    }\n",
       "\n",
       "    .dataframe thead th {\n",
       "        text-align: right;\n",
       "    }\n",
       "</style>\n",
       "<table border=\"1\" class=\"dataframe\">\n",
       "  <thead>\n",
       "    <tr style=\"text-align: right;\">\n",
       "      <th></th>\n",
       "      <th>Header</th>\n",
       "    </tr>\n",
       "  </thead>\n",
       "  <tbody>\n",
       "    <tr>\n",
       "      <th>0</th>\n",
       "      <td>Main Page</td>\n",
       "    </tr>\n",
       "    <tr>\n",
       "      <th>1</th>\n",
       "      <td>From today's featured article</td>\n",
       "    </tr>\n",
       "    <tr>\n",
       "      <th>2</th>\n",
       "      <td>Did you know ...</td>\n",
       "    </tr>\n",
       "    <tr>\n",
       "      <th>3</th>\n",
       "      <td>In the news</td>\n",
       "    </tr>\n",
       "    <tr>\n",
       "      <th>4</th>\n",
       "      <td>On this day</td>\n",
       "    </tr>\n",
       "    <tr>\n",
       "      <th>5</th>\n",
       "      <td>Today's featured picture</td>\n",
       "    </tr>\n",
       "    <tr>\n",
       "      <th>6</th>\n",
       "      <td>Other areas of Wikipedia</td>\n",
       "    </tr>\n",
       "    <tr>\n",
       "      <th>7</th>\n",
       "      <td>Wikipedia's sister projects</td>\n",
       "    </tr>\n",
       "    <tr>\n",
       "      <th>8</th>\n",
       "      <td>Wikipedia languages</td>\n",
       "    </tr>\n",
       "    <tr>\n",
       "      <th>9</th>\n",
       "      <td>Navigation menu</td>\n",
       "    </tr>\n",
       "    <tr>\n",
       "      <th>10</th>\n",
       "      <td>Personal tools</td>\n",
       "    </tr>\n",
       "    <tr>\n",
       "      <th>11</th>\n",
       "      <td>Namespaces</td>\n",
       "    </tr>\n",
       "    <tr>\n",
       "      <th>12</th>\n",
       "      <td>Variants</td>\n",
       "    </tr>\n",
       "    <tr>\n",
       "      <th>13</th>\n",
       "      <td>Views</td>\n",
       "    </tr>\n",
       "    <tr>\n",
       "      <th>14</th>\n",
       "      <td>More</td>\n",
       "    </tr>\n",
       "    <tr>\n",
       "      <th>15</th>\n",
       "      <td>Search</td>\n",
       "    </tr>\n",
       "    <tr>\n",
       "      <th>16</th>\n",
       "      <td>Navigation</td>\n",
       "    </tr>\n",
       "    <tr>\n",
       "      <th>17</th>\n",
       "      <td>Contribute</td>\n",
       "    </tr>\n",
       "    <tr>\n",
       "      <th>18</th>\n",
       "      <td>Tools</td>\n",
       "    </tr>\n",
       "    <tr>\n",
       "      <th>19</th>\n",
       "      <td>Print/export</td>\n",
       "    </tr>\n",
       "    <tr>\n",
       "      <th>20</th>\n",
       "      <td>In other projects</td>\n",
       "    </tr>\n",
       "    <tr>\n",
       "      <th>21</th>\n",
       "      <td>Languages</td>\n",
       "    </tr>\n",
       "  </tbody>\n",
       "</table>\n",
       "</div>"
      ],
      "text/plain": [
       "                           Header\n",
       "0                       Main Page\n",
       "1   From today's featured article\n",
       "2                Did you know ...\n",
       "3                     In the news\n",
       "4                     On this day\n",
       "5        Today's featured picture\n",
       "6        Other areas of Wikipedia\n",
       "7     Wikipedia's sister projects\n",
       "8             Wikipedia languages\n",
       "9                 Navigation menu\n",
       "10                 Personal tools\n",
       "11                     Namespaces\n",
       "12                       Variants\n",
       "13                          Views\n",
       "14                           More\n",
       "15                         Search\n",
       "16                     Navigation\n",
       "17                     Contribute\n",
       "18                          Tools\n",
       "19                   Print/export\n",
       "20              In other projects\n",
       "21                      Languages"
      ]
     },
     "execution_count": 7,
     "metadata": {},
     "output_type": "execute_result"
    }
   ],
   "source": [
    "#Saving Headers in a dataframe\n",
    "import pandas as pd\n",
    "headers=pd.DataFrame({})\n",
    "headers['Header']=header_titles\n",
    "headers"
   ]
  },
  {
   "cell_type": "markdown",
   "metadata": {},
   "source": [
    "# Question 2\n",
    "***Write a python program to display IMDB’s Top rated 100 movies’ data (i.e. Name, IMDB rating, Year of\n",
    "release) and save it in form of a CSV file.***"
   ]
  },
  {
   "cell_type": "code",
   "execution_count": 8,
   "metadata": {},
   "outputs": [],
   "source": [
    "page=requests.get(\"https://www.imdb.com/chart/top/\")"
   ]
  },
  {
   "cell_type": "code",
   "execution_count": 9,
   "metadata": {},
   "outputs": [],
   "source": [
    "#page.content"
   ]
  },
  {
   "cell_type": "code",
   "execution_count": 10,
   "metadata": {},
   "outputs": [],
   "source": [
    "soup=BeautifulSoup(page.content,'html.parser')"
   ]
  },
  {
   "cell_type": "code",
   "execution_count": 11,
   "metadata": {},
   "outputs": [],
   "source": [
    "#Creating empty lists to be appended later\n",
    "Movie_Name=[]\n",
    "IMDB_Rating=[]"
   ]
  },
  {
   "cell_type": "code",
   "execution_count": 12,
   "metadata": {},
   "outputs": [],
   "source": [
    "movies=soup.find_all('td', class_='titleColumn')"
   ]
  },
  {
   "cell_type": "code",
   "execution_count": 13,
   "metadata": {},
   "outputs": [
    {
     "data": {
      "text/plain": [
       "['      1.      The Shawshank Redemption(1994)',\n",
       " '      2.      The Godfather(1972)',\n",
       " '      3.      The Godfather: Part II(1974)',\n",
       " '      4.      The Dark Knight(2008)',\n",
       " '      5.      12 Angry Men(1957)',\n",
       " \"      6.      Schindler's List(1993)\",\n",
       " '      7.      The Lord of the Rings: The Return of the King(2003)',\n",
       " '      8.      Pulp Fiction(1994)',\n",
       " '      9.      Il buono, il brutto, il cattivo(1966)',\n",
       " '      10.      The Lord of the Rings: The Fellowship of the Ring(2001)',\n",
       " '      11.      Fight Club(1999)',\n",
       " '      12.      Forrest Gump(1994)',\n",
       " '      13.      Inception(2010)',\n",
       " '      14.      The Lord of the Rings: The Two Towers(2002)',\n",
       " '      15.      Star Wars: Episode V - The Empire Strikes Back(1980)',\n",
       " '      16.      The Matrix(1999)',\n",
       " '      17.      Goodfellas(1990)',\n",
       " \"      18.      One Flew Over the Cuckoo's Nest(1975)\",\n",
       " '      19.      Shichinin no samurai(1954)',\n",
       " '      20.      Se7en(1995)',\n",
       " '      21.      La vita è bella(1997)',\n",
       " '      22.      Cidade de Deus(2002)',\n",
       " '      23.      The Silence of the Lambs(1991)',\n",
       " \"      24.      It's a Wonderful Life(1946)\",\n",
       " '      25.      Star Wars(1977)',\n",
       " '      26.      Saving Private Ryan(1998)',\n",
       " '      27.      Sen to Chihiro no kamikakushi(2001)',\n",
       " '      28.      The Green Mile(1999)',\n",
       " '      29.      Interstellar(2014)',\n",
       " '      30.      Gisaengchung(2019)',\n",
       " '      31.      Léon(1994)',\n",
       " '      32.      The Usual Suspects(1995)',\n",
       " '      33.      Seppuku(1962)',\n",
       " '      34.      The Lion King(1994)',\n",
       " '      35.      The Pianist(2002)',\n",
       " '      36.      Back to the Future(1985)',\n",
       " '      37.      Terminator 2: Judgment Day(1991)',\n",
       " '      38.      American History X(1998)',\n",
       " '      39.      Modern Times(1936)',\n",
       " '      40.      Psycho(1960)',\n",
       " '      41.      Gladiator(2000)',\n",
       " '      42.      City Lights(1931)',\n",
       " '      43.      The Departed(2006)',\n",
       " '      44.      The Intouchables(2011)',\n",
       " '      45.      Whiplash(2014)',\n",
       " '      46.      Hotaru no haka(1988)',\n",
       " '      47.      The Prestige(2006)',\n",
       " '      48.      Once Upon a Time in the West(1968)',\n",
       " '      49.      Casablanca(1942)',\n",
       " '      50.      Nuovo Cinema Paradiso(1988)',\n",
       " '      51.      Rear Window(1954)',\n",
       " '      52.      Alien(1979)',\n",
       " '      53.      Apocalypse Now(1979)',\n",
       " '      54.      Hamilton(2020)',\n",
       " '      55.      Memento(2000)',\n",
       " '      56.      The Great Dictator(1940)',\n",
       " '      57.      Raiders of the Lost Ark(1981)',\n",
       " '      58.      Django Unchained(2012)',\n",
       " '      59.      The Lives of Others(2006)',\n",
       " '      60.      Joker(2019)',\n",
       " '      61.      Paths of Glory(1957)',\n",
       " '      62.      WALL·E(2008)',\n",
       " '      63.      The Shining(1980)',\n",
       " '      64.      Avengers: Infinity War(2018)',\n",
       " '      65.      Sunset Blvd.(1950)',\n",
       " '      66.      Witness for the Prosecution(1957)',\n",
       " '      67.      Oldeuboi(2003)',\n",
       " '      68.      Mononoke-hime(1997)',\n",
       " '      69.      Spider-Man: Into the Spider-Verse(2018)',\n",
       " '      70.      Dr. Strangelove or: How I Learned to Stop Worrying and Love the Bomb(1964)',\n",
       " '      71.      The Dark Knight Rises(2012)',\n",
       " '      72.      Once Upon a Time in America(1984)',\n",
       " '      73.      Aliens(1986)',\n",
       " '      74.      Kimi no na wa.(2016)',\n",
       " '      75.      Coco(2017)',\n",
       " '      76.      Avengers: Endgame(2019)',\n",
       " '      77.      American Beauty(1999)',\n",
       " '      78.      Braveheart(1995)',\n",
       " '      79.      Das Boot(1981)',\n",
       " '      80.      3 Idiots(2009)',\n",
       " '      81.      Toy Story(1995)',\n",
       " '      82.      Capharnaüm(2018)',\n",
       " '      83.      Tengoku to jigoku(1963)',\n",
       " '      84.      Amadeus(1984)',\n",
       " '      85.      Inglourious Basterds(2009)',\n",
       " '      86.      Star Wars: Episode VI - Return of the Jedi(1983)',\n",
       " '      87.      Good Will Hunting(1997)',\n",
       " '      88.      Taare Zameen Par(2007)',\n",
       " '      89.      Reservoir Dogs(1992)',\n",
       " '      90.      2001: A Space Odyssey(1968)',\n",
       " '      91.      Requiem for a Dream(2000)',\n",
       " '      92.      Vertigo(1958)',\n",
       " '      93.      M - Eine Stadt sucht einen Mörder(1931)',\n",
       " '      94.      Jagten(2012)',\n",
       " '      95.      Eternal Sunshine of the Spotless Mind(2004)',\n",
       " '      96.      Citizen Kane(1941)',\n",
       " '      97.      Dangal(2016)',\n",
       " '      98.      Full Metal Jacket(1987)',\n",
       " '      99.      Ladri di biciclette(1948)',\n",
       " \"      100.      Singin' in the Rain(1952)\",\n",
       " '      101.      The Kid(1921)',\n",
       " '      102.      North by Northwest(1959)',\n",
       " '      103.      Snatch(2000)',\n",
       " '      104.      A Clockwork Orange(1971)',\n",
       " '      105.      1917(2019)',\n",
       " '      106.      Scarface(1983)',\n",
       " '      107.      Ikiru(1952)',\n",
       " '      108.      Idi i smotri(1985)',\n",
       " '      109.      Taxi Driver(1976)',\n",
       " '      110.      Lawrence of Arabia(1962)',\n",
       " '      111.      Toy Story 3(2010)',\n",
       " '      112.      Amélie(2001)',\n",
       " '      113.      Jodaeiye Nader az Simin(2011)',\n",
       " '      114.      The Sting(1973)',\n",
       " '      115.      Incendies(2010)',\n",
       " '      116.      Metropolis(1927)',\n",
       " '      117.      Per qualche dollaro in più(1965)',\n",
       " '      118.      The Apartment(1960)',\n",
       " '      119.      Double Indemnity(1944)',\n",
       " '      120.      To Kill a Mockingbird(1962)',\n",
       " '      121.      Up(2009)',\n",
       " '      122.      Indiana Jones and the Last Crusade(1989)',\n",
       " '      123.      Heat(1995)',\n",
       " '      124.      L.A. Confidential(1997)',\n",
       " '      125.      Die Hard(1988)',\n",
       " '      126.      Green Book(2018)',\n",
       " '      127.      Monty Python and the Holy Grail(1975)',\n",
       " '      128.      Yôjinbô(1961)',\n",
       " '      129.      Batman Begins(2005)',\n",
       " '      130.      Rashômon(1950)',\n",
       " '      131.      Der Untergang(2004)',\n",
       " '      132.      Bacheha-Ye aseman(1997)',\n",
       " '      133.      Unforgiven(1992)',\n",
       " '      134.      Some Like It Hot(1959)',\n",
       " '      135.      Ran(1985)',\n",
       " '      136.      Hauru no ugoku shiro(2004)',\n",
       " '      137.      All About Eve(1950)',\n",
       " '      138.      Casino(1995)',\n",
       " '      139.      A Beautiful Mind(2001)',\n",
       " '      140.      The Great Escape(1963)',\n",
       " '      141.      The Wolf of Wall Street(2013)',\n",
       " \"      142.      Pan's Labyrinth(2006)\",\n",
       " '      143.      El secreto de sus ojos(2009)',\n",
       " '      144.      There Will Be Blood(2007)',\n",
       " '      145.      Lock, Stock and Two Smoking Barrels(1998)',\n",
       " '      146.      Tonari no Totoro(1988)',\n",
       " '      147.      Raging Bull(1980)',\n",
       " '      148.      Judgment at Nuremberg(1961)',\n",
       " '      149.      The Treasure of the Sierra Madre(1948)',\n",
       " '      150.      Dial M for Murder(1954)',\n",
       " '      151.      Three Billboards Outside Ebbing, Missouri(2017)',\n",
       " '      152.      Shutter Island(2010)',\n",
       " '      153.      The Gold Rush(1925)',\n",
       " '      154.      Chinatown(1974)',\n",
       " '      155.      Babam ve Oglum(2005)',\n",
       " '      156.      No Country for Old Men(2007)',\n",
       " '      157.      V for Vendetta(2005)',\n",
       " '      158.      Inside Out(2015)',\n",
       " '      159.      Det sjunde inseglet(1957)',\n",
       " '      160.      The Elephant Man(1980)',\n",
       " '      161.      The Thing(1982)',\n",
       " '      162.      Warrior(2011)',\n",
       " '      163.      The Sixth Sense(1999)',\n",
       " '      164.      Trainspotting(1996)',\n",
       " '      165.      Jurassic Park(1993)',\n",
       " '      166.      Klaus(2019)',\n",
       " '      167.      The Truman Show(1998)',\n",
       " '      168.      Gone with the Wind(1939)',\n",
       " '      169.      Finding Nemo(2003)',\n",
       " '      170.      Smultronstället(1957)',\n",
       " '      171.      Blade Runner(1982)',\n",
       " '      172.      Stalker(1979)',\n",
       " '      173.      Kill Bill: Vol. 1(2003)',\n",
       " '      174.      Anand(1971)',\n",
       " '      175.      Salinui chueok(2003)',\n",
       " '      176.      The Bridge on the River Kwai(1957)',\n",
       " '      177.      Fargo(1996)',\n",
       " '      178.      Room(2015)',\n",
       " '      179.      Gran Torino(2008)',\n",
       " '      180.      The Third Man(1949)',\n",
       " '      181.      Relatos salvajes(2014)',\n",
       " '      182.      On the Waterfront(1954)',\n",
       " '      183.      Tôkyô monogatari(1953)',\n",
       " '      184.      The Deer Hunter(1978)',\n",
       " '      185.      Soul(2020)',\n",
       " '      186.      In the Name of the Father(1993)',\n",
       " '      187.      Mary and Max(2009)',\n",
       " '      188.      The Grand Budapest Hotel(2014)',\n",
       " '      189.      Gone Girl(2014)',\n",
       " '      190.      Höstsonaten(1978)',\n",
       " '      191.      Before Sunrise(1995)',\n",
       " '      192.      Hacksaw Ridge(2016)',\n",
       " '      193.      Catch Me If You Can(2002)',\n",
       " '      194.      Persona(1966)',\n",
       " '      195.      Andhadhun(2018)',\n",
       " '      196.      Prisoners(2013)',\n",
       " '      197.      The Big Lebowski(1998)',\n",
       " '      198.      Sherlock Jr.(1924)',\n",
       " '      199.      To Be or Not to Be(1942)',\n",
       " '      200.      The General(1926)',\n",
       " '      201.      How to Train Your Dragon(2010)',\n",
       " '      202.      Ford v Ferrari(2019)',\n",
       " '      203.      Eskiya(1996)',\n",
       " '      204.      Barry Lyndon(1975)',\n",
       " '      205.      12 Years a Slave(2013)',\n",
       " '      206.      Mr. Smith Goes to Washington(1939)',\n",
       " '      207.      Mad Max: Fury Road(2015)',\n",
       " '      208.      Million Dollar Baby(2004)',\n",
       " '      209.      Network(1976)',\n",
       " '      210.      Dead Poets Society(1989)',\n",
       " '      211.      Stand by Me(1986)',\n",
       " '      212.      Harry Potter and the Deathly Hallows: Part 2(2011)',\n",
       " '      213.      Ben-Hur(1959)',\n",
       " '      214.      Cool Hand Luke(1967)',\n",
       " \"      215.      Hachi: A Dog's Tale(2009)\",\n",
       " '      216.      Platoon(1986)',\n",
       " '      217.      Ah-ga-ssi(2016)',\n",
       " '      218.      Logan(2017)',\n",
       " '      219.      Into the Wild(2007)',\n",
       " '      220.      Dom za vesanje(1988)',\n",
       " '      221.      Rush(2013)',\n",
       " '      222.      Le salaire de la peur(1953)',\n",
       " '      223.      Life of Brian(1979)',\n",
       " '      224.      Les quatre cents coups(1959)',\n",
       " '      225.      Spotlight(2015)',\n",
       " '      226.      La haine(1995)',\n",
       " \"      227.      La passion de Jeanne d'Arc(1928)\",\n",
       " '      228.      Hotel Rwanda(2004)',\n",
       " '      229.      Amores perros(2000)',\n",
       " '      230.      Andrei Rublev(1966)',\n",
       " '      231.      Rocky(1976)',\n",
       " '      232.      Gangs of Wasseypur(2012)',\n",
       " '      233.      Monsters, Inc.(2001)',\n",
       " '      234.      Kaze no tani no Naushika(1984)',\n",
       " '      235.      Rebecca(1940)',\n",
       " '      236.      Du rififi chez les hommes(1955)',\n",
       " '      237.      Rang De Basanti(2006)',\n",
       " '      238.      Before Sunset(2004)',\n",
       " '      239.      Fa yeung nin wah(2000)',\n",
       " '      240.      Paris, Texas(1984)',\n",
       " '      241.      Portrait de la jeune fille en feu(2019)',\n",
       " '      242.      It Happened One Night(1934)',\n",
       " '      243.      Vikram Vedha(2017)',\n",
       " '      244.      Contratiempo(2016)',\n",
       " '      245.      The Help(2011)',\n",
       " '      246.      The Princess Bride(1987)',\n",
       " '      247.      La battaglia di Algeri(1966)',\n",
       " '      248.      Drishyam(2015)',\n",
       " '      249.      Fanny och Alexander(1982)',\n",
       " '      250.      Koe no katachi(2016)']"
      ]
     },
     "execution_count": 13,
     "metadata": {},
     "output_type": "execute_result"
    }
   ],
   "source": [
    "for i in movies:\n",
    "    \n",
    "    Movie_Name.append(i.get_text().replace(\"\\n\",\"\"))\n",
    "Movie_Name"
   ]
  },
  {
   "cell_type": "code",
   "execution_count": 14,
   "metadata": {},
   "outputs": [
    {
     "data": {
      "text/plain": [
       "['      1.      The Shawshank Redemption(1994)',\n",
       " '      2.      The Godfather(1972)',\n",
       " '      3.      The Godfather: Part II(1974)',\n",
       " '      4.      The Dark Knight(2008)',\n",
       " '      5.      12 Angry Men(1957)',\n",
       " \"      6.      Schindler's List(1993)\",\n",
       " '      7.      The Lord of the Rings: The Return of the King(2003)',\n",
       " '      8.      Pulp Fiction(1994)',\n",
       " '      9.      Il buono, il brutto, il cattivo(1966)',\n",
       " '      10.      The Lord of the Rings: The Fellowship of the Ring(2001)',\n",
       " '      11.      Fight Club(1999)',\n",
       " '      12.      Forrest Gump(1994)',\n",
       " '      13.      Inception(2010)',\n",
       " '      14.      The Lord of the Rings: The Two Towers(2002)',\n",
       " '      15.      Star Wars: Episode V - The Empire Strikes Back(1980)',\n",
       " '      16.      The Matrix(1999)',\n",
       " '      17.      Goodfellas(1990)',\n",
       " \"      18.      One Flew Over the Cuckoo's Nest(1975)\",\n",
       " '      19.      Shichinin no samurai(1954)',\n",
       " '      20.      Se7en(1995)',\n",
       " '      21.      La vita è bella(1997)',\n",
       " '      22.      Cidade de Deus(2002)',\n",
       " '      23.      The Silence of the Lambs(1991)',\n",
       " \"      24.      It's a Wonderful Life(1946)\",\n",
       " '      25.      Star Wars(1977)',\n",
       " '      26.      Saving Private Ryan(1998)',\n",
       " '      27.      Sen to Chihiro no kamikakushi(2001)',\n",
       " '      28.      The Green Mile(1999)',\n",
       " '      29.      Interstellar(2014)',\n",
       " '      30.      Gisaengchung(2019)',\n",
       " '      31.      Léon(1994)',\n",
       " '      32.      The Usual Suspects(1995)',\n",
       " '      33.      Seppuku(1962)',\n",
       " '      34.      The Lion King(1994)',\n",
       " '      35.      The Pianist(2002)',\n",
       " '      36.      Back to the Future(1985)',\n",
       " '      37.      Terminator 2: Judgment Day(1991)',\n",
       " '      38.      American History X(1998)',\n",
       " '      39.      Modern Times(1936)',\n",
       " '      40.      Psycho(1960)',\n",
       " '      41.      Gladiator(2000)',\n",
       " '      42.      City Lights(1931)',\n",
       " '      43.      The Departed(2006)',\n",
       " '      44.      The Intouchables(2011)',\n",
       " '      45.      Whiplash(2014)',\n",
       " '      46.      Hotaru no haka(1988)',\n",
       " '      47.      The Prestige(2006)',\n",
       " '      48.      Once Upon a Time in the West(1968)',\n",
       " '      49.      Casablanca(1942)',\n",
       " '      50.      Nuovo Cinema Paradiso(1988)',\n",
       " '      51.      Rear Window(1954)',\n",
       " '      52.      Alien(1979)',\n",
       " '      53.      Apocalypse Now(1979)',\n",
       " '      54.      Hamilton(2020)',\n",
       " '      55.      Memento(2000)',\n",
       " '      56.      The Great Dictator(1940)',\n",
       " '      57.      Raiders of the Lost Ark(1981)',\n",
       " '      58.      Django Unchained(2012)',\n",
       " '      59.      The Lives of Others(2006)',\n",
       " '      60.      Joker(2019)',\n",
       " '      61.      Paths of Glory(1957)',\n",
       " '      62.      WALL·E(2008)',\n",
       " '      63.      The Shining(1980)',\n",
       " '      64.      Avengers: Infinity War(2018)',\n",
       " '      65.      Sunset Blvd.(1950)',\n",
       " '      66.      Witness for the Prosecution(1957)',\n",
       " '      67.      Oldeuboi(2003)',\n",
       " '      68.      Mononoke-hime(1997)',\n",
       " '      69.      Spider-Man: Into the Spider-Verse(2018)',\n",
       " '      70.      Dr. Strangelove or: How I Learned to Stop Worrying and Love the Bomb(1964)',\n",
       " '      71.      The Dark Knight Rises(2012)',\n",
       " '      72.      Once Upon a Time in America(1984)',\n",
       " '      73.      Aliens(1986)',\n",
       " '      74.      Kimi no na wa.(2016)',\n",
       " '      75.      Coco(2017)',\n",
       " '      76.      Avengers: Endgame(2019)',\n",
       " '      77.      American Beauty(1999)',\n",
       " '      78.      Braveheart(1995)',\n",
       " '      79.      Das Boot(1981)',\n",
       " '      80.      3 Idiots(2009)',\n",
       " '      81.      Toy Story(1995)',\n",
       " '      82.      Capharnaüm(2018)',\n",
       " '      83.      Tengoku to jigoku(1963)',\n",
       " '      84.      Amadeus(1984)',\n",
       " '      85.      Inglourious Basterds(2009)',\n",
       " '      86.      Star Wars: Episode VI - Return of the Jedi(1983)',\n",
       " '      87.      Good Will Hunting(1997)',\n",
       " '      88.      Taare Zameen Par(2007)',\n",
       " '      89.      Reservoir Dogs(1992)',\n",
       " '      90.      2001: A Space Odyssey(1968)',\n",
       " '      91.      Requiem for a Dream(2000)',\n",
       " '      92.      Vertigo(1958)',\n",
       " '      93.      M - Eine Stadt sucht einen Mörder(1931)',\n",
       " '      94.      Jagten(2012)',\n",
       " '      95.      Eternal Sunshine of the Spotless Mind(2004)',\n",
       " '      96.      Citizen Kane(1941)',\n",
       " '      97.      Dangal(2016)',\n",
       " '      98.      Full Metal Jacket(1987)',\n",
       " '      99.      Ladri di biciclette(1948)',\n",
       " \"      100.      Singin' in the Rain(1952)\"]"
      ]
     },
     "execution_count": 14,
     "metadata": {},
     "output_type": "execute_result"
    }
   ],
   "source": [
    "#Saving top 100 movies\n",
    "Movie_Name=Movie_Name[0:100]\n",
    "Movie_Name"
   ]
  },
  {
   "cell_type": "code",
   "execution_count": 15,
   "metadata": {},
   "outputs": [
    {
     "data": {
      "text/html": [
       "<div>\n",
       "<style scoped>\n",
       "    .dataframe tbody tr th:only-of-type {\n",
       "        vertical-align: middle;\n",
       "    }\n",
       "\n",
       "    .dataframe tbody tr th {\n",
       "        vertical-align: top;\n",
       "    }\n",
       "\n",
       "    .dataframe thead th {\n",
       "        text-align: right;\n",
       "    }\n",
       "</style>\n",
       "<table border=\"1\" class=\"dataframe\">\n",
       "  <thead>\n",
       "    <tr style=\"text-align: right;\">\n",
       "      <th></th>\n",
       "      <th>Movie</th>\n",
       "    </tr>\n",
       "  </thead>\n",
       "  <tbody>\n",
       "    <tr>\n",
       "      <th>0</th>\n",
       "      <td>1.      The Shawshank Redemption(1994)</td>\n",
       "    </tr>\n",
       "    <tr>\n",
       "      <th>1</th>\n",
       "      <td>2.      The Godfather(1972)</td>\n",
       "    </tr>\n",
       "    <tr>\n",
       "      <th>2</th>\n",
       "      <td>3.      The Godfather: Part II(1974)</td>\n",
       "    </tr>\n",
       "    <tr>\n",
       "      <th>3</th>\n",
       "      <td>4.      The Dark Knight(2008)</td>\n",
       "    </tr>\n",
       "    <tr>\n",
       "      <th>4</th>\n",
       "      <td>5.      12 Angry Men(1957)</td>\n",
       "    </tr>\n",
       "    <tr>\n",
       "      <th>...</th>\n",
       "      <td>...</td>\n",
       "    </tr>\n",
       "    <tr>\n",
       "      <th>95</th>\n",
       "      <td>96.      Citizen Kane(1941)</td>\n",
       "    </tr>\n",
       "    <tr>\n",
       "      <th>96</th>\n",
       "      <td>97.      Dangal(2016)</td>\n",
       "    </tr>\n",
       "    <tr>\n",
       "      <th>97</th>\n",
       "      <td>98.      Full Metal Jacket(1987)</td>\n",
       "    </tr>\n",
       "    <tr>\n",
       "      <th>98</th>\n",
       "      <td>99.      Ladri di biciclette(1948)</td>\n",
       "    </tr>\n",
       "    <tr>\n",
       "      <th>99</th>\n",
       "      <td>100.      Singin' in the Rain(1952)</td>\n",
       "    </tr>\n",
       "  </tbody>\n",
       "</table>\n",
       "<p>100 rows × 1 columns</p>\n",
       "</div>"
      ],
      "text/plain": [
       "                                           Movie\n",
       "0         1.      The Shawshank Redemption(1994)\n",
       "1                    2.      The Godfather(1972)\n",
       "2           3.      The Godfather: Part II(1974)\n",
       "3                  4.      The Dark Knight(2008)\n",
       "4                     5.      12 Angry Men(1957)\n",
       "..                                           ...\n",
       "95                   96.      Citizen Kane(1941)\n",
       "96                         97.      Dangal(2016)\n",
       "97              98.      Full Metal Jacket(1987)\n",
       "98            99.      Ladri di biciclette(1948)\n",
       "99           100.      Singin' in the Rain(1952)\n",
       "\n",
       "[100 rows x 1 columns]"
      ]
     },
     "execution_count": 15,
     "metadata": {},
     "output_type": "execute_result"
    }
   ],
   "source": [
    "#Feeding data in a dataframe\n",
    "mv=pd.DataFrame({})\n",
    "mv['Movie']=Movie_Name\n",
    "mv"
   ]
  },
  {
   "cell_type": "code",
   "execution_count": 16,
   "metadata": {},
   "outputs": [
    {
     "data": {
      "text/html": [
       "<div>\n",
       "<style scoped>\n",
       "    .dataframe tbody tr th:only-of-type {\n",
       "        vertical-align: middle;\n",
       "    }\n",
       "\n",
       "    .dataframe tbody tr th {\n",
       "        vertical-align: top;\n",
       "    }\n",
       "\n",
       "    .dataframe thead th {\n",
       "        text-align: right;\n",
       "    }\n",
       "</style>\n",
       "<table border=\"1\" class=\"dataframe\">\n",
       "  <thead>\n",
       "    <tr style=\"text-align: right;\">\n",
       "      <th></th>\n",
       "      <th>0</th>\n",
       "      <th>1</th>\n",
       "    </tr>\n",
       "  </thead>\n",
       "  <tbody>\n",
       "    <tr>\n",
       "      <th>0</th>\n",
       "      <td>1</td>\n",
       "      <td>The Shawshank Redemption(1994)</td>\n",
       "    </tr>\n",
       "    <tr>\n",
       "      <th>1</th>\n",
       "      <td>2</td>\n",
       "      <td>The Godfather(1972)</td>\n",
       "    </tr>\n",
       "    <tr>\n",
       "      <th>2</th>\n",
       "      <td>3</td>\n",
       "      <td>The Godfather: Part II(1974)</td>\n",
       "    </tr>\n",
       "    <tr>\n",
       "      <th>3</th>\n",
       "      <td>4</td>\n",
       "      <td>The Dark Knight(2008)</td>\n",
       "    </tr>\n",
       "    <tr>\n",
       "      <th>4</th>\n",
       "      <td>5</td>\n",
       "      <td>12 Angry Men(1957)</td>\n",
       "    </tr>\n",
       "    <tr>\n",
       "      <th>...</th>\n",
       "      <td>...</td>\n",
       "      <td>...</td>\n",
       "    </tr>\n",
       "    <tr>\n",
       "      <th>95</th>\n",
       "      <td>96</td>\n",
       "      <td>Citizen Kane(1941)</td>\n",
       "    </tr>\n",
       "    <tr>\n",
       "      <th>96</th>\n",
       "      <td>97</td>\n",
       "      <td>Dangal(2016)</td>\n",
       "    </tr>\n",
       "    <tr>\n",
       "      <th>97</th>\n",
       "      <td>98</td>\n",
       "      <td>Full Metal Jacket(1987)</td>\n",
       "    </tr>\n",
       "    <tr>\n",
       "      <th>98</th>\n",
       "      <td>99</td>\n",
       "      <td>Ladri di biciclette(1948)</td>\n",
       "    </tr>\n",
       "    <tr>\n",
       "      <th>99</th>\n",
       "      <td>100</td>\n",
       "      <td>Singin' in the Rain(1952)</td>\n",
       "    </tr>\n",
       "  </tbody>\n",
       "</table>\n",
       "<p>100 rows × 2 columns</p>\n",
       "</div>"
      ],
      "text/plain": [
       "            0                                     1\n",
       "0           1        The Shawshank Redemption(1994)\n",
       "1           2                   The Godfather(1972)\n",
       "2           3          The Godfather: Part II(1974)\n",
       "3           4                 The Dark Knight(2008)\n",
       "4           5                    12 Angry Men(1957)\n",
       "..        ...                                   ...\n",
       "95         96                    Citizen Kane(1941)\n",
       "96         97                          Dangal(2016)\n",
       "97         98               Full Metal Jacket(1987)\n",
       "98         99             Ladri di biciclette(1948)\n",
       "99        100             Singin' in the Rain(1952)\n",
       "\n",
       "[100 rows x 2 columns]"
      ]
     },
     "execution_count": 16,
     "metadata": {},
     "output_type": "execute_result"
    }
   ],
   "source": [
    "#Splitting ranks with Movie and year\n",
    "new = mv[\"Movie\"].str.split(\".\", n = 1, expand = True) \n",
    "new"
   ]
  },
  {
   "cell_type": "code",
   "execution_count": 17,
   "metadata": {},
   "outputs": [
    {
     "data": {
      "text/html": [
       "<div>\n",
       "<style scoped>\n",
       "    .dataframe tbody tr th:only-of-type {\n",
       "        vertical-align: middle;\n",
       "    }\n",
       "\n",
       "    .dataframe tbody tr th {\n",
       "        vertical-align: top;\n",
       "    }\n",
       "\n",
       "    .dataframe thead th {\n",
       "        text-align: right;\n",
       "    }\n",
       "</style>\n",
       "<table border=\"1\" class=\"dataframe\">\n",
       "  <thead>\n",
       "    <tr style=\"text-align: right;\">\n",
       "      <th></th>\n",
       "      <th>0</th>\n",
       "      <th>1</th>\n",
       "    </tr>\n",
       "  </thead>\n",
       "  <tbody>\n",
       "    <tr>\n",
       "      <th>0</th>\n",
       "      <td>The Shawshank Redemption</td>\n",
       "      <td>1994)</td>\n",
       "    </tr>\n",
       "    <tr>\n",
       "      <th>1</th>\n",
       "      <td>The Godfather</td>\n",
       "      <td>1972)</td>\n",
       "    </tr>\n",
       "    <tr>\n",
       "      <th>2</th>\n",
       "      <td>The Godfather: Part II</td>\n",
       "      <td>1974)</td>\n",
       "    </tr>\n",
       "    <tr>\n",
       "      <th>3</th>\n",
       "      <td>The Dark Knight</td>\n",
       "      <td>2008)</td>\n",
       "    </tr>\n",
       "    <tr>\n",
       "      <th>4</th>\n",
       "      <td>12 Angry Men</td>\n",
       "      <td>1957)</td>\n",
       "    </tr>\n",
       "    <tr>\n",
       "      <th>...</th>\n",
       "      <td>...</td>\n",
       "      <td>...</td>\n",
       "    </tr>\n",
       "    <tr>\n",
       "      <th>95</th>\n",
       "      <td>Citizen Kane</td>\n",
       "      <td>1941)</td>\n",
       "    </tr>\n",
       "    <tr>\n",
       "      <th>96</th>\n",
       "      <td>Dangal</td>\n",
       "      <td>2016)</td>\n",
       "    </tr>\n",
       "    <tr>\n",
       "      <th>97</th>\n",
       "      <td>Full Metal Jacket</td>\n",
       "      <td>1987)</td>\n",
       "    </tr>\n",
       "    <tr>\n",
       "      <th>98</th>\n",
       "      <td>Ladri di biciclette</td>\n",
       "      <td>1948)</td>\n",
       "    </tr>\n",
       "    <tr>\n",
       "      <th>99</th>\n",
       "      <td>Singin' in the Rain</td>\n",
       "      <td>1952)</td>\n",
       "    </tr>\n",
       "  </tbody>\n",
       "</table>\n",
       "<p>100 rows × 2 columns</p>\n",
       "</div>"
      ],
      "text/plain": [
       "                                 0      1\n",
       "0         The Shawshank Redemption  1994)\n",
       "1                    The Godfather  1972)\n",
       "2           The Godfather: Part II  1974)\n",
       "3                  The Dark Knight  2008)\n",
       "4                     12 Angry Men  1957)\n",
       "..                             ...    ...\n",
       "95                    Citizen Kane  1941)\n",
       "96                          Dangal  2016)\n",
       "97               Full Metal Jacket  1987)\n",
       "98             Ladri di biciclette  1948)\n",
       "99             Singin' in the Rain  1952)\n",
       "\n",
       "[100 rows x 2 columns]"
      ]
     },
     "execution_count": 17,
     "metadata": {},
     "output_type": "execute_result"
    }
   ],
   "source": [
    "#Splitting movie and year\n",
    "new2=new[1].str.split(\"(\", n = 1, expand = True) \n",
    "new2"
   ]
  },
  {
   "cell_type": "code",
   "execution_count": 18,
   "metadata": {},
   "outputs": [
    {
     "data": {
      "text/html": [
       "<div>\n",
       "<style scoped>\n",
       "    .dataframe tbody tr th:only-of-type {\n",
       "        vertical-align: middle;\n",
       "    }\n",
       "\n",
       "    .dataframe tbody tr th {\n",
       "        vertical-align: top;\n",
       "    }\n",
       "\n",
       "    .dataframe thead th {\n",
       "        text-align: right;\n",
       "    }\n",
       "</style>\n",
       "<table border=\"1\" class=\"dataframe\">\n",
       "  <thead>\n",
       "    <tr style=\"text-align: right;\">\n",
       "      <th></th>\n",
       "      <th>0</th>\n",
       "      <th>1</th>\n",
       "    </tr>\n",
       "  </thead>\n",
       "  <tbody>\n",
       "    <tr>\n",
       "      <th>0</th>\n",
       "      <td>The Shawshank Redemption</td>\n",
       "      <td>1994</td>\n",
       "    </tr>\n",
       "    <tr>\n",
       "      <th>1</th>\n",
       "      <td>The Godfather</td>\n",
       "      <td>1972</td>\n",
       "    </tr>\n",
       "    <tr>\n",
       "      <th>2</th>\n",
       "      <td>The Godfather: Part II</td>\n",
       "      <td>1974</td>\n",
       "    </tr>\n",
       "    <tr>\n",
       "      <th>3</th>\n",
       "      <td>The Dark Knight</td>\n",
       "      <td>2008</td>\n",
       "    </tr>\n",
       "    <tr>\n",
       "      <th>4</th>\n",
       "      <td>12 Angry Men</td>\n",
       "      <td>1957</td>\n",
       "    </tr>\n",
       "    <tr>\n",
       "      <th>...</th>\n",
       "      <td>...</td>\n",
       "      <td>...</td>\n",
       "    </tr>\n",
       "    <tr>\n",
       "      <th>95</th>\n",
       "      <td>Citizen Kane</td>\n",
       "      <td>1941</td>\n",
       "    </tr>\n",
       "    <tr>\n",
       "      <th>96</th>\n",
       "      <td>Dangal</td>\n",
       "      <td>2016</td>\n",
       "    </tr>\n",
       "    <tr>\n",
       "      <th>97</th>\n",
       "      <td>Full Metal Jacket</td>\n",
       "      <td>1987</td>\n",
       "    </tr>\n",
       "    <tr>\n",
       "      <th>98</th>\n",
       "      <td>Ladri di biciclette</td>\n",
       "      <td>1948</td>\n",
       "    </tr>\n",
       "    <tr>\n",
       "      <th>99</th>\n",
       "      <td>Singin' in the Rain</td>\n",
       "      <td>1952</td>\n",
       "    </tr>\n",
       "  </tbody>\n",
       "</table>\n",
       "<p>100 rows × 2 columns</p>\n",
       "</div>"
      ],
      "text/plain": [
       "                                 0     1\n",
       "0         The Shawshank Redemption  1994\n",
       "1                    The Godfather  1972\n",
       "2           The Godfather: Part II  1974\n",
       "3                  The Dark Knight  2008\n",
       "4                     12 Angry Men  1957\n",
       "..                             ...   ...\n",
       "95                    Citizen Kane  1941\n",
       "96                          Dangal  2016\n",
       "97               Full Metal Jacket  1987\n",
       "98             Ladri di biciclette  1948\n",
       "99             Singin' in the Rain  1952\n",
       "\n",
       "[100 rows x 2 columns]"
      ]
     },
     "execution_count": 18,
     "metadata": {},
     "output_type": "execute_result"
    }
   ],
   "source": [
    "#Removing bracket from year\n",
    "new2[1]=new2[1].str.replace('[^.\\d]','')\n",
    "new2"
   ]
  },
  {
   "cell_type": "code",
   "execution_count": 19,
   "metadata": {},
   "outputs": [
    {
     "data": {
      "text/plain": [
       "[<td class=\"ratingColumn imdbRating\">\n",
       " <strong title=\"9.2 based on 2,332,587 user ratings\">9.2</strong>\n",
       " </td>,\n",
       " <td class=\"ratingColumn imdbRating\">\n",
       " <strong title=\"9.1 based on 1,612,502 user ratings\">9.1</strong>\n",
       " </td>,\n",
       " <td class=\"ratingColumn imdbRating\">\n",
       " <strong title=\"9.0 based on 1,125,296 user ratings\">9.0</strong>\n",
       " </td>,\n",
       " <td class=\"ratingColumn imdbRating\">\n",
       " <strong title=\"9.0 based on 2,294,020 user ratings\">9.0</strong>\n",
       " </td>,\n",
       " <td class=\"ratingColumn imdbRating\">\n",
       " <strong title=\"8.9 based on 686,607 user ratings\">8.9</strong>\n",
       " </td>,\n",
       " <td class=\"ratingColumn imdbRating\">\n",
       " <strong title=\"8.9 based on 1,208,937 user ratings\">8.9</strong>\n",
       " </td>,\n",
       " <td class=\"ratingColumn imdbRating\">\n",
       " <strong title=\"8.9 based on 1,636,885 user ratings\">8.9</strong>\n",
       " </td>,\n",
       " <td class=\"ratingColumn imdbRating\">\n",
       " <strong title=\"8.8 based on 1,819,128 user ratings\">8.8</strong>\n",
       " </td>,\n",
       " <td class=\"ratingColumn imdbRating\">\n",
       " <strong title=\"8.8 based on 685,859 user ratings\">8.8</strong>\n",
       " </td>,\n",
       " <td class=\"ratingColumn imdbRating\">\n",
       " <strong title=\"8.8 based on 1,654,611 user ratings\">8.8</strong>\n",
       " </td>,\n",
       " <td class=\"ratingColumn imdbRating\">\n",
       " <strong title=\"8.8 based on 1,847,368 user ratings\">8.8</strong>\n",
       " </td>,\n",
       " <td class=\"ratingColumn imdbRating\">\n",
       " <strong title=\"8.8 based on 1,800,787 user ratings\">8.8</strong>\n",
       " </td>,\n",
       " <td class=\"ratingColumn imdbRating\">\n",
       " <strong title=\"8.7 based on 2,057,969 user ratings\">8.7</strong>\n",
       " </td>,\n",
       " <td class=\"ratingColumn imdbRating\">\n",
       " <strong title=\"8.7 based on 1,480,154 user ratings\">8.7</strong>\n",
       " </td>,\n",
       " <td class=\"ratingColumn imdbRating\">\n",
       " <strong title=\"8.7 based on 1,155,216 user ratings\">8.7</strong>\n",
       " </td>,\n",
       " <td class=\"ratingColumn imdbRating\">\n",
       " <strong title=\"8.6 based on 1,669,558 user ratings\">8.6</strong>\n",
       " </td>,\n",
       " <td class=\"ratingColumn imdbRating\">\n",
       " <strong title=\"8.6 based on 1,015,922 user ratings\">8.6</strong>\n",
       " </td>,\n",
       " <td class=\"ratingColumn imdbRating\">\n",
       " <strong title=\"8.6 based on 914,703 user ratings\">8.6</strong>\n",
       " </td>,\n",
       " <td class=\"ratingColumn imdbRating\">\n",
       " <strong title=\"8.6 based on 314,600 user ratings\">8.6</strong>\n",
       " </td>,\n",
       " <td class=\"ratingColumn imdbRating\">\n",
       " <strong title=\"8.6 based on 1,438,495 user ratings\">8.6</strong>\n",
       " </td>,\n",
       " <td class=\"ratingColumn imdbRating\">\n",
       " <strong title=\"8.6 based on 620,973 user ratings\">8.6</strong>\n",
       " </td>,\n",
       " <td class=\"ratingColumn imdbRating\">\n",
       " <strong title=\"8.6 based on 697,243 user ratings\">8.6</strong>\n",
       " </td>,\n",
       " <td class=\"ratingColumn imdbRating\">\n",
       " <strong title=\"8.6 based on 1,265,038 user ratings\">8.6</strong>\n",
       " </td>,\n",
       " <td class=\"ratingColumn imdbRating\">\n",
       " <strong title=\"8.6 based on 403,934 user ratings\">8.6</strong>\n",
       " </td>,\n",
       " <td class=\"ratingColumn imdbRating\">\n",
       " <strong title=\"8.6 based on 1,227,419 user ratings\">8.6</strong>\n",
       " </td>,\n",
       " <td class=\"ratingColumn imdbRating\">\n",
       " <strong title=\"8.6 based on 1,230,802 user ratings\">8.6</strong>\n",
       " </td>,\n",
       " <td class=\"ratingColumn imdbRating\">\n",
       " <strong title=\"8.5 based on 647,421 user ratings\">8.5</strong>\n",
       " </td>,\n",
       " <td class=\"ratingColumn imdbRating\">\n",
       " <strong title=\"8.5 based on 1,142,455 user ratings\">8.5</strong>\n",
       " </td>,\n",
       " <td class=\"ratingColumn imdbRating\">\n",
       " <strong title=\"8.5 based on 1,502,905 user ratings\">8.5</strong>\n",
       " </td>,\n",
       " <td class=\"ratingColumn imdbRating\">\n",
       " <strong title=\"8.5 based on 539,763 user ratings\">8.5</strong>\n",
       " </td>,\n",
       " <td class=\"ratingColumn imdbRating\">\n",
       " <strong title=\"8.5 based on 1,031,035 user ratings\">8.5</strong>\n",
       " </td>,\n",
       " <td class=\"ratingColumn imdbRating\">\n",
       " <strong title=\"8.5 based on 987,770 user ratings\">8.5</strong>\n",
       " </td>,\n",
       " <td class=\"ratingColumn imdbRating\">\n",
       " <strong title=\"8.5 based on 41,353 user ratings\">8.5</strong>\n",
       " </td>,\n",
       " <td class=\"ratingColumn imdbRating\">\n",
       " <strong title=\"8.5 based on 938,057 user ratings\">8.5</strong>\n",
       " </td>,\n",
       " <td class=\"ratingColumn imdbRating\">\n",
       " <strong title=\"8.5 based on 726,228 user ratings\">8.5</strong>\n",
       " </td>,\n",
       " <td class=\"ratingColumn imdbRating\">\n",
       " <strong title=\"8.5 based on 1,053,698 user ratings\">8.5</strong>\n",
       " </td>,\n",
       " <td class=\"ratingColumn imdbRating\">\n",
       " <strong title=\"8.5 based on 992,502 user ratings\">8.5</strong>\n",
       " </td>,\n",
       " <td class=\"ratingColumn imdbRating\">\n",
       " <strong title=\"8.5 based on 1,031,505 user ratings\">8.5</strong>\n",
       " </td>,\n",
       " <td class=\"ratingColumn imdbRating\">\n",
       " <strong title=\"8.5 based on 216,891 user ratings\">8.5</strong>\n",
       " </td>,\n",
       " <td class=\"ratingColumn imdbRating\">\n",
       " <strong title=\"8.5 based on 601,971 user ratings\">8.5</strong>\n",
       " </td>,\n",
       " <td class=\"ratingColumn imdbRating\">\n",
       " <strong title=\"8.5 based on 1,336,495 user ratings\">8.5</strong>\n",
       " </td>,\n",
       " <td class=\"ratingColumn imdbRating\">\n",
       " <strong title=\"8.5 based on 167,097 user ratings\">8.5</strong>\n",
       " </td>,\n",
       " <td class=\"ratingColumn imdbRating\">\n",
       " <strong title=\"8.5 based on 1,184,769 user ratings\">8.5</strong>\n",
       " </td>,\n",
       " <td class=\"ratingColumn imdbRating\">\n",
       " <strong title=\"8.5 based on 755,552 user ratings\">8.5</strong>\n",
       " </td>,\n",
       " <td class=\"ratingColumn imdbRating\">\n",
       " <strong title=\"8.5 based on 713,183 user ratings\">8.5</strong>\n",
       " </td>,\n",
       " <td class=\"ratingColumn imdbRating\">\n",
       " <strong title=\"8.5 based on 233,774 user ratings\">8.5</strong>\n",
       " </td>,\n",
       " <td class=\"ratingColumn imdbRating\">\n",
       " <strong title=\"8.5 based on 1,185,094 user ratings\">8.5</strong>\n",
       " </td>,\n",
       " <td class=\"ratingColumn imdbRating\">\n",
       " <strong title=\"8.4 based on 301,790 user ratings\">8.4</strong>\n",
       " </td>,\n",
       " <td class=\"ratingColumn imdbRating\">\n",
       " <strong title=\"8.4 based on 520,267 user ratings\">8.4</strong>\n",
       " </td>,\n",
       " <td class=\"ratingColumn imdbRating\">\n",
       " <strong title=\"8.4 based on 229,571 user ratings\">8.4</strong>\n",
       " </td>,\n",
       " <td class=\"ratingColumn imdbRating\">\n",
       " <strong title=\"8.4 based on 442,483 user ratings\">8.4</strong>\n",
       " </td>,\n",
       " <td class=\"ratingColumn imdbRating\">\n",
       " <strong title=\"8.4 based on 785,140 user ratings\">8.4</strong>\n",
       " </td>,\n",
       " <td class=\"ratingColumn imdbRating\">\n",
       " <strong title=\"8.4 based on 604,144 user ratings\">8.4</strong>\n",
       " </td>,\n",
       " <td class=\"ratingColumn imdbRating\">\n",
       " <strong title=\"8.4 based on 53,094 user ratings\">8.4</strong>\n",
       " </td>,\n",
       " <td class=\"ratingColumn imdbRating\">\n",
       " <strong title=\"8.4 based on 1,121,795 user ratings\">8.4</strong>\n",
       " </td>,\n",
       " <td class=\"ratingColumn imdbRating\">\n",
       " <strong title=\"8.4 based on 202,334 user ratings\">8.4</strong>\n",
       " </td>,\n",
       " <td class=\"ratingColumn imdbRating\">\n",
       " <strong title=\"8.4 based on 881,433 user ratings\">8.4</strong>\n",
       " </td>,\n",
       " <td class=\"ratingColumn imdbRating\">\n",
       " <strong title=\"8.4 based on 1,351,453 user ratings\">8.4</strong>\n",
       " </td>,\n",
       " <td class=\"ratingColumn imdbRating\">\n",
       " <strong title=\"8.4 based on 357,374 user ratings\">8.4</strong>\n",
       " </td>,\n",
       " <td class=\"ratingColumn imdbRating\">\n",
       " <strong title=\"8.4 based on 927,660 user ratings\">8.4</strong>\n",
       " </td>,\n",
       " <td class=\"ratingColumn imdbRating\">\n",
       " <strong title=\"8.4 based on 177,297 user ratings\">8.4</strong>\n",
       " </td>,\n",
       " <td class=\"ratingColumn imdbRating\">\n",
       " <strong title=\"8.4 based on 995,921 user ratings\">8.4</strong>\n",
       " </td>,\n",
       " <td class=\"ratingColumn imdbRating\">\n",
       " <strong title=\"8.4 based on 894,681 user ratings\">8.4</strong>\n",
       " </td>,\n",
       " <td class=\"ratingColumn imdbRating\">\n",
       " <strong title=\"8.4 based on 827,771 user ratings\">8.4</strong>\n",
       " </td>,\n",
       " <td class=\"ratingColumn imdbRating\">\n",
       " <strong title=\"8.4 based on 200,815 user ratings\">8.4</strong>\n",
       " </td>,\n",
       " <td class=\"ratingColumn imdbRating\">\n",
       " <strong title=\"8.4 based on 108,319 user ratings\">8.4</strong>\n",
       " </td>,\n",
       " <td class=\"ratingColumn imdbRating\">\n",
       " <strong title=\"8.3 based on 513,091 user ratings\">8.3</strong>\n",
       " </td>,\n",
       " <td class=\"ratingColumn imdbRating\">\n",
       " <strong title=\"8.3 based on 341,353 user ratings\">8.3</strong>\n",
       " </td>,\n",
       " <td class=\"ratingColumn imdbRating\">\n",
       " <strong title=\"8.3 based on 370,542 user ratings\">8.3</strong>\n",
       " </td>,\n",
       " <td class=\"ratingColumn imdbRating\">\n",
       " <strong title=\"8.3 based on 448,917 user ratings\">8.3</strong>\n",
       " </td>,\n",
       " <td class=\"ratingColumn imdbRating\">\n",
       " <strong title=\"8.3 based on 1,511,121 user ratings\">8.3</strong>\n",
       " </td>,\n",
       " <td class=\"ratingColumn imdbRating\">\n",
       " <strong title=\"8.3 based on 309,916 user ratings\">8.3</strong>\n",
       " </td>,\n",
       " <td class=\"ratingColumn imdbRating\">\n",
       " <strong title=\"8.3 based on 650,971 user ratings\">8.3</strong>\n",
       " </td>,\n",
       " <td class=\"ratingColumn imdbRating\">\n",
       " <strong title=\"8.3 based on 192,334 user ratings\">8.3</strong>\n",
       " </td>,\n",
       " <td class=\"ratingColumn imdbRating\">\n",
       " <strong title=\"8.3 based on 378,833 user ratings\">8.3</strong>\n",
       " </td>,\n",
       " <td class=\"ratingColumn imdbRating\">\n",
       " <strong title=\"8.3 based on 799,092 user ratings\">8.3</strong>\n",
       " </td>,\n",
       " <td class=\"ratingColumn imdbRating\">\n",
       " <strong title=\"8.3 based on 1,066,606 user ratings\">8.3</strong>\n",
       " </td>,\n",
       " <td class=\"ratingColumn imdbRating\">\n",
       " <strong title=\"8.3 based on 956,383 user ratings\">8.3</strong>\n",
       " </td>,\n",
       " <td class=\"ratingColumn imdbRating\">\n",
       " <strong title=\"8.3 based on 231,038 user ratings\">8.3</strong>\n",
       " </td>,\n",
       " <td class=\"ratingColumn imdbRating\">\n",
       " <strong title=\"8.3 based on 342,648 user ratings\">8.3</strong>\n",
       " </td>,\n",
       " <td class=\"ratingColumn imdbRating\">\n",
       " <strong title=\"8.3 based on 884,092 user ratings\">8.3</strong>\n",
       " </td>,\n",
       " <td class=\"ratingColumn imdbRating\">\n",
       " <strong title=\"8.3 based on 61,181 user ratings\">8.3</strong>\n",
       " </td>,\n",
       " <td class=\"ratingColumn imdbRating\">\n",
       " <strong title=\"8.3 based on 33,886 user ratings\">8.3</strong>\n",
       " </td>,\n",
       " <td class=\"ratingColumn imdbRating\">\n",
       " <strong title=\"8.3 based on 367,821 user ratings\">8.3</strong>\n",
       " </td>,\n",
       " <td class=\"ratingColumn imdbRating\">\n",
       " <strong title=\"8.3 based on 1,261,724 user ratings\">8.3</strong>\n",
       " </td>,\n",
       " <td class=\"ratingColumn imdbRating\">\n",
       " <strong title=\"8.3 based on 947,293 user ratings\">8.3</strong>\n",
       " </td>,\n",
       " <td class=\"ratingColumn imdbRating\">\n",
       " <strong title=\"8.3 based on 857,901 user ratings\">8.3</strong>\n",
       " </td>,\n",
       " <td class=\"ratingColumn imdbRating\">\n",
       " <strong title=\"8.3 based on 167,821 user ratings\">8.3</strong>\n",
       " </td>,\n",
       " <td class=\"ratingColumn imdbRating\">\n",
       " <strong title=\"8.3 based on 915,107 user ratings\">8.3</strong>\n",
       " </td>,\n",
       " <td class=\"ratingColumn imdbRating\">\n",
       " <strong title=\"8.3 based on 601,372 user ratings\">8.3</strong>\n",
       " </td>,\n",
       " <td class=\"ratingColumn imdbRating\">\n",
       " <strong title=\"8.3 based on 764,081 user ratings\">8.3</strong>\n",
       " </td>,\n",
       " <td class=\"ratingColumn imdbRating\">\n",
       " <strong title=\"8.3 based on 362,974 user ratings\">8.3</strong>\n",
       " </td>,\n",
       " <td class=\"ratingColumn imdbRating\">\n",
       " <strong title=\"8.3 based on 142,824 user ratings\">8.3</strong>\n",
       " </td>,\n",
       " <td class=\"ratingColumn imdbRating\">\n",
       " <strong title=\"8.3 based on 279,449 user ratings\">8.3</strong>\n",
       " </td>,\n",
       " <td class=\"ratingColumn imdbRating\">\n",
       " <strong title=\"8.3 based on 908,632 user ratings\">8.3</strong>\n",
       " </td>,\n",
       " <td class=\"ratingColumn imdbRating\">\n",
       " <strong title=\"8.3 based on 401,510 user ratings\">8.3</strong>\n",
       " </td>,\n",
       " <td class=\"ratingColumn imdbRating\">\n",
       " <strong title=\"8.3 based on 155,244 user ratings\">8.3</strong>\n",
       " </td>,\n",
       " <td class=\"ratingColumn imdbRating\">\n",
       " <strong title=\"8.2 based on 672,834 user ratings\">8.2</strong>\n",
       " </td>,\n",
       " <td class=\"ratingColumn imdbRating\">\n",
       " <strong title=\"8.2 based on 145,712 user ratings\">8.2</strong>\n",
       " </td>,\n",
       " <td class=\"ratingColumn imdbRating\">\n",
       " <strong title=\"8.2 based on 218,097 user ratings\">8.2</strong>\n",
       " </td>,\n",
       " <td class=\"ratingColumn imdbRating\">\n",
       " <strong title=\"8.2 based on 112,644 user ratings\">8.2</strong>\n",
       " </td>,\n",
       " <td class=\"ratingColumn imdbRating\">\n",
       " <strong title=\"8.2 based on 298,144 user ratings\">8.2</strong>\n",
       " </td>,\n",
       " <td class=\"ratingColumn imdbRating\">\n",
       " <strong title=\"8.2 based on 779,467 user ratings\">8.2</strong>\n",
       " </td>,\n",
       " <td class=\"ratingColumn imdbRating\">\n",
       " <strong title=\"8.2 based on 755,470 user ratings\">8.2</strong>\n",
       " </td>,\n",
       " <td class=\"ratingColumn imdbRating\">\n",
       " <strong title=\"8.2 based on 416,318 user ratings\">8.2</strong>\n",
       " </td>,\n",
       " <td class=\"ratingColumn imdbRating\">\n",
       " <strong title=\"8.2 based on 737,918 user ratings\">8.2</strong>\n",
       " </td>,\n",
       " <td class=\"ratingColumn imdbRating\">\n",
       " <strong title=\"8.2 based on 68,033 user ratings\">8.2</strong>\n",
       " </td>,\n",
       " <td class=\"ratingColumn imdbRating\">\n",
       " <strong title=\"8.2 based on 58,324 user ratings\">8.2</strong>\n",
       " </td>,\n",
       " <td class=\"ratingColumn imdbRating\">\n",
       " <strong title=\"8.2 based on 721,373 user ratings\">8.2</strong>\n",
       " </td>,\n",
       " <td class=\"ratingColumn imdbRating\">\n",
       " <strong title=\"8.2 based on 267,119 user ratings\">8.2</strong>\n",
       " </td>,\n",
       " <td class=\"ratingColumn imdbRating\">\n",
       " <strong title=\"8.2 based on 754,562 user ratings\">8.2</strong>\n",
       " </td>,\n",
       " <td class=\"ratingColumn imdbRating\">\n",
       " <strong title=\"8.2 based on 701,697 user ratings\">8.2</strong>\n",
       " </td>,\n",
       " <td class=\"ratingColumn imdbRating\">\n",
       " <strong title=\"8.2 based on 219,027 user ratings\">8.2</strong>\n",
       " </td>,\n",
       " <td class=\"ratingColumn imdbRating\">\n",
       " <strong title=\"8.2 based on 240,787 user ratings\">8.2</strong>\n",
       " </td>,\n",
       " <td class=\"ratingColumn imdbRating\">\n",
       " <strong title=\"8.2 based on 148,861 user ratings\">8.2</strong>\n",
       " </td>,\n",
       " <td class=\"ratingColumn imdbRating\">\n",
       " <strong title=\"8.2 based on 159,441 user ratings\">8.2</strong>\n",
       " </td>,\n",
       " <td class=\"ratingColumn imdbRating\">\n",
       " <strong title=\"8.2 based on 231,851 user ratings\">8.2</strong>\n",
       " </td>,\n",
       " <td class=\"ratingColumn imdbRating\">\n",
       " <strong title=\"8.2 based on 163,667 user ratings\">8.2</strong>\n",
       " </td>,\n",
       " <td class=\"ratingColumn imdbRating\">\n",
       " <strong title=\"8.2 based on 142,982 user ratings\">8.2</strong>\n",
       " </td>,\n",
       " <td class=\"ratingColumn imdbRating\">\n",
       " <strong title=\"8.2 based on 293,025 user ratings\">8.2</strong>\n",
       " </td>,\n",
       " <td class=\"ratingColumn imdbRating\">\n",
       " <strong title=\"8.2 based on 932,023 user ratings\">8.2</strong>\n",
       " </td>,\n",
       " <td class=\"ratingColumn imdbRating\">\n",
       " <strong title=\"8.2 based on 690,343 user ratings\">8.2</strong>\n",
       " </td>,\n",
       " <td class=\"ratingColumn imdbRating\">\n",
       " <strong title=\"8.2 based on 574,459 user ratings\">8.2</strong>\n",
       " </td>,\n",
       " <td class=\"ratingColumn imdbRating\">\n",
       " <strong title=\"8.2 based on 530,319 user ratings\">8.2</strong>\n",
       " </td>,\n",
       " <td class=\"ratingColumn imdbRating\">\n",
       " <strong title=\"8.2 based on 790,749 user ratings\">8.2</strong>\n",
       " </td>,\n",
       " <td class=\"ratingColumn imdbRating\">\n",
       " <strong title=\"8.2 based on 371,763 user ratings\">8.2</strong>\n",
       " </td>,\n",
       " <td class=\"ratingColumn imdbRating\">\n",
       " <strong title=\"8.2 based on 499,549 user ratings\">8.2</strong>\n",
       " </td>,\n",
       " <td class=\"ratingColumn imdbRating\">\n",
       " <strong title=\"8.2 based on 110,693 user ratings\">8.2</strong>\n",
       " </td>,\n",
       " <td class=\"ratingColumn imdbRating\">\n",
       " <strong title=\"8.2 based on 1,303,934 user ratings\">8.2</strong>\n",
       " </td>,\n",
       " <td class=\"ratingColumn imdbRating\">\n",
       " <strong title=\"8.2 based on 151,926 user ratings\">8.2</strong>\n",
       " </td>,\n",
       " <td class=\"ratingColumn imdbRating\">\n",
       " <strong title=\"8.2 based on 330,306 user ratings\">8.2</strong>\n",
       " </td>,\n",
       " <td class=\"ratingColumn imdbRating\">\n",
       " <strong title=\"8.2 based on 64,892 user ratings\">8.2</strong>\n",
       " </td>,\n",
       " <td class=\"ratingColumn imdbRating\">\n",
       " <strong title=\"8.2 based on 374,595 user ratings\">8.2</strong>\n",
       " </td>,\n",
       " <td class=\"ratingColumn imdbRating\">\n",
       " <strong title=\"8.2 based on 243,091 user ratings\">8.2</strong>\n",
       " </td>,\n",
       " <td class=\"ratingColumn imdbRating\">\n",
       " <strong title=\"8.2 based on 112,017 user ratings\">8.2</strong>\n",
       " </td>,\n",
       " <td class=\"ratingColumn imdbRating\">\n",
       " <strong title=\"8.2 based on 331,779 user ratings\">8.2</strong>\n",
       " </td>,\n",
       " <td class=\"ratingColumn imdbRating\">\n",
       " <strong title=\"8.2 based on 120,162 user ratings\">8.2</strong>\n",
       " </td>,\n",
       " <td class=\"ratingColumn imdbRating\">\n",
       " <strong title=\"8.2 based on 464,259 user ratings\">8.2</strong>\n",
       " </td>,\n",
       " <td class=\"ratingColumn imdbRating\">\n",
       " <strong title=\"8.2 based on 845,700 user ratings\">8.2</strong>\n",
       " </td>,\n",
       " <td class=\"ratingColumn imdbRating\">\n",
       " <strong title=\"8.2 based on 223,976 user ratings\">8.2</strong>\n",
       " </td>,\n",
       " <td class=\"ratingColumn imdbRating\">\n",
       " <strong title=\"8.2 based on 1,178,066 user ratings\">8.2</strong>\n",
       " </td>,\n",
       " <td class=\"ratingColumn imdbRating\">\n",
       " <strong title=\"8.2 based on 616,899 user ratings\">8.2</strong>\n",
       " </td>,\n",
       " <td class=\"ratingColumn imdbRating\">\n",
       " <strong title=\"8.1 based on 192,331 user ratings\">8.1</strong>\n",
       " </td>,\n",
       " <td class=\"ratingColumn imdbRating\">\n",
       " <strong title=\"8.1 based on 515,042 user ratings\">8.1</strong>\n",
       " </td>,\n",
       " <td class=\"ratingColumn imdbRating\">\n",
       " <strong title=\"8.1 based on 533,582 user ratings\">8.1</strong>\n",
       " </td>,\n",
       " <td class=\"ratingColumn imdbRating\">\n",
       " <strong title=\"8.1 based on 289,238 user ratings\">8.1</strong>\n",
       " </td>,\n",
       " <td class=\"ratingColumn imdbRating\">\n",
       " <strong title=\"8.1 based on 320,668 user ratings\">8.1</strong>\n",
       " </td>,\n",
       " <td class=\"ratingColumn imdbRating\">\n",
       " <strong title=\"8.1 based on 69,175 user ratings\">8.1</strong>\n",
       " </td>,\n",
       " <td class=\"ratingColumn imdbRating\">\n",
       " <strong title=\"8.1 based on 113,918 user ratings\">8.1</strong>\n",
       " </td>,\n",
       " <td class=\"ratingColumn imdbRating\">\n",
       " <strong title=\"8.1 based on 157,630 user ratings\">8.1</strong>\n",
       " </td>,\n",
       " <td class=\"ratingColumn imdbRating\">\n",
       " <strong title=\"8.1 based on 428,880 user ratings\">8.1</strong>\n",
       " </td>,\n",
       " <td class=\"ratingColumn imdbRating\">\n",
       " <strong title=\"8.1 based on 1,124,150 user ratings\">8.1</strong>\n",
       " </td>,\n",
       " <td class=\"ratingColumn imdbRating\">\n",
       " <strong title=\"8.1 based on 100,559 user ratings\">8.1</strong>\n",
       " </td>,\n",
       " <td class=\"ratingColumn imdbRating\">\n",
       " <strong title=\"8.1 based on 293,054 user ratings\">8.1</strong>\n",
       " </td>,\n",
       " <td class=\"ratingColumn imdbRating\">\n",
       " <strong title=\"8.1 based on 78,501 user ratings\">8.1</strong>\n",
       " </td>,\n",
       " <td class=\"ratingColumn imdbRating\">\n",
       " <strong title=\"8.1 based on 852,945 user ratings\">8.1</strong>\n",
       " </td>,\n",
       " <td class=\"ratingColumn imdbRating\">\n",
       " <strong title=\"8.1 based on 1,029,645 user ratings\">8.1</strong>\n",
       " </td>,\n",
       " <td class=\"ratingColumn imdbRating\">\n",
       " <strong title=\"8.1 based on 612,265 user ratings\">8.1</strong>\n",
       " </td>,\n",
       " <td class=\"ratingColumn imdbRating\">\n",
       " <strong title=\"8.1 based on 164,048 user ratings\">8.1</strong>\n",
       " </td>,\n",
       " <td class=\"ratingColumn imdbRating\">\n",
       " <strong title=\"8.1 based on 219,196 user ratings\">8.1</strong>\n",
       " </td>,\n",
       " <td class=\"ratingColumn imdbRating\">\n",
       " <strong title=\"8.1 based on 369,894 user ratings\">8.1</strong>\n",
       " </td>,\n",
       " <td class=\"ratingColumn imdbRating\">\n",
       " <strong title=\"8.1 based on 434,645 user ratings\">8.1</strong>\n",
       " </td>,\n",
       " <td class=\"ratingColumn imdbRating\">\n",
       " <strong title=\"8.1 based on 909,115 user ratings\">8.1</strong>\n",
       " </td>,\n",
       " <td class=\"ratingColumn imdbRating\">\n",
       " <strong title=\"8.1 based on 632,936 user ratings\">8.1</strong>\n",
       " </td>,\n",
       " <td class=\"ratingColumn imdbRating\">\n",
       " <strong title=\"8.1 based on 864,727 user ratings\">8.1</strong>\n",
       " </td>,\n",
       " <td class=\"ratingColumn imdbRating\">\n",
       " <strong title=\"8.1 based on 102,451 user ratings\">8.1</strong>\n",
       " </td>,\n",
       " <td class=\"ratingColumn imdbRating\">\n",
       " <strong title=\"8.1 based on 935,026 user ratings\">8.1</strong>\n",
       " </td>,\n",
       " <td class=\"ratingColumn imdbRating\">\n",
       " <strong title=\"8.1 based on 289,147 user ratings\">8.1</strong>\n",
       " </td>,\n",
       " <td class=\"ratingColumn imdbRating\">\n",
       " <strong title=\"8.1 based on 946,569 user ratings\">8.1</strong>\n",
       " </td>,\n",
       " <td class=\"ratingColumn imdbRating\">\n",
       " <strong title=\"8.1 based on 95,792 user ratings\">8.1</strong>\n",
       " </td>,\n",
       " <td class=\"ratingColumn imdbRating\">\n",
       " <strong title=\"8.1 based on 691,606 user ratings\">8.1</strong>\n",
       " </td>,\n",
       " <td class=\"ratingColumn imdbRating\">\n",
       " <strong title=\"8.1 based on 116,214 user ratings\">8.1</strong>\n",
       " </td>,\n",
       " <td class=\"ratingColumn imdbRating\">\n",
       " <strong title=\"8.1 based on 996,968 user ratings\">8.1</strong>\n",
       " </td>,\n",
       " <td class=\"ratingColumn imdbRating\">\n",
       " <strong title=\"8.1 based on 29,970 user ratings\">8.1</strong>\n",
       " </td>,\n",
       " <td class=\"ratingColumn imdbRating\">\n",
       " <strong title=\"8.1 based on 137,822 user ratings\">8.1</strong>\n",
       " </td>,\n",
       " <td class=\"ratingColumn imdbRating\">\n",
       " <strong title=\"8.1 based on 202,857 user ratings\">8.1</strong>\n",
       " </td>,\n",
       " <td class=\"ratingColumn imdbRating\">\n",
       " <strong title=\"8.1 based on 615,214 user ratings\">8.1</strong>\n",
       " </td>,\n",
       " <td class=\"ratingColumn imdbRating\">\n",
       " <strong title=\"8.1 based on 369,058 user ratings\">8.1</strong>\n",
       " </td>,\n",
       " <td class=\"ratingColumn imdbRating\">\n",
       " <strong title=\"8.1 based on 718,504 user ratings\">8.1</strong>\n",
       " </td>,\n",
       " <td class=\"ratingColumn imdbRating\">\n",
       " <strong title=\"8.1 based on 158,179 user ratings\">8.1</strong>\n",
       " </td>,\n",
       " <td class=\"ratingColumn imdbRating\">\n",
       " <strong title=\"8.1 based on 176,098 user ratings\">8.1</strong>\n",
       " </td>,\n",
       " <td class=\"ratingColumn imdbRating\">\n",
       " <strong title=\"8.1 based on 141,571 user ratings\">8.1</strong>\n",
       " </td>,\n",
       " <td class=\"ratingColumn imdbRating\">\n",
       " <strong title=\"8.1 based on 52,773 user ratings\">8.1</strong>\n",
       " </td>,\n",
       " <td class=\"ratingColumn imdbRating\">\n",
       " <strong title=\"8.1 based on 310,301 user ratings\">8.1</strong>\n",
       " </td>,\n",
       " <td class=\"ratingColumn imdbRating\">\n",
       " <strong title=\"8.1 based on 122,543 user ratings\">8.1</strong>\n",
       " </td>,\n",
       " <td class=\"ratingColumn imdbRating\">\n",
       " <strong title=\"8.1 based on 156,204 user ratings\">8.1</strong>\n",
       " </td>,\n",
       " <td class=\"ratingColumn imdbRating\">\n",
       " <strong title=\"8.1 based on 163,936 user ratings\">8.1</strong>\n",
       " </td>,\n",
       " <td class=\"ratingColumn imdbRating\">\n",
       " <strong title=\"8.1 based on 704,264 user ratings\">8.1</strong>\n",
       " </td>,\n",
       " <td class=\"ratingColumn imdbRating\">\n",
       " <strong title=\"8.1 based on 855,634 user ratings\">8.1</strong>\n",
       " </td>,\n",
       " <td class=\"ratingColumn imdbRating\">\n",
       " <strong title=\"8.1 based on 26,388 user ratings\">8.1</strong>\n",
       " </td>,\n",
       " <td class=\"ratingColumn imdbRating\">\n",
       " <strong title=\"8.1 based on 270,718 user ratings\">8.1</strong>\n",
       " </td>,\n",
       " <td class=\"ratingColumn imdbRating\">\n",
       " <strong title=\"8.1 based on 432,795 user ratings\">8.1</strong>\n",
       " </td>,\n",
       " <td class=\"ratingColumn imdbRating\">\n",
       " <strong title=\"8.1 based on 826,017 user ratings\">8.1</strong>\n",
       " </td>,\n",
       " <td class=\"ratingColumn imdbRating\">\n",
       " <strong title=\"8.1 based on 102,498 user ratings\">8.1</strong>\n",
       " </td>,\n",
       " <td class=\"ratingColumn imdbRating\">\n",
       " <strong title=\"8.1 based on 71,022 user ratings\">8.1</strong>\n",
       " </td>,\n",
       " <td class=\"ratingColumn imdbRating\">\n",
       " <strong title=\"8.1 based on 597,938 user ratings\">8.1</strong>\n",
       " </td>,\n",
       " <td class=\"ratingColumn imdbRating\">\n",
       " <strong title=\"8.1 based on 730,163 user ratings\">8.1</strong>\n",
       " </td>,\n",
       " <td class=\"ratingColumn imdbRating\">\n",
       " <strong title=\"8.1 based on 41,664 user ratings\">8.1</strong>\n",
       " </td>,\n",
       " <td class=\"ratingColumn imdbRating\">\n",
       " <strong title=\"8.1 based on 29,574 user ratings\">8.1</strong>\n",
       " </td>,\n",
       " <td class=\"ratingColumn imdbRating\">\n",
       " <strong title=\"8.1 based on 80,771 user ratings\">8.1</strong>\n",
       " </td>,\n",
       " <td class=\"ratingColumn imdbRating\">\n",
       " <strong title=\"8.1 based on 664,515 user ratings\">8.1</strong>\n",
       " </td>,\n",
       " <td class=\"ratingColumn imdbRating\">\n",
       " <strong title=\"8.1 based on 286,286 user ratings\">8.1</strong>\n",
       " </td>,\n",
       " <td class=\"ratingColumn imdbRating\">\n",
       " <strong title=\"8.1 based on 63,812 user ratings\">8.1</strong>\n",
       " </td>,\n",
       " <td class=\"ratingColumn imdbRating\">\n",
       " <strong title=\"8.1 based on 149,117 user ratings\">8.1</strong>\n",
       " </td>,\n",
       " <td class=\"ratingColumn imdbRating\">\n",
       " <strong title=\"8.1 based on 637,987 user ratings\">8.1</strong>\n",
       " </td>,\n",
       " <td class=\"ratingColumn imdbRating\">\n",
       " <strong title=\"8.1 based on 106,633 user ratings\">8.1</strong>\n",
       " </td>,\n",
       " <td class=\"ratingColumn imdbRating\">\n",
       " <strong title=\"8.1 based on 878,096 user ratings\">8.1</strong>\n",
       " </td>,\n",
       " <td class=\"ratingColumn imdbRating\">\n",
       " <strong title=\"8.1 based on 633,985 user ratings\">8.1</strong>\n",
       " </td>,\n",
       " <td class=\"ratingColumn imdbRating\">\n",
       " <strong title=\"8.1 based on 144,456 user ratings\">8.1</strong>\n",
       " </td>,\n",
       " <td class=\"ratingColumn imdbRating\">\n",
       " <strong title=\"8.1 based on 423,097 user ratings\">8.1</strong>\n",
       " </td>,\n",
       " <td class=\"ratingColumn imdbRating\">\n",
       " <strong title=\"8.1 based on 362,264 user ratings\">8.1</strong>\n",
       " </td>,\n",
       " <td class=\"ratingColumn imdbRating\">\n",
       " <strong title=\"8.1 based on 761,016 user ratings\">8.1</strong>\n",
       " </td>,\n",
       " <td class=\"ratingColumn imdbRating\">\n",
       " <strong title=\"8.1 based on 218,795 user ratings\">8.1</strong>\n",
       " </td>,\n",
       " <td class=\"ratingColumn imdbRating\">\n",
       " <strong title=\"8.1 based on 161,310 user ratings\">8.1</strong>\n",
       " </td>,\n",
       " <td class=\"ratingColumn imdbRating\">\n",
       " <strong title=\"8.1 based on 252,367 user ratings\">8.1</strong>\n",
       " </td>,\n",
       " <td class=\"ratingColumn imdbRating\">\n",
       " <strong title=\"8.1 based on 380,036 user ratings\">8.1</strong>\n",
       " </td>,\n",
       " <td class=\"ratingColumn imdbRating\">\n",
       " <strong title=\"8.0 based on 112,189 user ratings\">8.0</strong>\n",
       " </td>,\n",
       " <td class=\"ratingColumn imdbRating\">\n",
       " <strong title=\"8.0 based on 644,924 user ratings\">8.0</strong>\n",
       " </td>,\n",
       " <td class=\"ratingColumn imdbRating\">\n",
       " <strong title=\"8.0 based on 570,661 user ratings\">8.0</strong>\n",
       " </td>,\n",
       " <td class=\"ratingColumn imdbRating\">\n",
       " <strong title=\"8.0 based on 25,977 user ratings\">8.0</strong>\n",
       " </td>,\n",
       " <td class=\"ratingColumn imdbRating\">\n",
       " <strong title=\"8.0 based on 431,341 user ratings\">8.0</strong>\n",
       " </td>,\n",
       " <td class=\"ratingColumn imdbRating\">\n",
       " <strong title=\"8.0 based on 54,355 user ratings\">8.0</strong>\n",
       " </td>,\n",
       " <td class=\"ratingColumn imdbRating\">\n",
       " <strong title=\"8.0 based on 366,098 user ratings\">8.0</strong>\n",
       " </td>,\n",
       " <td class=\"ratingColumn imdbRating\">\n",
       " <strong title=\"8.0 based on 104,743 user ratings\">8.0</strong>\n",
       " </td>,\n",
       " <td class=\"ratingColumn imdbRating\">\n",
       " <strong title=\"8.0 based on 418,259 user ratings\">8.0</strong>\n",
       " </td>,\n",
       " <td class=\"ratingColumn imdbRating\">\n",
       " <strong title=\"8.0 based on 149,407 user ratings\">8.0</strong>\n",
       " </td>,\n",
       " <td class=\"ratingColumn imdbRating\">\n",
       " <strong title=\"8.0 based on 47,364 user ratings\">8.0</strong>\n",
       " </td>,\n",
       " <td class=\"ratingColumn imdbRating\">\n",
       " <strong title=\"8.0 based on 333,516 user ratings\">8.0</strong>\n",
       " </td>,\n",
       " <td class=\"ratingColumn imdbRating\">\n",
       " <strong title=\"8.0 based on 223,027 user ratings\">8.0</strong>\n",
       " </td>,\n",
       " <td class=\"ratingColumn imdbRating\">\n",
       " <strong title=\"8.0 based on 46,604 user ratings\">8.0</strong>\n",
       " </td>,\n",
       " <td class=\"ratingColumn imdbRating\">\n",
       " <strong title=\"8.0 based on 516,621 user ratings\">8.0</strong>\n",
       " </td>,\n",
       " <td class=\"ratingColumn imdbRating\">\n",
       " <strong title=\"8.0 based on 81,835 user ratings\">8.0</strong>\n",
       " </td>,\n",
       " <td class=\"ratingColumn imdbRating\">\n",
       " <strong title=\"8.0 based on 812,604 user ratings\">8.0</strong>\n",
       " </td>,\n",
       " <td class=\"ratingColumn imdbRating\">\n",
       " <strong title=\"8.0 based on 150,052 user ratings\">8.0</strong>\n",
       " </td>,\n",
       " <td class=\"ratingColumn imdbRating\">\n",
       " <strong title=\"8.0 based on 123,471 user ratings\">8.0</strong>\n",
       " </td>,\n",
       " <td class=\"ratingColumn imdbRating\">\n",
       " <strong title=\"8.0 based on 28,490 user ratings\">8.0</strong>\n",
       " </td>,\n",
       " <td class=\"ratingColumn imdbRating\">\n",
       " <strong title=\"8.0 based on 111,536 user ratings\">8.0</strong>\n",
       " </td>,\n",
       " <td class=\"ratingColumn imdbRating\">\n",
       " <strong title=\"8.0 based on 235,106 user ratings\">8.0</strong>\n",
       " </td>,\n",
       " <td class=\"ratingColumn imdbRating\">\n",
       " <strong title=\"8.0 based on 123,573 user ratings\">8.0</strong>\n",
       " </td>,\n",
       " <td class=\"ratingColumn imdbRating\">\n",
       " <strong title=\"8.0 based on 90,415 user ratings\">8.0</strong>\n",
       " </td>,\n",
       " <td class=\"ratingColumn imdbRating\">\n",
       " <strong title=\"8.0 based on 61,291 user ratings\">8.0</strong>\n",
       " </td>,\n",
       " <td class=\"ratingColumn imdbRating\">\n",
       " <strong title=\"8.0 based on 93,593 user ratings\">8.0</strong>\n",
       " </td>,\n",
       " <td class=\"ratingColumn imdbRating\">\n",
       " <strong title=\"8.0 based on 27,785 user ratings\">8.0</strong>\n",
       " </td>,\n",
       " <td class=\"ratingColumn imdbRating\">\n",
       " <strong title=\"8.0 based on 139,030 user ratings\">8.0</strong>\n",
       " </td>,\n",
       " <td class=\"ratingColumn imdbRating\">\n",
       " <strong title=\"8.0 based on 426,773 user ratings\">8.0</strong>\n",
       " </td>,\n",
       " <td class=\"ratingColumn imdbRating\">\n",
       " <strong title=\"8.0 based on 392,665 user ratings\">8.0</strong>\n",
       " </td>,\n",
       " <td class=\"ratingColumn imdbRating\">\n",
       " <strong title=\"8.0 based on 52,803 user ratings\">8.0</strong>\n",
       " </td>,\n",
       " <td class=\"ratingColumn imdbRating\">\n",
       " <strong title=\"8.0 based on 69,769 user ratings\">8.0</strong>\n",
       " </td>,\n",
       " <td class=\"ratingColumn imdbRating\">\n",
       " <strong title=\"8.0 based on 57,583 user ratings\">8.0</strong>\n",
       " </td>,\n",
       " <td class=\"ratingColumn imdbRating\">\n",
       " <strong title=\"8.0 based on 46,486 user ratings\">8.0</strong>\n",
       " </td>]"
      ]
     },
     "execution_count": 19,
     "metadata": {},
     "output_type": "execute_result"
    }
   ],
   "source": [
    "rating=soup.find_all('td', class_='ratingColumn imdbRating')\n",
    "rating\n"
   ]
  },
  {
   "cell_type": "code",
   "execution_count": 20,
   "metadata": {},
   "outputs": [
    {
     "data": {
      "text/plain": [
       "['9.2',\n",
       " '9.1',\n",
       " '9.0',\n",
       " '9.0',\n",
       " '8.9',\n",
       " '8.9',\n",
       " '8.9',\n",
       " '8.8',\n",
       " '8.8',\n",
       " '8.8',\n",
       " '8.8',\n",
       " '8.8',\n",
       " '8.7',\n",
       " '8.7',\n",
       " '8.7',\n",
       " '8.6',\n",
       " '8.6',\n",
       " '8.6',\n",
       " '8.6',\n",
       " '8.6',\n",
       " '8.6',\n",
       " '8.6',\n",
       " '8.6',\n",
       " '8.6',\n",
       " '8.6',\n",
       " '8.6',\n",
       " '8.5',\n",
       " '8.5',\n",
       " '8.5',\n",
       " '8.5',\n",
       " '8.5',\n",
       " '8.5',\n",
       " '8.5',\n",
       " '8.5',\n",
       " '8.5',\n",
       " '8.5',\n",
       " '8.5',\n",
       " '8.5',\n",
       " '8.5',\n",
       " '8.5',\n",
       " '8.5',\n",
       " '8.5',\n",
       " '8.5',\n",
       " '8.5',\n",
       " '8.5',\n",
       " '8.5',\n",
       " '8.5',\n",
       " '8.4',\n",
       " '8.4',\n",
       " '8.4',\n",
       " '8.4',\n",
       " '8.4',\n",
       " '8.4',\n",
       " '8.4',\n",
       " '8.4',\n",
       " '8.4',\n",
       " '8.4',\n",
       " '8.4',\n",
       " '8.4',\n",
       " '8.4',\n",
       " '8.4',\n",
       " '8.4',\n",
       " '8.4',\n",
       " '8.4',\n",
       " '8.4',\n",
       " '8.4',\n",
       " '8.3',\n",
       " '8.3',\n",
       " '8.3',\n",
       " '8.3',\n",
       " '8.3',\n",
       " '8.3',\n",
       " '8.3',\n",
       " '8.3',\n",
       " '8.3',\n",
       " '8.3',\n",
       " '8.3',\n",
       " '8.3',\n",
       " '8.3',\n",
       " '8.3',\n",
       " '8.3',\n",
       " '8.3',\n",
       " '8.3',\n",
       " '8.3',\n",
       " '8.3',\n",
       " '8.3',\n",
       " '8.3',\n",
       " '8.3',\n",
       " '8.3',\n",
       " '8.3',\n",
       " '8.3',\n",
       " '8.3',\n",
       " '8.3',\n",
       " '8.3',\n",
       " '8.3',\n",
       " '8.3',\n",
       " '8.3',\n",
       " '8.2',\n",
       " '8.2',\n",
       " '8.2',\n",
       " '8.2',\n",
       " '8.2',\n",
       " '8.2',\n",
       " '8.2',\n",
       " '8.2',\n",
       " '8.2',\n",
       " '8.2',\n",
       " '8.2',\n",
       " '8.2',\n",
       " '8.2',\n",
       " '8.2',\n",
       " '8.2',\n",
       " '8.2',\n",
       " '8.2',\n",
       " '8.2',\n",
       " '8.2',\n",
       " '8.2',\n",
       " '8.2',\n",
       " '8.2',\n",
       " '8.2',\n",
       " '8.2',\n",
       " '8.2',\n",
       " '8.2',\n",
       " '8.2',\n",
       " '8.2',\n",
       " '8.2',\n",
       " '8.2',\n",
       " '8.2',\n",
       " '8.2',\n",
       " '8.2',\n",
       " '8.2',\n",
       " '8.2',\n",
       " '8.2',\n",
       " '8.2',\n",
       " '8.2',\n",
       " '8.2',\n",
       " '8.2',\n",
       " '8.2',\n",
       " '8.2',\n",
       " '8.2',\n",
       " '8.2',\n",
       " '8.2',\n",
       " '8.1',\n",
       " '8.1',\n",
       " '8.1',\n",
       " '8.1',\n",
       " '8.1',\n",
       " '8.1',\n",
       " '8.1',\n",
       " '8.1',\n",
       " '8.1',\n",
       " '8.1',\n",
       " '8.1',\n",
       " '8.1',\n",
       " '8.1',\n",
       " '8.1',\n",
       " '8.1',\n",
       " '8.1',\n",
       " '8.1',\n",
       " '8.1',\n",
       " '8.1',\n",
       " '8.1',\n",
       " '8.1',\n",
       " '8.1',\n",
       " '8.1',\n",
       " '8.1',\n",
       " '8.1',\n",
       " '8.1',\n",
       " '8.1',\n",
       " '8.1',\n",
       " '8.1',\n",
       " '8.1',\n",
       " '8.1',\n",
       " '8.1',\n",
       " '8.1',\n",
       " '8.1',\n",
       " '8.1',\n",
       " '8.1',\n",
       " '8.1',\n",
       " '8.1',\n",
       " '8.1',\n",
       " '8.1',\n",
       " '8.1',\n",
       " '8.1',\n",
       " '8.1',\n",
       " '8.1',\n",
       " '8.1',\n",
       " '8.1',\n",
       " '8.1',\n",
       " '8.1',\n",
       " '8.1',\n",
       " '8.1',\n",
       " '8.1',\n",
       " '8.1',\n",
       " '8.1',\n",
       " '8.1',\n",
       " '8.1',\n",
       " '8.1',\n",
       " '8.1',\n",
       " '8.1',\n",
       " '8.1',\n",
       " '8.1',\n",
       " '8.1',\n",
       " '8.1',\n",
       " '8.1',\n",
       " '8.1',\n",
       " '8.1',\n",
       " '8.1',\n",
       " '8.1',\n",
       " '8.1',\n",
       " '8.1',\n",
       " '8.1',\n",
       " '8.1',\n",
       " '8.1',\n",
       " '8.1',\n",
       " '8.1',\n",
       " '8.0',\n",
       " '8.0',\n",
       " '8.0',\n",
       " '8.0',\n",
       " '8.0',\n",
       " '8.0',\n",
       " '8.0',\n",
       " '8.0',\n",
       " '8.0',\n",
       " '8.0',\n",
       " '8.0',\n",
       " '8.0',\n",
       " '8.0',\n",
       " '8.0',\n",
       " '8.0',\n",
       " '8.0',\n",
       " '8.0',\n",
       " '8.0',\n",
       " '8.0',\n",
       " '8.0',\n",
       " '8.0',\n",
       " '8.0',\n",
       " '8.0',\n",
       " '8.0',\n",
       " '8.0',\n",
       " '8.0',\n",
       " '8.0',\n",
       " '8.0',\n",
       " '8.0',\n",
       " '8.0',\n",
       " '8.0',\n",
       " '8.0',\n",
       " '8.0',\n",
       " '8.0']"
      ]
     },
     "execution_count": 20,
     "metadata": {},
     "output_type": "execute_result"
    }
   ],
   "source": [
    "for i in rating:\n",
    "    \n",
    "    IMDB_Rating.append(i.get_text().replace(\"\\n\",\"\"))\n",
    "IMDB_Rating"
   ]
  },
  {
   "cell_type": "code",
   "execution_count": 21,
   "metadata": {},
   "outputs": [],
   "source": [
    "#Selecting top 100 ratings from the list\n",
    "IMDB_Rating=IMDB_Rating[0:100]"
   ]
  },
  {
   "cell_type": "code",
   "execution_count": 22,
   "metadata": {},
   "outputs": [
    {
     "data": {
      "text/html": [
       "<div>\n",
       "<style scoped>\n",
       "    .dataframe tbody tr th:only-of-type {\n",
       "        vertical-align: middle;\n",
       "    }\n",
       "\n",
       "    .dataframe tbody tr th {\n",
       "        vertical-align: top;\n",
       "    }\n",
       "\n",
       "    .dataframe thead th {\n",
       "        text-align: right;\n",
       "    }\n",
       "</style>\n",
       "<table border=\"1\" class=\"dataframe\">\n",
       "  <thead>\n",
       "    <tr style=\"text-align: right;\">\n",
       "      <th></th>\n",
       "      <th>Rating</th>\n",
       "    </tr>\n",
       "  </thead>\n",
       "  <tbody>\n",
       "    <tr>\n",
       "      <th>0</th>\n",
       "      <td>9.2</td>\n",
       "    </tr>\n",
       "    <tr>\n",
       "      <th>1</th>\n",
       "      <td>9.1</td>\n",
       "    </tr>\n",
       "    <tr>\n",
       "      <th>2</th>\n",
       "      <td>9.0</td>\n",
       "    </tr>\n",
       "    <tr>\n",
       "      <th>3</th>\n",
       "      <td>9.0</td>\n",
       "    </tr>\n",
       "    <tr>\n",
       "      <th>4</th>\n",
       "      <td>8.9</td>\n",
       "    </tr>\n",
       "    <tr>\n",
       "      <th>...</th>\n",
       "      <td>...</td>\n",
       "    </tr>\n",
       "    <tr>\n",
       "      <th>95</th>\n",
       "      <td>8.3</td>\n",
       "    </tr>\n",
       "    <tr>\n",
       "      <th>96</th>\n",
       "      <td>8.3</td>\n",
       "    </tr>\n",
       "    <tr>\n",
       "      <th>97</th>\n",
       "      <td>8.2</td>\n",
       "    </tr>\n",
       "    <tr>\n",
       "      <th>98</th>\n",
       "      <td>8.2</td>\n",
       "    </tr>\n",
       "    <tr>\n",
       "      <th>99</th>\n",
       "      <td>8.2</td>\n",
       "    </tr>\n",
       "  </tbody>\n",
       "</table>\n",
       "<p>100 rows × 1 columns</p>\n",
       "</div>"
      ],
      "text/plain": [
       "   Rating\n",
       "0     9.2\n",
       "1     9.1\n",
       "2     9.0\n",
       "3     9.0\n",
       "4     8.9\n",
       "..    ...\n",
       "95    8.3\n",
       "96    8.3\n",
       "97    8.2\n",
       "98    8.2\n",
       "99    8.2\n",
       "\n",
       "[100 rows x 1 columns]"
      ]
     },
     "execution_count": 22,
     "metadata": {},
     "output_type": "execute_result"
    }
   ],
   "source": [
    "rt=pd.DataFrame({})\n",
    "rt['Rating']=IMDB_Rating\n",
    "rt"
   ]
  },
  {
   "cell_type": "code",
   "execution_count": 23,
   "metadata": {},
   "outputs": [
    {
     "data": {
      "text/html": [
       "<div>\n",
       "<style scoped>\n",
       "    .dataframe tbody tr th:only-of-type {\n",
       "        vertical-align: middle;\n",
       "    }\n",
       "\n",
       "    .dataframe tbody tr th {\n",
       "        vertical-align: top;\n",
       "    }\n",
       "\n",
       "    .dataframe thead th {\n",
       "        text-align: right;\n",
       "    }\n",
       "</style>\n",
       "<table border=\"1\" class=\"dataframe\">\n",
       "  <thead>\n",
       "    <tr style=\"text-align: right;\">\n",
       "      <th></th>\n",
       "      <th>0</th>\n",
       "      <th>1</th>\n",
       "      <th>Rating</th>\n",
       "    </tr>\n",
       "  </thead>\n",
       "  <tbody>\n",
       "    <tr>\n",
       "      <th>0</th>\n",
       "      <td>The Shawshank Redemption</td>\n",
       "      <td>1994</td>\n",
       "      <td>9.2</td>\n",
       "    </tr>\n",
       "    <tr>\n",
       "      <th>1</th>\n",
       "      <td>The Godfather</td>\n",
       "      <td>1972</td>\n",
       "      <td>9.1</td>\n",
       "    </tr>\n",
       "    <tr>\n",
       "      <th>2</th>\n",
       "      <td>The Godfather: Part II</td>\n",
       "      <td>1974</td>\n",
       "      <td>9.0</td>\n",
       "    </tr>\n",
       "    <tr>\n",
       "      <th>3</th>\n",
       "      <td>The Dark Knight</td>\n",
       "      <td>2008</td>\n",
       "      <td>9.0</td>\n",
       "    </tr>\n",
       "    <tr>\n",
       "      <th>4</th>\n",
       "      <td>12 Angry Men</td>\n",
       "      <td>1957</td>\n",
       "      <td>8.9</td>\n",
       "    </tr>\n",
       "    <tr>\n",
       "      <th>...</th>\n",
       "      <td>...</td>\n",
       "      <td>...</td>\n",
       "      <td>...</td>\n",
       "    </tr>\n",
       "    <tr>\n",
       "      <th>95</th>\n",
       "      <td>Citizen Kane</td>\n",
       "      <td>1941</td>\n",
       "      <td>8.3</td>\n",
       "    </tr>\n",
       "    <tr>\n",
       "      <th>96</th>\n",
       "      <td>Dangal</td>\n",
       "      <td>2016</td>\n",
       "      <td>8.3</td>\n",
       "    </tr>\n",
       "    <tr>\n",
       "      <th>97</th>\n",
       "      <td>Full Metal Jacket</td>\n",
       "      <td>1987</td>\n",
       "      <td>8.2</td>\n",
       "    </tr>\n",
       "    <tr>\n",
       "      <th>98</th>\n",
       "      <td>Ladri di biciclette</td>\n",
       "      <td>1948</td>\n",
       "      <td>8.2</td>\n",
       "    </tr>\n",
       "    <tr>\n",
       "      <th>99</th>\n",
       "      <td>Singin' in the Rain</td>\n",
       "      <td>1952</td>\n",
       "      <td>8.2</td>\n",
       "    </tr>\n",
       "  </tbody>\n",
       "</table>\n",
       "<p>100 rows × 3 columns</p>\n",
       "</div>"
      ],
      "text/plain": [
       "                                 0     1 Rating\n",
       "0         The Shawshank Redemption  1994    9.2\n",
       "1                    The Godfather  1972    9.1\n",
       "2           The Godfather: Part II  1974    9.0\n",
       "3                  The Dark Knight  2008    9.0\n",
       "4                     12 Angry Men  1957    8.9\n",
       "..                             ...   ...    ...\n",
       "95                    Citizen Kane  1941    8.3\n",
       "96                          Dangal  2016    8.3\n",
       "97               Full Metal Jacket  1987    8.2\n",
       "98             Ladri di biciclette  1948    8.2\n",
       "99             Singin' in the Rain  1952    8.2\n",
       "\n",
       "[100 rows x 3 columns]"
      ]
     },
     "execution_count": 23,
     "metadata": {},
     "output_type": "execute_result"
    }
   ],
   "source": [
    "#Concatenation of dataframes\n",
    "IMDBtop100 = pd.concat([new2,rt],axis=1)\n",
    "IMDBtop100"
   ]
  },
  {
   "cell_type": "code",
   "execution_count": 24,
   "metadata": {},
   "outputs": [
    {
     "data": {
      "text/html": [
       "<div>\n",
       "<style scoped>\n",
       "    .dataframe tbody tr th:only-of-type {\n",
       "        vertical-align: middle;\n",
       "    }\n",
       "\n",
       "    .dataframe tbody tr th {\n",
       "        vertical-align: top;\n",
       "    }\n",
       "\n",
       "    .dataframe thead th {\n",
       "        text-align: right;\n",
       "    }\n",
       "</style>\n",
       "<table border=\"1\" class=\"dataframe\">\n",
       "  <thead>\n",
       "    <tr style=\"text-align: right;\">\n",
       "      <th></th>\n",
       "      <th>Movie</th>\n",
       "      <th>Year of Release</th>\n",
       "      <th>Rating</th>\n",
       "    </tr>\n",
       "  </thead>\n",
       "  <tbody>\n",
       "    <tr>\n",
       "      <th>0</th>\n",
       "      <td>The Shawshank Redemption</td>\n",
       "      <td>1994</td>\n",
       "      <td>9.2</td>\n",
       "    </tr>\n",
       "    <tr>\n",
       "      <th>1</th>\n",
       "      <td>The Godfather</td>\n",
       "      <td>1972</td>\n",
       "      <td>9.1</td>\n",
       "    </tr>\n",
       "    <tr>\n",
       "      <th>2</th>\n",
       "      <td>The Godfather: Part II</td>\n",
       "      <td>1974</td>\n",
       "      <td>9.0</td>\n",
       "    </tr>\n",
       "    <tr>\n",
       "      <th>3</th>\n",
       "      <td>The Dark Knight</td>\n",
       "      <td>2008</td>\n",
       "      <td>9.0</td>\n",
       "    </tr>\n",
       "    <tr>\n",
       "      <th>4</th>\n",
       "      <td>12 Angry Men</td>\n",
       "      <td>1957</td>\n",
       "      <td>8.9</td>\n",
       "    </tr>\n",
       "    <tr>\n",
       "      <th>...</th>\n",
       "      <td>...</td>\n",
       "      <td>...</td>\n",
       "      <td>...</td>\n",
       "    </tr>\n",
       "    <tr>\n",
       "      <th>95</th>\n",
       "      <td>Citizen Kane</td>\n",
       "      <td>1941</td>\n",
       "      <td>8.3</td>\n",
       "    </tr>\n",
       "    <tr>\n",
       "      <th>96</th>\n",
       "      <td>Dangal</td>\n",
       "      <td>2016</td>\n",
       "      <td>8.3</td>\n",
       "    </tr>\n",
       "    <tr>\n",
       "      <th>97</th>\n",
       "      <td>Full Metal Jacket</td>\n",
       "      <td>1987</td>\n",
       "      <td>8.2</td>\n",
       "    </tr>\n",
       "    <tr>\n",
       "      <th>98</th>\n",
       "      <td>Ladri di biciclette</td>\n",
       "      <td>1948</td>\n",
       "      <td>8.2</td>\n",
       "    </tr>\n",
       "    <tr>\n",
       "      <th>99</th>\n",
       "      <td>Singin' in the Rain</td>\n",
       "      <td>1952</td>\n",
       "      <td>8.2</td>\n",
       "    </tr>\n",
       "  </tbody>\n",
       "</table>\n",
       "<p>100 rows × 3 columns</p>\n",
       "</div>"
      ],
      "text/plain": [
       "                             Movie Year of Release Rating\n",
       "0         The Shawshank Redemption            1994    9.2\n",
       "1                    The Godfather            1972    9.1\n",
       "2           The Godfather: Part II            1974    9.0\n",
       "3                  The Dark Knight            2008    9.0\n",
       "4                     12 Angry Men            1957    8.9\n",
       "..                             ...             ...    ...\n",
       "95                    Citizen Kane            1941    8.3\n",
       "96                          Dangal            2016    8.3\n",
       "97               Full Metal Jacket            1987    8.2\n",
       "98             Ladri di biciclette            1948    8.2\n",
       "99             Singin' in the Rain            1952    8.2\n",
       "\n",
       "[100 rows x 3 columns]"
      ]
     },
     "execution_count": 24,
     "metadata": {},
     "output_type": "execute_result"
    }
   ],
   "source": [
    "#Renaming the columns\n",
    "IMDBtop100.columns=['Movie','Year of Release','Rating']\n",
    "IMDBtop100"
   ]
  },
  {
   "cell_type": "code",
   "execution_count": 25,
   "metadata": {},
   "outputs": [],
   "source": [
    "IMDBtop100.to_csv('IMDBtop100.csv') "
   ]
  },
  {
   "cell_type": "markdown",
   "metadata": {},
   "source": [
    "## Question 3\n",
    "***Write a python program to display IMDB’s Top rated 100 Indian movies’ data (i.e. Name, IMDB rating, Year\n",
    "of release) and save it in form of a CSV file.***"
   ]
  },
  {
   "cell_type": "code",
   "execution_count": 26,
   "metadata": {},
   "outputs": [],
   "source": [
    "page=requests.get(\"https://www.imdb.com/india/top-rated-indian-movies/\")"
   ]
  },
  {
   "cell_type": "code",
   "execution_count": 27,
   "metadata": {},
   "outputs": [],
   "source": [
    "soup=BeautifulSoup(page.content,'html.parser')"
   ]
  },
  {
   "cell_type": "code",
   "execution_count": 28,
   "metadata": {},
   "outputs": [],
   "source": [
    "movies=soup.find_all('td', class_='titleColumn')"
   ]
  },
  {
   "cell_type": "code",
   "execution_count": 29,
   "metadata": {},
   "outputs": [],
   "source": [
    "#Creating empty lists to be appended later\n",
    "Movie_Name=[]\n",
    "IMDB_Rating=[]"
   ]
  },
  {
   "cell_type": "code",
   "execution_count": 30,
   "metadata": {},
   "outputs": [
    {
     "data": {
      "text/plain": [
       "['      1.      Pather Panchali(1955)',\n",
       " '      2.      Gol Maal(1979)',\n",
       " '      3.      Ratsasan(2018)',\n",
       " '      4.      Nayakan(1987)',\n",
       " '      5.      Anbe Sivam(2003)',\n",
       " '      6.      Apur Sansar(1959)',\n",
       " '      7.      Natsamrat(2016)',\n",
       " '      8.      Kireedam(1989)',\n",
       " '      9.      Pariyerum Perumal(2018)',\n",
       " '      10.      Black Friday(2004)',\n",
       " '      11.      Manichitrathazhu(1993)',\n",
       " '      12.      Thevar Magan(1992)',\n",
       " '      13.      96(2018)',\n",
       " '      14.      Kumbalangi Nights(2019)',\n",
       " '      15.      3 Idiots(2009)',\n",
       " '      16.      Taare Zameen Par(2007)',\n",
       " '      17.      Visaaranai(2015)',\n",
       " '      18.      Dangal(2016)',\n",
       " '      19.      Anand(1971)',\n",
       " '      20.      Thalapathi(1991)',\n",
       " '      21.      Aparajito(1956)',\n",
       " '      22.      Jaane Bhi Do Yaaro(1983)',\n",
       " '      23.      Vikram Vedha(2017)',\n",
       " '      24.      Pyaasa(1957)',\n",
       " '      25.      Asuran(2019)',\n",
       " '      26.      Guide(1965)',\n",
       " '      27.      Kannathil Muthamittal(2002)',\n",
       " '      28.      Chupke Chupke(1975)',\n",
       " '      29.      Jersey(2019)',\n",
       " '      30.      Kaithi(2019)',\n",
       " '      31.      Thani Oruvan(2015)',\n",
       " '      32.      Vada Chennai(2018)',\n",
       " '      33.      Soorarai Pottru(2020)',\n",
       " '      34.      Khosla Ka Ghosla!(2006)',\n",
       " '      35.      Drishyam(2013)',\n",
       " '      36.      Aruvi(2016)',\n",
       " '      37.      Peranbu(2018)',\n",
       " '      38.      Super Deluxe(2019)',\n",
       " '      39.      Tumbbad(2018)',\n",
       " '      40.      Andhadhun(2018)',\n",
       " '      41.      Agent Sai Srinivasa Athreya(2019)',\n",
       " '      42.      Mahanati(2018)',\n",
       " '      43.      Kaakkaa Muttai(2014)',\n",
       " '      44.      Premam(2015)',\n",
       " '      45.      Dhuruvangal Pathinaaru(2016)',\n",
       " '      46.      Satya(1998)',\n",
       " '      47.      Shahid(2012)',\n",
       " '      48.      Bangalore Days(2014)',\n",
       " '      49.      Soodhu Kavvum(2013)',\n",
       " '      50.      Mudhalvan(1999)',\n",
       " '      51.      Anniyan(2005)',\n",
       " '      52.      Gangs of Wasseypur(2012)',\n",
       " '      53.      Papanasam(2015)',\n",
       " '      54.      Jigarthanda(2014)',\n",
       " '      55.      Talvar(2015)',\n",
       " '      56.      Paan Singh Tomar(2012)',\n",
       " '      57.      Bhaag Milkha Bhaag(2013)',\n",
       " '      58.      Nil Battey Sannata(2015)',\n",
       " '      59.      Swades: We, the People(2004)',\n",
       " '      60.      Sholay(1975)',\n",
       " '      61.      Hera Pheri(2000)',\n",
       " '      62.      Drishyam(2015)',\n",
       " '      63.      Pithamagan(2003)',\n",
       " '      64.      Black(2005)',\n",
       " '      65.      Chak De! India(2007)',\n",
       " '      66.      Jo Jeeta Wohi Sikandar(1992)',\n",
       " '      67.      Sairat(2016)',\n",
       " '      68.      Charulata(1964)',\n",
       " '      69.      Mughal-E-Azam(1960)',\n",
       " '      70.      Rang De Basanti(2006)',\n",
       " '      71.      Queen(2013)',\n",
       " '      72.      Ustad Hotel(2012)',\n",
       " '      73.      Udaan(2010)',\n",
       " '      74.      Article 15(2019)',\n",
       " '      75.      Zindagi Na Milegi Dobara(2011)',\n",
       " '      76.      A Wednesday(2008)',\n",
       " '      77.      Dil Chahta Hai(2001)',\n",
       " '      78.      Munna Bhai M.B.B.S.(2003)',\n",
       " '      79.      Sarfarosh(1999)',\n",
       " '      80.      Andaz Apna Apna(1994)',\n",
       " '      81.      Masaan(2015)',\n",
       " '      82.      OMG: Oh My God!(2012)',\n",
       " '      83.      Roja(1992)',\n",
       " '      84.      Lagaan: Once Upon a Time in India(2001)',\n",
       " '      85.      Maheshinte Prathikaaram(2016)',\n",
       " '      86.      Kahaani(2012)',\n",
       " '      87.      Alai Payuthey(2000)',\n",
       " '      88.      Theeran adhigaaram ondru(2017)',\n",
       " '      89.      PK(2014)',\n",
       " '      90.      Baasha(1995)',\n",
       " '      91.      Uri: The Surgical Strike(2018)',\n",
       " '      92.      Iqbal(2005)',\n",
       " '      93.      Pink(2016)',\n",
       " '      94.      Barfi!(2012)',\n",
       " '      95.      The Legend of Bhagat Singh(2002)',\n",
       " '      96.      Bommarillu(2006)',\n",
       " '      97.      Lucia(2013)',\n",
       " '      98.      Maqbool(2003)',\n",
       " '      99.      Bombay(1995)',\n",
       " '      100.      Omkara(2006)',\n",
       " '      101.      Section 375(2019)',\n",
       " '      102.      Lage Raho Munna Bhai(2006)',\n",
       " '      103.      Deewaar(1975)',\n",
       " '      104.      Indian(1996)',\n",
       " '      105.      Chhichhore(2019)',\n",
       " '      106.      Baahubali 2: The Conclusion(2017)',\n",
       " '      107.      Dilwale Dulhania Le Jayenge(1995)',\n",
       " '      108.      Padosan(1968)',\n",
       " '      109.      Gulaal(2009)',\n",
       " '      110.      Haider(2014)',\n",
       " '      111.      Gully Boy(2019)',\n",
       " '      112.      Pelli Choopulu(2016)',\n",
       " '      113.      Mother India(1957)',\n",
       " '      114.      Ugly(2013)',\n",
       " '      115.      Athadu(2005)',\n",
       " '      116.      Padayappa(1999)',\n",
       " '      117.      Special Chabbis(2013)',\n",
       " '      118.      Dev.D(2009)',\n",
       " '      119.      Rangasthalam(2018)',\n",
       " '      120.      Jalsaghar(1958)',\n",
       " '      121.      Badhaai ho(2018)',\n",
       " '      122.      Ship of Theseus(2012)',\n",
       " '      123.      Bajrangi Bhaijaan(2015)',\n",
       " '      124.      Vaastav: The Reality(1999)',\n",
       " '      125.      Company(2002)',\n",
       " '      126.      Ulidavaru Kandanthe(2014)',\n",
       " '      127.      Arjun Reddy(2017)',\n",
       " '      128.      Ankhon Dekhi(2013)',\n",
       " '      129.      Mukkabaaz(2017)',\n",
       " '      130.      Vaaranam Aayiram(2008)',\n",
       " '      131.      Vedam(2010)',\n",
       " '      132.      K.G.F: Chapter 1(2018)',\n",
       " '      133.      Manjhi: The Mountain Man(2015)',\n",
       " '      134.      Pizza(2012)',\n",
       " '      135.      My Name Is Khan(2010)',\n",
       " '      136.      Dil Bechara(2020)',\n",
       " '      137.      Jab We Met(2007)',\n",
       " '      138.      Kal Ho Naa Ho(2003)',\n",
       " '      139.      Mumbai Police(2013)',\n",
       " '      140.      Memories(2013)',\n",
       " '      141.      Unnaipol Oruvan(2009)',\n",
       " '      142.      Padman(2018)',\n",
       " '      143.      Border(1997)',\n",
       " '      144.      Bãhubali: The Beginning(2015)',\n",
       " '      145.      Lakshya(2004)',\n",
       " '      146.      Dor(2006)',\n",
       " '      147.      Super 30(2019)',\n",
       " '      148.      Airlift(2016)',\n",
       " '      149.      Vettaiyaadu Vilaiyaadu(2006)',\n",
       " '      150.      Baby(2015)',\n",
       " '      151.      Hey Ram(2000)',\n",
       " '      152.      Charlie(2015)',\n",
       " '      153.      English Vinglish(2012)',\n",
       " '      154.      Gangaajal(2003)',\n",
       " '      155.      Okkadu(2003)',\n",
       " '      156.      The Lunchbox(2013)',\n",
       " '      157.      Ab Tak Chhappan(2004)',\n",
       " '      158.      Hindi Medium(2017)',\n",
       " '      159.      Johnny Gaddaar(2007)',\n",
       " '      160.      Manam(2014)',\n",
       " '      161.      Secret Superstar(2017)',\n",
       " '      162.      Badla(2019)',\n",
       " '      163.      Sonchiriya(2019)',\n",
       " '      164.      Raazi(2018)',\n",
       " '      165.      Nayak: The Real Hero(2001)',\n",
       " '      166.      Vicky Donor(2012)',\n",
       " '      167.      Mr. India(1987)',\n",
       " '      168.      Udta Punjab(2016)',\n",
       " '      169.      Pokiri(2006)',\n",
       " '      170.      Don(1978)',\n",
       " '      171.      Stanley Ka Dabba(2011)',\n",
       " '      172.      Rock On!!(2008)',\n",
       " '      173.      Dasvidaniya(2008)',\n",
       " '      174.      Veer-Zaara(2004)',\n",
       " '      175.      RangiTaranga(2015)',\n",
       " '      176.      Samsara(2001)',\n",
       " '      177.      Aligarh(2015)',\n",
       " '      178.      Guru(2007)',\n",
       " '      179.      Arya(2004)',\n",
       " '      180.      Oye Lucky! Lucky Oye!(2008)',\n",
       " '      181.      Velaiilla Pattadhari(2014)',\n",
       " '      182.      Goodachari(2018)',\n",
       " '      183.      M.S. Dhoni: The Untold Story(2016)',\n",
       " '      184.      Mumbai Meri Jaan(2008)',\n",
       " '      185.      Kai po che!(2013)',\n",
       " '      186.      Kapoor & Sons(2016)',\n",
       " '      187.      Rockstar(2011)',\n",
       " '      188.      Aamir(2008)',\n",
       " '      189.      Eega(2012)',\n",
       " '      190.      Kabhi Haan Kabhi Naa(1994)',\n",
       " '      191.      Darr(1993)',\n",
       " '      192.      Newton(2017)',\n",
       " '      193.      Earth(1998)',\n",
       " '      194.      24(2016)',\n",
       " '      195.      Madras Cafe(2013)',\n",
       " '      196.      Agneepath(1990)',\n",
       " '      197.      Ugramm(2014)',\n",
       " '      198.      Pyaar Ka Punchnama(2011)',\n",
       " '      199.      Sarkar(2005)',\n",
       " '      200.      Neerja(2016)',\n",
       " '      201.      Bheja Fry(2007)',\n",
       " '      202.      Highway(2014)',\n",
       " '      203.      The Tashkent Files(2019)',\n",
       " '      204.      Manorama: Six Feet Under(2007)',\n",
       " '      205.      Thuppakki(2012)',\n",
       " '      206.      Magadheera(2009)',\n",
       " '      207.      Detective Byomkesh Bakshy!(2015)',\n",
       " '      208.      Baazigar(1993)',\n",
       " '      209.      Tanu Weds Manu Returns(2015)',\n",
       " '      210.      Nerkonda Paarvai(2019)',\n",
       " '      211.      Wake Up Sid(2009)',\n",
       " '      212.      Saala Khadoos(2016)',\n",
       " '      213.      Piku(2015)',\n",
       " '      214.      Ludo(2020)',\n",
       " '      215.      Kuch Kuch Hota Hai(1998)',\n",
       " '      216.      Sanju(2018)',\n",
       " '      217.      Kaththi(2014)',\n",
       " '      218.      1 - Nenokkadine(2014)',\n",
       " '      219.      Delhi Belly(2011)',\n",
       " '      220.      Dhruva(2016)',\n",
       " '      221.      Stree(2018)',\n",
       " '      222.      Devdas(2002)',\n",
       " '      223.      Jodhaa Akbar(2008)',\n",
       " '      224.      Parmanu: The Story of Pokhran(2018)',\n",
       " '      225.      Lootcase(2020)',\n",
       " '      226.      Raanjhanaa(2013)',\n",
       " '      227.      Trapped(2016)',\n",
       " '      228.      Dil Se..(1998)',\n",
       " '      229.      Ek Hasina Thi(2004)',\n",
       " '      230.      Rocket Singh: Salesman of the Year(2009)',\n",
       " '      231.      Bhavesh Joshi Superhero(2018)',\n",
       " '      232.      Hungama(2003)',\n",
       " '      233.      Do Dooni Chaar(2010)',\n",
       " '      234.      Madaari(2016)',\n",
       " '      235.      Jolly LLB(2013)',\n",
       " '      236.      Rehnaa Hai Terre Dil Mein(2001)',\n",
       " '      237.      Geetha Govindam(2018)',\n",
       " '      238.      Jallikattu(2019)',\n",
       " '      239.      The Ghazi Attack(2017)',\n",
       " '      240.      Bareilly Ki Barfi(2017)',\n",
       " '      241.      Karwaan(2018)',\n",
       " '      242.      Phas Gaye Re Obama(2010)',\n",
       " '      243.      Ghajini(2005)',\n",
       " '      244.      Ghilli(2004)',\n",
       " '      245.      Qayamat Se Qayamat Tak(1988)',\n",
       " '      246.      Dum Laga Ke Haisha(2015)',\n",
       " '      247.      The Sky Is Pink(2019)',\n",
       " '      248.      Hichki(2018)',\n",
       " '      249.      Sivaji(2007)',\n",
       " '      250.      October(2018)']"
      ]
     },
     "execution_count": 30,
     "metadata": {},
     "output_type": "execute_result"
    }
   ],
   "source": [
    "for i in movies:\n",
    "    \n",
    "    Movie_Name.append(i.get_text().replace(\"\\n\",\"\"))\n",
    "Movie_Name"
   ]
  },
  {
   "cell_type": "code",
   "execution_count": 31,
   "metadata": {},
   "outputs": [],
   "source": [
    "#Saving top 100 movies\n",
    "Movie_Name=Movie_Name[0:100]"
   ]
  },
  {
   "cell_type": "code",
   "execution_count": 32,
   "metadata": {},
   "outputs": [],
   "source": [
    "#Feeding data in a dataframe\n",
    "mv=pd.DataFrame({})\n",
    "mv['Movie']=Movie_Name"
   ]
  },
  {
   "cell_type": "code",
   "execution_count": 33,
   "metadata": {},
   "outputs": [
    {
     "data": {
      "text/html": [
       "<div>\n",
       "<style scoped>\n",
       "    .dataframe tbody tr th:only-of-type {\n",
       "        vertical-align: middle;\n",
       "    }\n",
       "\n",
       "    .dataframe tbody tr th {\n",
       "        vertical-align: top;\n",
       "    }\n",
       "\n",
       "    .dataframe thead th {\n",
       "        text-align: right;\n",
       "    }\n",
       "</style>\n",
       "<table border=\"1\" class=\"dataframe\">\n",
       "  <thead>\n",
       "    <tr style=\"text-align: right;\">\n",
       "      <th></th>\n",
       "      <th>Movie</th>\n",
       "    </tr>\n",
       "  </thead>\n",
       "  <tbody>\n",
       "    <tr>\n",
       "      <th>0</th>\n",
       "      <td>1.      Pather Panchali(1955)</td>\n",
       "    </tr>\n",
       "    <tr>\n",
       "      <th>1</th>\n",
       "      <td>2.      Gol Maal(1979)</td>\n",
       "    </tr>\n",
       "    <tr>\n",
       "      <th>2</th>\n",
       "      <td>3.      Ratsasan(2018)</td>\n",
       "    </tr>\n",
       "    <tr>\n",
       "      <th>3</th>\n",
       "      <td>4.      Nayakan(1987)</td>\n",
       "    </tr>\n",
       "    <tr>\n",
       "      <th>4</th>\n",
       "      <td>5.      Anbe Sivam(2003)</td>\n",
       "    </tr>\n",
       "    <tr>\n",
       "      <th>...</th>\n",
       "      <td>...</td>\n",
       "    </tr>\n",
       "    <tr>\n",
       "      <th>95</th>\n",
       "      <td>96.      Bommarillu(2006)</td>\n",
       "    </tr>\n",
       "    <tr>\n",
       "      <th>96</th>\n",
       "      <td>97.      Lucia(2013)</td>\n",
       "    </tr>\n",
       "    <tr>\n",
       "      <th>97</th>\n",
       "      <td>98.      Maqbool(2003)</td>\n",
       "    </tr>\n",
       "    <tr>\n",
       "      <th>98</th>\n",
       "      <td>99.      Bombay(1995)</td>\n",
       "    </tr>\n",
       "    <tr>\n",
       "      <th>99</th>\n",
       "      <td>100.      Omkara(2006)</td>\n",
       "    </tr>\n",
       "  </tbody>\n",
       "</table>\n",
       "<p>100 rows × 1 columns</p>\n",
       "</div>"
      ],
      "text/plain": [
       "                                  Movie\n",
       "0         1.      Pather Panchali(1955)\n",
       "1                2.      Gol Maal(1979)\n",
       "2                3.      Ratsasan(2018)\n",
       "3                 4.      Nayakan(1987)\n",
       "4              5.      Anbe Sivam(2003)\n",
       "..                                  ...\n",
       "95            96.      Bommarillu(2006)\n",
       "96                 97.      Lucia(2013)\n",
       "97               98.      Maqbool(2003)\n",
       "98                99.      Bombay(1995)\n",
       "99               100.      Omkara(2006)\n",
       "\n",
       "[100 rows x 1 columns]"
      ]
     },
     "execution_count": 33,
     "metadata": {},
     "output_type": "execute_result"
    }
   ],
   "source": [
    "mv"
   ]
  },
  {
   "cell_type": "code",
   "execution_count": 34,
   "metadata": {},
   "outputs": [
    {
     "data": {
      "text/html": [
       "<div>\n",
       "<style scoped>\n",
       "    .dataframe tbody tr th:only-of-type {\n",
       "        vertical-align: middle;\n",
       "    }\n",
       "\n",
       "    .dataframe tbody tr th {\n",
       "        vertical-align: top;\n",
       "    }\n",
       "\n",
       "    .dataframe thead th {\n",
       "        text-align: right;\n",
       "    }\n",
       "</style>\n",
       "<table border=\"1\" class=\"dataframe\">\n",
       "  <thead>\n",
       "    <tr style=\"text-align: right;\">\n",
       "      <th></th>\n",
       "      <th>0</th>\n",
       "      <th>1</th>\n",
       "    </tr>\n",
       "  </thead>\n",
       "  <tbody>\n",
       "    <tr>\n",
       "      <th>0</th>\n",
       "      <td>1</td>\n",
       "      <td>Pather Panchali(1955)</td>\n",
       "    </tr>\n",
       "    <tr>\n",
       "      <th>1</th>\n",
       "      <td>2</td>\n",
       "      <td>Gol Maal(1979)</td>\n",
       "    </tr>\n",
       "    <tr>\n",
       "      <th>2</th>\n",
       "      <td>3</td>\n",
       "      <td>Ratsasan(2018)</td>\n",
       "    </tr>\n",
       "    <tr>\n",
       "      <th>3</th>\n",
       "      <td>4</td>\n",
       "      <td>Nayakan(1987)</td>\n",
       "    </tr>\n",
       "    <tr>\n",
       "      <th>4</th>\n",
       "      <td>5</td>\n",
       "      <td>Anbe Sivam(2003)</td>\n",
       "    </tr>\n",
       "    <tr>\n",
       "      <th>...</th>\n",
       "      <td>...</td>\n",
       "      <td>...</td>\n",
       "    </tr>\n",
       "    <tr>\n",
       "      <th>95</th>\n",
       "      <td>96</td>\n",
       "      <td>Bommarillu(2006)</td>\n",
       "    </tr>\n",
       "    <tr>\n",
       "      <th>96</th>\n",
       "      <td>97</td>\n",
       "      <td>Lucia(2013)</td>\n",
       "    </tr>\n",
       "    <tr>\n",
       "      <th>97</th>\n",
       "      <td>98</td>\n",
       "      <td>Maqbool(2003)</td>\n",
       "    </tr>\n",
       "    <tr>\n",
       "      <th>98</th>\n",
       "      <td>99</td>\n",
       "      <td>Bombay(1995)</td>\n",
       "    </tr>\n",
       "    <tr>\n",
       "      <th>99</th>\n",
       "      <td>100</td>\n",
       "      <td>Omkara(2006)</td>\n",
       "    </tr>\n",
       "  </tbody>\n",
       "</table>\n",
       "<p>100 rows × 2 columns</p>\n",
       "</div>"
      ],
      "text/plain": [
       "            0                            1\n",
       "0           1        Pather Panchali(1955)\n",
       "1           2               Gol Maal(1979)\n",
       "2           3               Ratsasan(2018)\n",
       "3           4                Nayakan(1987)\n",
       "4           5             Anbe Sivam(2003)\n",
       "..        ...                          ...\n",
       "95         96             Bommarillu(2006)\n",
       "96         97                  Lucia(2013)\n",
       "97         98                Maqbool(2003)\n",
       "98         99                 Bombay(1995)\n",
       "99        100                 Omkara(2006)\n",
       "\n",
       "[100 rows x 2 columns]"
      ]
     },
     "execution_count": 34,
     "metadata": {},
     "output_type": "execute_result"
    }
   ],
   "source": [
    "#Splitting ranks with Movie and year\n",
    "new = mv[\"Movie\"].str.split(\".\", n = 1, expand = True) \n",
    "new"
   ]
  },
  {
   "cell_type": "code",
   "execution_count": 35,
   "metadata": {},
   "outputs": [
    {
     "data": {
      "text/html": [
       "<div>\n",
       "<style scoped>\n",
       "    .dataframe tbody tr th:only-of-type {\n",
       "        vertical-align: middle;\n",
       "    }\n",
       "\n",
       "    .dataframe tbody tr th {\n",
       "        vertical-align: top;\n",
       "    }\n",
       "\n",
       "    .dataframe thead th {\n",
       "        text-align: right;\n",
       "    }\n",
       "</style>\n",
       "<table border=\"1\" class=\"dataframe\">\n",
       "  <thead>\n",
       "    <tr style=\"text-align: right;\">\n",
       "      <th></th>\n",
       "      <th>0</th>\n",
       "      <th>1</th>\n",
       "    </tr>\n",
       "  </thead>\n",
       "  <tbody>\n",
       "    <tr>\n",
       "      <th>0</th>\n",
       "      <td>Pather Panchali</td>\n",
       "      <td>1955)</td>\n",
       "    </tr>\n",
       "    <tr>\n",
       "      <th>1</th>\n",
       "      <td>Gol Maal</td>\n",
       "      <td>1979)</td>\n",
       "    </tr>\n",
       "    <tr>\n",
       "      <th>2</th>\n",
       "      <td>Ratsasan</td>\n",
       "      <td>2018)</td>\n",
       "    </tr>\n",
       "    <tr>\n",
       "      <th>3</th>\n",
       "      <td>Nayakan</td>\n",
       "      <td>1987)</td>\n",
       "    </tr>\n",
       "    <tr>\n",
       "      <th>4</th>\n",
       "      <td>Anbe Sivam</td>\n",
       "      <td>2003)</td>\n",
       "    </tr>\n",
       "    <tr>\n",
       "      <th>...</th>\n",
       "      <td>...</td>\n",
       "      <td>...</td>\n",
       "    </tr>\n",
       "    <tr>\n",
       "      <th>95</th>\n",
       "      <td>Bommarillu</td>\n",
       "      <td>2006)</td>\n",
       "    </tr>\n",
       "    <tr>\n",
       "      <th>96</th>\n",
       "      <td>Lucia</td>\n",
       "      <td>2013)</td>\n",
       "    </tr>\n",
       "    <tr>\n",
       "      <th>97</th>\n",
       "      <td>Maqbool</td>\n",
       "      <td>2003)</td>\n",
       "    </tr>\n",
       "    <tr>\n",
       "      <th>98</th>\n",
       "      <td>Bombay</td>\n",
       "      <td>1995)</td>\n",
       "    </tr>\n",
       "    <tr>\n",
       "      <th>99</th>\n",
       "      <td>Omkara</td>\n",
       "      <td>2006)</td>\n",
       "    </tr>\n",
       "  </tbody>\n",
       "</table>\n",
       "<p>100 rows × 2 columns</p>\n",
       "</div>"
      ],
      "text/plain": [
       "                        0      1\n",
       "0         Pather Panchali  1955)\n",
       "1                Gol Maal  1979)\n",
       "2                Ratsasan  2018)\n",
       "3                 Nayakan  1987)\n",
       "4              Anbe Sivam  2003)\n",
       "..                    ...    ...\n",
       "95             Bommarillu  2006)\n",
       "96                  Lucia  2013)\n",
       "97                Maqbool  2003)\n",
       "98                 Bombay  1995)\n",
       "99                 Omkara  2006)\n",
       "\n",
       "[100 rows x 2 columns]"
      ]
     },
     "execution_count": 35,
     "metadata": {},
     "output_type": "execute_result"
    }
   ],
   "source": [
    "#Splitting movie and year\n",
    "new2=new[1].str.split(\"(\", n = 1, expand = True) \n",
    "new2"
   ]
  },
  {
   "cell_type": "code",
   "execution_count": 36,
   "metadata": {},
   "outputs": [
    {
     "data": {
      "text/html": [
       "<div>\n",
       "<style scoped>\n",
       "    .dataframe tbody tr th:only-of-type {\n",
       "        vertical-align: middle;\n",
       "    }\n",
       "\n",
       "    .dataframe tbody tr th {\n",
       "        vertical-align: top;\n",
       "    }\n",
       "\n",
       "    .dataframe thead th {\n",
       "        text-align: right;\n",
       "    }\n",
       "</style>\n",
       "<table border=\"1\" class=\"dataframe\">\n",
       "  <thead>\n",
       "    <tr style=\"text-align: right;\">\n",
       "      <th></th>\n",
       "      <th>0</th>\n",
       "      <th>1</th>\n",
       "    </tr>\n",
       "  </thead>\n",
       "  <tbody>\n",
       "    <tr>\n",
       "      <th>0</th>\n",
       "      <td>Pather Panchali</td>\n",
       "      <td>1955</td>\n",
       "    </tr>\n",
       "    <tr>\n",
       "      <th>1</th>\n",
       "      <td>Gol Maal</td>\n",
       "      <td>1979</td>\n",
       "    </tr>\n",
       "    <tr>\n",
       "      <th>2</th>\n",
       "      <td>Ratsasan</td>\n",
       "      <td>2018</td>\n",
       "    </tr>\n",
       "    <tr>\n",
       "      <th>3</th>\n",
       "      <td>Nayakan</td>\n",
       "      <td>1987</td>\n",
       "    </tr>\n",
       "    <tr>\n",
       "      <th>4</th>\n",
       "      <td>Anbe Sivam</td>\n",
       "      <td>2003</td>\n",
       "    </tr>\n",
       "    <tr>\n",
       "      <th>...</th>\n",
       "      <td>...</td>\n",
       "      <td>...</td>\n",
       "    </tr>\n",
       "    <tr>\n",
       "      <th>95</th>\n",
       "      <td>Bommarillu</td>\n",
       "      <td>2006</td>\n",
       "    </tr>\n",
       "    <tr>\n",
       "      <th>96</th>\n",
       "      <td>Lucia</td>\n",
       "      <td>2013</td>\n",
       "    </tr>\n",
       "    <tr>\n",
       "      <th>97</th>\n",
       "      <td>Maqbool</td>\n",
       "      <td>2003</td>\n",
       "    </tr>\n",
       "    <tr>\n",
       "      <th>98</th>\n",
       "      <td>Bombay</td>\n",
       "      <td>1995</td>\n",
       "    </tr>\n",
       "    <tr>\n",
       "      <th>99</th>\n",
       "      <td>Omkara</td>\n",
       "      <td>2006</td>\n",
       "    </tr>\n",
       "  </tbody>\n",
       "</table>\n",
       "<p>100 rows × 2 columns</p>\n",
       "</div>"
      ],
      "text/plain": [
       "                        0     1\n",
       "0         Pather Panchali  1955\n",
       "1                Gol Maal  1979\n",
       "2                Ratsasan  2018\n",
       "3                 Nayakan  1987\n",
       "4              Anbe Sivam  2003\n",
       "..                    ...   ...\n",
       "95             Bommarillu  2006\n",
       "96                  Lucia  2013\n",
       "97                Maqbool  2003\n",
       "98                 Bombay  1995\n",
       "99                 Omkara  2006\n",
       "\n",
       "[100 rows x 2 columns]"
      ]
     },
     "execution_count": 36,
     "metadata": {},
     "output_type": "execute_result"
    }
   ],
   "source": [
    "#Removing bracket from year\n",
    "new2[1]=new2[1].str.replace('[^.\\d]','')\n",
    "new2"
   ]
  },
  {
   "cell_type": "code",
   "execution_count": 37,
   "metadata": {},
   "outputs": [],
   "source": [
    "rating=soup.find_all('td', class_='ratingColumn imdbRating')\n"
   ]
  },
  {
   "cell_type": "code",
   "execution_count": 38,
   "metadata": {},
   "outputs": [],
   "source": [
    "for i in rating:\n",
    "    \n",
    "    IMDB_Rating.append(i.get_text().replace(\"\\n\",\"\"))"
   ]
  },
  {
   "cell_type": "code",
   "execution_count": 39,
   "metadata": {},
   "outputs": [],
   "source": [
    "#Selecting top 100 ratings from the list\n",
    "IMDB_Rating=IMDB_Rating[0:100]"
   ]
  },
  {
   "cell_type": "code",
   "execution_count": 40,
   "metadata": {},
   "outputs": [
    {
     "data": {
      "text/html": [
       "<div>\n",
       "<style scoped>\n",
       "    .dataframe tbody tr th:only-of-type {\n",
       "        vertical-align: middle;\n",
       "    }\n",
       "\n",
       "    .dataframe tbody tr th {\n",
       "        vertical-align: top;\n",
       "    }\n",
       "\n",
       "    .dataframe thead th {\n",
       "        text-align: right;\n",
       "    }\n",
       "</style>\n",
       "<table border=\"1\" class=\"dataframe\">\n",
       "  <thead>\n",
       "    <tr style=\"text-align: right;\">\n",
       "      <th></th>\n",
       "      <th>Rating</th>\n",
       "    </tr>\n",
       "  </thead>\n",
       "  <tbody>\n",
       "    <tr>\n",
       "      <th>0</th>\n",
       "      <td>8.5</td>\n",
       "    </tr>\n",
       "    <tr>\n",
       "      <th>1</th>\n",
       "      <td>8.5</td>\n",
       "    </tr>\n",
       "    <tr>\n",
       "      <th>2</th>\n",
       "      <td>8.5</td>\n",
       "    </tr>\n",
       "    <tr>\n",
       "      <th>3</th>\n",
       "      <td>8.5</td>\n",
       "    </tr>\n",
       "    <tr>\n",
       "      <th>4</th>\n",
       "      <td>8.5</td>\n",
       "    </tr>\n",
       "    <tr>\n",
       "      <th>...</th>\n",
       "      <td>...</td>\n",
       "    </tr>\n",
       "    <tr>\n",
       "      <th>95</th>\n",
       "      <td>8.0</td>\n",
       "    </tr>\n",
       "    <tr>\n",
       "      <th>96</th>\n",
       "      <td>8.0</td>\n",
       "    </tr>\n",
       "    <tr>\n",
       "      <th>97</th>\n",
       "      <td>8.0</td>\n",
       "    </tr>\n",
       "    <tr>\n",
       "      <th>98</th>\n",
       "      <td>8.0</td>\n",
       "    </tr>\n",
       "    <tr>\n",
       "      <th>99</th>\n",
       "      <td>8.0</td>\n",
       "    </tr>\n",
       "  </tbody>\n",
       "</table>\n",
       "<p>100 rows × 1 columns</p>\n",
       "</div>"
      ],
      "text/plain": [
       "   Rating\n",
       "0     8.5\n",
       "1     8.5\n",
       "2     8.5\n",
       "3     8.5\n",
       "4     8.5\n",
       "..    ...\n",
       "95    8.0\n",
       "96    8.0\n",
       "97    8.0\n",
       "98    8.0\n",
       "99    8.0\n",
       "\n",
       "[100 rows x 1 columns]"
      ]
     },
     "execution_count": 40,
     "metadata": {},
     "output_type": "execute_result"
    }
   ],
   "source": [
    "rt=pd.DataFrame({})\n",
    "rt['Rating']=IMDB_Rating\n",
    "rt"
   ]
  },
  {
   "cell_type": "code",
   "execution_count": 41,
   "metadata": {},
   "outputs": [
    {
     "data": {
      "text/html": [
       "<div>\n",
       "<style scoped>\n",
       "    .dataframe tbody tr th:only-of-type {\n",
       "        vertical-align: middle;\n",
       "    }\n",
       "\n",
       "    .dataframe tbody tr th {\n",
       "        vertical-align: top;\n",
       "    }\n",
       "\n",
       "    .dataframe thead th {\n",
       "        text-align: right;\n",
       "    }\n",
       "</style>\n",
       "<table border=\"1\" class=\"dataframe\">\n",
       "  <thead>\n",
       "    <tr style=\"text-align: right;\">\n",
       "      <th></th>\n",
       "      <th>0</th>\n",
       "      <th>1</th>\n",
       "      <th>Rating</th>\n",
       "    </tr>\n",
       "  </thead>\n",
       "  <tbody>\n",
       "    <tr>\n",
       "      <th>0</th>\n",
       "      <td>Pather Panchali</td>\n",
       "      <td>1955</td>\n",
       "      <td>8.5</td>\n",
       "    </tr>\n",
       "    <tr>\n",
       "      <th>1</th>\n",
       "      <td>Gol Maal</td>\n",
       "      <td>1979</td>\n",
       "      <td>8.5</td>\n",
       "    </tr>\n",
       "    <tr>\n",
       "      <th>2</th>\n",
       "      <td>Ratsasan</td>\n",
       "      <td>2018</td>\n",
       "      <td>8.5</td>\n",
       "    </tr>\n",
       "    <tr>\n",
       "      <th>3</th>\n",
       "      <td>Nayakan</td>\n",
       "      <td>1987</td>\n",
       "      <td>8.5</td>\n",
       "    </tr>\n",
       "    <tr>\n",
       "      <th>4</th>\n",
       "      <td>Anbe Sivam</td>\n",
       "      <td>2003</td>\n",
       "      <td>8.5</td>\n",
       "    </tr>\n",
       "    <tr>\n",
       "      <th>...</th>\n",
       "      <td>...</td>\n",
       "      <td>...</td>\n",
       "      <td>...</td>\n",
       "    </tr>\n",
       "    <tr>\n",
       "      <th>95</th>\n",
       "      <td>Bommarillu</td>\n",
       "      <td>2006</td>\n",
       "      <td>8.0</td>\n",
       "    </tr>\n",
       "    <tr>\n",
       "      <th>96</th>\n",
       "      <td>Lucia</td>\n",
       "      <td>2013</td>\n",
       "      <td>8.0</td>\n",
       "    </tr>\n",
       "    <tr>\n",
       "      <th>97</th>\n",
       "      <td>Maqbool</td>\n",
       "      <td>2003</td>\n",
       "      <td>8.0</td>\n",
       "    </tr>\n",
       "    <tr>\n",
       "      <th>98</th>\n",
       "      <td>Bombay</td>\n",
       "      <td>1995</td>\n",
       "      <td>8.0</td>\n",
       "    </tr>\n",
       "    <tr>\n",
       "      <th>99</th>\n",
       "      <td>Omkara</td>\n",
       "      <td>2006</td>\n",
       "      <td>8.0</td>\n",
       "    </tr>\n",
       "  </tbody>\n",
       "</table>\n",
       "<p>100 rows × 3 columns</p>\n",
       "</div>"
      ],
      "text/plain": [
       "                        0     1 Rating\n",
       "0         Pather Panchali  1955    8.5\n",
       "1                Gol Maal  1979    8.5\n",
       "2                Ratsasan  2018    8.5\n",
       "3                 Nayakan  1987    8.5\n",
       "4              Anbe Sivam  2003    8.5\n",
       "..                    ...   ...    ...\n",
       "95             Bommarillu  2006    8.0\n",
       "96                  Lucia  2013    8.0\n",
       "97                Maqbool  2003    8.0\n",
       "98                 Bombay  1995    8.0\n",
       "99                 Omkara  2006    8.0\n",
       "\n",
       "[100 rows x 3 columns]"
      ]
     },
     "execution_count": 41,
     "metadata": {},
     "output_type": "execute_result"
    }
   ],
   "source": [
    "#Concatenation of dataframes\n",
    "Indiantop100 = pd.concat([new2,rt],axis=1)\n",
    "Indiantop100"
   ]
  },
  {
   "cell_type": "code",
   "execution_count": 42,
   "metadata": {},
   "outputs": [
    {
     "data": {
      "text/html": [
       "<div>\n",
       "<style scoped>\n",
       "    .dataframe tbody tr th:only-of-type {\n",
       "        vertical-align: middle;\n",
       "    }\n",
       "\n",
       "    .dataframe tbody tr th {\n",
       "        vertical-align: top;\n",
       "    }\n",
       "\n",
       "    .dataframe thead th {\n",
       "        text-align: right;\n",
       "    }\n",
       "</style>\n",
       "<table border=\"1\" class=\"dataframe\">\n",
       "  <thead>\n",
       "    <tr style=\"text-align: right;\">\n",
       "      <th></th>\n",
       "      <th>Movie</th>\n",
       "      <th>Year of Release</th>\n",
       "      <th>Rating</th>\n",
       "    </tr>\n",
       "  </thead>\n",
       "  <tbody>\n",
       "    <tr>\n",
       "      <th>0</th>\n",
       "      <td>Pather Panchali</td>\n",
       "      <td>1955</td>\n",
       "      <td>8.5</td>\n",
       "    </tr>\n",
       "    <tr>\n",
       "      <th>1</th>\n",
       "      <td>Gol Maal</td>\n",
       "      <td>1979</td>\n",
       "      <td>8.5</td>\n",
       "    </tr>\n",
       "    <tr>\n",
       "      <th>2</th>\n",
       "      <td>Ratsasan</td>\n",
       "      <td>2018</td>\n",
       "      <td>8.5</td>\n",
       "    </tr>\n",
       "    <tr>\n",
       "      <th>3</th>\n",
       "      <td>Nayakan</td>\n",
       "      <td>1987</td>\n",
       "      <td>8.5</td>\n",
       "    </tr>\n",
       "    <tr>\n",
       "      <th>4</th>\n",
       "      <td>Anbe Sivam</td>\n",
       "      <td>2003</td>\n",
       "      <td>8.5</td>\n",
       "    </tr>\n",
       "    <tr>\n",
       "      <th>...</th>\n",
       "      <td>...</td>\n",
       "      <td>...</td>\n",
       "      <td>...</td>\n",
       "    </tr>\n",
       "    <tr>\n",
       "      <th>95</th>\n",
       "      <td>Bommarillu</td>\n",
       "      <td>2006</td>\n",
       "      <td>8.0</td>\n",
       "    </tr>\n",
       "    <tr>\n",
       "      <th>96</th>\n",
       "      <td>Lucia</td>\n",
       "      <td>2013</td>\n",
       "      <td>8.0</td>\n",
       "    </tr>\n",
       "    <tr>\n",
       "      <th>97</th>\n",
       "      <td>Maqbool</td>\n",
       "      <td>2003</td>\n",
       "      <td>8.0</td>\n",
       "    </tr>\n",
       "    <tr>\n",
       "      <th>98</th>\n",
       "      <td>Bombay</td>\n",
       "      <td>1995</td>\n",
       "      <td>8.0</td>\n",
       "    </tr>\n",
       "    <tr>\n",
       "      <th>99</th>\n",
       "      <td>Omkara</td>\n",
       "      <td>2006</td>\n",
       "      <td>8.0</td>\n",
       "    </tr>\n",
       "  </tbody>\n",
       "</table>\n",
       "<p>100 rows × 3 columns</p>\n",
       "</div>"
      ],
      "text/plain": [
       "                    Movie Year of Release Rating\n",
       "0         Pather Panchali            1955    8.5\n",
       "1                Gol Maal            1979    8.5\n",
       "2                Ratsasan            2018    8.5\n",
       "3                 Nayakan            1987    8.5\n",
       "4              Anbe Sivam            2003    8.5\n",
       "..                    ...             ...    ...\n",
       "95             Bommarillu            2006    8.0\n",
       "96                  Lucia            2013    8.0\n",
       "97                Maqbool            2003    8.0\n",
       "98                 Bombay            1995    8.0\n",
       "99                 Omkara            2006    8.0\n",
       "\n",
       "[100 rows x 3 columns]"
      ]
     },
     "execution_count": 42,
     "metadata": {},
     "output_type": "execute_result"
    }
   ],
   "source": [
    "#Renaming the columns\n",
    "Indiantop100.columns=['Movie','Year of Release','Rating']\n",
    "Indiantop100"
   ]
  },
  {
   "cell_type": "code",
   "execution_count": 43,
   "metadata": {},
   "outputs": [],
   "source": [
    "Indiantop100.to_csv('Indiantop100.csv') "
   ]
  },
  {
   "cell_type": "markdown",
   "metadata": {},
   "source": [
    "## Question 4\n",
    "***Write a python program to scrap book name, author name, genre and book review of any 5 books from\n",
    "‘www.bookpage.com’***"
   ]
  },
  {
   "cell_type": "code",
   "execution_count": 44,
   "metadata": {},
   "outputs": [],
   "source": [
    "page=requests.get(\"https://bookpage.com/reviews\")"
   ]
  },
  {
   "cell_type": "code",
   "execution_count": 45,
   "metadata": {},
   "outputs": [],
   "source": [
    "soup=BeautifulSoup(page.content,'html.parser')"
   ]
  },
  {
   "cell_type": "code",
   "execution_count": 46,
   "metadata": {},
   "outputs": [],
   "source": [
    "Book_Name=[]\n",
    "Author_Name=[]\n",
    "Genre=[]\n",
    "Book_Review=[]"
   ]
  },
  {
   "cell_type": "code",
   "execution_count": 47,
   "metadata": {},
   "outputs": [
    {
     "data": {
      "text/plain": [
       "[<h4 class=\"italic\">\n",
       " <a href=\"/reviews/25816-mateo-askaripour-black-buck-fiction\"> <span style=\"font-style:normal;\">★ </span>Black Buck</a>\n",
       " </h4>,\n",
       " <h4 class=\"italic\">\n",
       " <a href=\"/reviews/25783-cathy-bonidan-lost-manuscript-fiction\">The Lost Manuscript</a>\n",
       " </h4>,\n",
       " <h4 class=\"italic\">\n",
       " <a href=\"/reviews/25778-torrey-peters-detransition-baby-fiction\"> <span style=\"font-style:normal;\">★ </span>Detransition, Baby</a>\n",
       " </h4>,\n",
       " <h4 class=\"italic\">\n",
       " <a href=\"/reviews/25883-c-m-waggoner-ruthless-ladys-guide-to-wizardry-science-fiction-fantasy\">The Ruthless Lady's Guide to Wizardry</a>\n",
       " </h4>,\n",
       " <h4 class=\"italic\">\n",
       " <a href=\"/reviews/25884-p-j-tracy-deep-into-dark-mystery-suspense\"> <span style=\"font-style:normal;\">★ </span>Deep Into the Dark</a>\n",
       " </h4>]"
      ]
     },
     "execution_count": 47,
     "metadata": {},
     "output_type": "execute_result"
    }
   ],
   "source": [
    "#Finding the book name\n",
    "book=soup.find_all('h4',class_=\"italic\")\n",
    "book[0:5]"
   ]
  },
  {
   "cell_type": "code",
   "execution_count": 48,
   "metadata": {},
   "outputs": [
    {
     "data": {
      "text/plain": [
       "[' ★ Black Buck',\n",
       " 'The Lost Manuscript',\n",
       " ' ★ Detransition, Baby',\n",
       " \"The Ruthless Lady's Guide to Wizardry\",\n",
       " ' ★ Deep Into the Dark']"
      ]
     },
     "execution_count": 48,
     "metadata": {},
     "output_type": "execute_result"
    }
   ],
   "source": [
    "for i in book:\n",
    "    \n",
    "    Book_Name.append(i.get_text().replace(\"\\n\",\"\"))\n",
    "Book_Name[0:5]"
   ]
  },
  {
   "cell_type": "code",
   "execution_count": 49,
   "metadata": {},
   "outputs": [],
   "source": [
    "Book_Name=Book_Name[0:5]"
   ]
  },
  {
   "cell_type": "code",
   "execution_count": 50,
   "metadata": {},
   "outputs": [
    {
     "data": {
      "text/plain": [
       "[<p class=\"sans bold\">\n",
       " Mateo Askaripour\n",
       " </p>,\n",
       " <p class=\"sans bold\">\n",
       " Cathy Bonidan, Emma Ramadan\n",
       " </p>,\n",
       " <p class=\"sans bold\">\n",
       " Torrey Peters\n",
       " </p>,\n",
       " <p class=\"sans bold\">\n",
       " C.M. Waggoner\n",
       " </p>,\n",
       " <p class=\"sans bold\">\n",
       " P.J. Tracy\n",
       " </p>]"
      ]
     },
     "execution_count": 50,
     "metadata": {},
     "output_type": "execute_result"
    }
   ],
   "source": [
    "author=soup.find_all('p',class_=\"sans bold\")\n",
    "author[0:5]"
   ]
  },
  {
   "cell_type": "code",
   "execution_count": 51,
   "metadata": {},
   "outputs": [
    {
     "data": {
      "text/plain": [
       "['Mateo Askaripour',\n",
       " 'Cathy Bonidan, Emma Ramadan',\n",
       " 'Torrey Peters',\n",
       " 'C.M. Waggoner',\n",
       " 'P.J. Tracy']"
      ]
     },
     "execution_count": 51,
     "metadata": {},
     "output_type": "execute_result"
    }
   ],
   "source": [
    "for i in author:\n",
    "    \n",
    "    Author_Name.append(i.get_text().replace(\"\\n\",\"\"))\n",
    "Author_Name[0:5]"
   ]
  },
  {
   "cell_type": "code",
   "execution_count": 52,
   "metadata": {},
   "outputs": [],
   "source": [
    "Author_Name=Author_Name[0:5]"
   ]
  },
  {
   "cell_type": "code",
   "execution_count": 53,
   "metadata": {},
   "outputs": [],
   "source": [
    "genre=soup.find_all('p', class_=\"genre-links hidden-phone\")\n",
    "\n"
   ]
  },
  {
   "cell_type": "code",
   "execution_count": 54,
   "metadata": {},
   "outputs": [
    {
     "data": {
      "text/plain": [
       "['Fiction / Satirical Fiction',\n",
       " 'Fiction / Popular Fiction',\n",
       " 'Fiction / Family Drama',\n",
       " 'Science Fiction & Fantasy / Fantasy',\n",
       " 'Mystery & Suspense / Mystery']"
      ]
     },
     "execution_count": 54,
     "metadata": {},
     "output_type": "execute_result"
    }
   ],
   "source": [
    "for i in genre:\n",
    "    \n",
    "    Genre.append(i.get_text().replace(\"\\n\",\"\"))\n",
    "Genre[0:5]"
   ]
  },
  {
   "cell_type": "code",
   "execution_count": 55,
   "metadata": {},
   "outputs": [],
   "source": [
    "Genre=Genre[0:5]"
   ]
  },
  {
   "cell_type": "code",
   "execution_count": 56,
   "metadata": {},
   "outputs": [],
   "source": [
    "#Now, we have links of book reviews under each section, so we are going to extract those links from the HTML code\n",
    "classes = soup.findAll('div', {'class': 'read-full'})"
   ]
  },
  {
   "cell_type": "code",
   "execution_count": 57,
   "metadata": {},
   "outputs": [],
   "source": [
    "classes_soup = BeautifulSoup(str(classes))"
   ]
  },
  {
   "cell_type": "code",
   "execution_count": 58,
   "metadata": {},
   "outputs": [
    {
     "name": "stdout",
     "output_type": "stream",
     "text": [
      "Found the URL: /reviews/25816-mateo-askaripour-black-buck-fiction\n",
      "Found the URL: /reviews/25783-cathy-bonidan-lost-manuscript-fiction\n",
      "Found the URL: /reviews/25778-torrey-peters-detransition-baby-fiction\n",
      "Found the URL: /reviews/25883-c-m-waggoner-ruthless-ladys-guide-to-wizardry-science-fiction-fantasy\n",
      "Found the URL: /reviews/25884-p-j-tracy-deep-into-dark-mystery-suspense\n",
      "Found the URL: /reviews/25887-angie-thomas-concrete-rose-ya\n",
      "Found the URL: /reviews/25766-george-saunders-swim-pond-rain-nonfiction\n",
      "Found the URL: /reviews/25794-michael-e-mann-new-climate-war-nonfiction\n",
      "Found the URL: /reviews/25852-gary-d-schmidt-just-like-that-childrens\n",
      "Found the URL: /reviews/25881-paraic-odonnell-house-vesper-sands-mystery-suspense\n"
     ]
    }
   ],
   "source": [
    "for a in classes_soup.find_all('a', href=True):\n",
    "    print (\"Found the URL:\", a['href'])\n",
    "    Book_Review.append(a['href'])\n"
   ]
  },
  {
   "cell_type": "code",
   "execution_count": 59,
   "metadata": {},
   "outputs": [
    {
     "data": {
      "text/plain": [
       "['/reviews/25816-mateo-askaripour-black-buck-fiction',\n",
       " '/reviews/25783-cathy-bonidan-lost-manuscript-fiction',\n",
       " '/reviews/25778-torrey-peters-detransition-baby-fiction',\n",
       " '/reviews/25883-c-m-waggoner-ruthless-ladys-guide-to-wizardry-science-fiction-fantasy',\n",
       " '/reviews/25884-p-j-tracy-deep-into-dark-mystery-suspense']"
      ]
     },
     "execution_count": 59,
     "metadata": {},
     "output_type": "execute_result"
    }
   ],
   "source": [
    "Book_Review=Book_Review[0:5]\n",
    "Book_Review"
   ]
  },
  {
   "cell_type": "code",
   "execution_count": 60,
   "metadata": {},
   "outputs": [
    {
     "data": {
      "text/html": [
       "<div>\n",
       "<style scoped>\n",
       "    .dataframe tbody tr th:only-of-type {\n",
       "        vertical-align: middle;\n",
       "    }\n",
       "\n",
       "    .dataframe tbody tr th {\n",
       "        vertical-align: top;\n",
       "    }\n",
       "\n",
       "    .dataframe thead th {\n",
       "        text-align: right;\n",
       "    }\n",
       "</style>\n",
       "<table border=\"1\" class=\"dataframe\">\n",
       "  <thead>\n",
       "    <tr style=\"text-align: right;\">\n",
       "      <th></th>\n",
       "      <th>Book Name</th>\n",
       "      <th>Author Name</th>\n",
       "      <th>Genre</th>\n",
       "      <th>Book Review</th>\n",
       "    </tr>\n",
       "  </thead>\n",
       "  <tbody>\n",
       "    <tr>\n",
       "      <th>0</th>\n",
       "      <td>★ Black Buck</td>\n",
       "      <td>Mateo Askaripour</td>\n",
       "      <td>Fiction / Satirical Fiction</td>\n",
       "      <td>https://bookpage.com//reviews/25816-mateo-aska...</td>\n",
       "    </tr>\n",
       "    <tr>\n",
       "      <th>1</th>\n",
       "      <td>The Lost Manuscript</td>\n",
       "      <td>Cathy Bonidan, Emma Ramadan</td>\n",
       "      <td>Fiction / Popular Fiction</td>\n",
       "      <td>https://bookpage.com//reviews/25783-cathy-boni...</td>\n",
       "    </tr>\n",
       "    <tr>\n",
       "      <th>2</th>\n",
       "      <td>★ Detransition, Baby</td>\n",
       "      <td>Torrey Peters</td>\n",
       "      <td>Fiction / Family Drama</td>\n",
       "      <td>https://bookpage.com//reviews/25778-torrey-pet...</td>\n",
       "    </tr>\n",
       "    <tr>\n",
       "      <th>3</th>\n",
       "      <td>The Ruthless Lady's Guide to Wizardry</td>\n",
       "      <td>C.M. Waggoner</td>\n",
       "      <td>Science Fiction &amp; Fantasy / Fantasy</td>\n",
       "      <td>https://bookpage.com//reviews/25883-c-m-waggon...</td>\n",
       "    </tr>\n",
       "    <tr>\n",
       "      <th>4</th>\n",
       "      <td>★ Deep Into the Dark</td>\n",
       "      <td>P.J. Tracy</td>\n",
       "      <td>Mystery &amp; Suspense / Mystery</td>\n",
       "      <td>https://bookpage.com//reviews/25884-p-j-tracy-...</td>\n",
       "    </tr>\n",
       "  </tbody>\n",
       "</table>\n",
       "</div>"
      ],
      "text/plain": [
       "                               Book Name                  Author Name  \\\n",
       "0                           ★ Black Buck             Mateo Askaripour   \n",
       "1                    The Lost Manuscript  Cathy Bonidan, Emma Ramadan   \n",
       "2                   ★ Detransition, Baby                Torrey Peters   \n",
       "3  The Ruthless Lady's Guide to Wizardry                C.M. Waggoner   \n",
       "4                   ★ Deep Into the Dark                   P.J. Tracy   \n",
       "\n",
       "                                 Genre  \\\n",
       "0          Fiction / Satirical Fiction   \n",
       "1            Fiction / Popular Fiction   \n",
       "2               Fiction / Family Drama   \n",
       "3  Science Fiction & Fantasy / Fantasy   \n",
       "4         Mystery & Suspense / Mystery   \n",
       "\n",
       "                                         Book Review  \n",
       "0  https://bookpage.com//reviews/25816-mateo-aska...  \n",
       "1  https://bookpage.com//reviews/25783-cathy-boni...  \n",
       "2  https://bookpage.com//reviews/25778-torrey-pet...  \n",
       "3  https://bookpage.com//reviews/25883-c-m-waggon...  \n",
       "4  https://bookpage.com//reviews/25884-p-j-tracy-...  "
      ]
     },
     "execution_count": 60,
     "metadata": {},
     "output_type": "execute_result"
    }
   ],
   "source": [
    "import pandas as pd\n",
    "br=pd.DataFrame({})\n",
    "br['Book Name']=Book_Name\n",
    "br['Author Name']=Author_Name\n",
    "br['Genre']=Genre\n",
    "br['https']=\"https://bookpage.com/\"\n",
    "br['Book Review']=Book_Review\n",
    "br['Book Review']=br['https']+br['Book Review']\n",
    "br.drop(columns=['https'],axis=1, inplace=True)\n",
    "br\n"
   ]
  },
  {
   "cell_type": "code",
   "execution_count": 61,
   "metadata": {},
   "outputs": [],
   "source": [
    "br.to_csv('BookReview.csv')"
   ]
  },
  {
   "cell_type": "markdown",
   "metadata": {},
   "source": [
    "# Question 5\n",
    "***Write a python program to scrape cricket rankings from ‘www.icc-cricket.com’. You have to scrape:\n",
    "\n",
    "i) Top 10 ODI teams in men’s cricket along with the records for matches, points and rating.\n",
    "\n",
    "ii) Top 10 ODI Batsmen in men along with the records of their team and rating.\n",
    "\n",
    "iii) Top 10 ODI bowlers along with the records of their team and rating.***"
   ]
  },
  {
   "cell_type": "markdown",
   "metadata": {},
   "source": [
    "### Part 1- Top 10 teams(ODI)"
   ]
  },
  {
   "cell_type": "code",
   "execution_count": 50,
   "metadata": {},
   "outputs": [],
   "source": [
    "driver=webdriver.Chrome(r\"D:\\downloadc\\chrome downloads\\New folder\\chromedriver.exe\")"
   ]
  },
  {
   "cell_type": "code",
   "execution_count": 63,
   "metadata": {},
   "outputs": [],
   "source": [
    "url=('https://www.icc-cricket.com/rankings/mens/team-rankings/odi')"
   ]
  },
  {
   "cell_type": "code",
   "execution_count": 147,
   "metadata": {},
   "outputs": [],
   "source": [
    "driver.get(url)"
   ]
  },
  {
   "cell_type": "code",
   "execution_count": 65,
   "metadata": {},
   "outputs": [],
   "source": [
    "Team=[]\n",
    "Matches=[]\n",
    "Points=[]\n",
    "Ratings=[]"
   ]
  },
  {
   "cell_type": "code",
   "execution_count": 66,
   "metadata": {},
   "outputs": [
    {
     "data": {
      "text/plain": [
       "[<selenium.webdriver.remote.webelement.WebElement (session=\"361318216a75fc7ca75cf687fed604d0\", element=\"fe3b9f2a-9aa9-4faa-a277-b35d966f7e0d\")>,\n",
       " <selenium.webdriver.remote.webelement.WebElement (session=\"361318216a75fc7ca75cf687fed604d0\", element=\"05864d41-63e9-495d-9c4d-ba4bd0f3e094\")>,\n",
       " <selenium.webdriver.remote.webelement.WebElement (session=\"361318216a75fc7ca75cf687fed604d0\", element=\"4bec0a1d-e480-45b8-bcee-754e6adef6d7\")>]"
      ]
     },
     "execution_count": 66,
     "metadata": {},
     "output_type": "execute_result"
    }
   ],
   "source": [
    "team_tags=driver.find_elements_by_xpath(\"//span[@class='u-hide-phablet']\")\n",
    "team_tags[0:3]"
   ]
  },
  {
   "cell_type": "code",
   "execution_count": 67,
   "metadata": {},
   "outputs": [
    {
     "data": {
      "text/plain": [
       "['England', 'India', 'New Zealand', 'Australia']"
      ]
     },
     "execution_count": 67,
     "metadata": {},
     "output_type": "execute_result"
    }
   ],
   "source": [
    "for i in team_tags:\n",
    "    team=i.text\n",
    "    Team.append(team)\n",
    "Team[0:4]"
   ]
  },
  {
   "cell_type": "code",
   "execution_count": 68,
   "metadata": {},
   "outputs": [
    {
     "data": {
      "text/plain": [
       "['England',\n",
       " 'India',\n",
       " 'New Zealand',\n",
       " 'Australia',\n",
       " 'South Africa',\n",
       " 'Pakistan',\n",
       " 'Bangladesh',\n",
       " 'Sri Lanka',\n",
       " 'West Indies',\n",
       " 'Afghanistan']"
      ]
     },
     "execution_count": 68,
     "metadata": {},
     "output_type": "execute_result"
    }
   ],
   "source": [
    "#Saving top 10 teams\n",
    "Team=Team[0:10]\n",
    "Team"
   ]
  },
  {
   "cell_type": "code",
   "execution_count": 69,
   "metadata": {},
   "outputs": [
    {
     "data": {
      "text/plain": [
       "[<selenium.webdriver.remote.webelement.WebElement (session=\"361318216a75fc7ca75cf687fed604d0\", element=\"daaa638a-f776-4baf-a24a-155aa5b68242\")>]"
      ]
     },
     "execution_count": 69,
     "metadata": {},
     "output_type": "execute_result"
    }
   ],
   "source": [
    "#We have the top element of matches in a different class than others, so we will scrape it first\n",
    "matches_tags=driver.find_elements_by_xpath(\"//td[@class='rankings-block__banner--matches']\")\n",
    "matches_tags"
   ]
  },
  {
   "cell_type": "code",
   "execution_count": 70,
   "metadata": {},
   "outputs": [
    {
     "data": {
      "text/plain": [
       "['44']"
      ]
     },
     "execution_count": 70,
     "metadata": {},
     "output_type": "execute_result"
    }
   ],
   "source": [
    "for i in matches_tags:\n",
    "    matches=i.text\n",
    "    Matches.append(matches)\n",
    "Matches"
   ]
  },
  {
   "cell_type": "code",
   "execution_count": 71,
   "metadata": {},
   "outputs": [
    {
     "data": {
      "text/plain": [
       "[<selenium.webdriver.remote.webelement.WebElement (session=\"361318216a75fc7ca75cf687fed604d0\", element=\"b30c3a16-619b-4967-9611-d59860847563\")>]"
      ]
     },
     "execution_count": 71,
     "metadata": {},
     "output_type": "execute_result"
    }
   ],
   "source": [
    "#We have the top element of points in a different class than others, so we will scrape it first\n",
    "point_tags=driver.find_elements_by_xpath(\"//td[@class='rankings-block__banner--points']\")\n",
    "point_tags"
   ]
  },
  {
   "cell_type": "code",
   "execution_count": 72,
   "metadata": {},
   "outputs": [
    {
     "data": {
      "text/plain": [
       "['5,405']"
      ]
     },
     "execution_count": 72,
     "metadata": {},
     "output_type": "execute_result"
    }
   ],
   "source": [
    "for i in point_tags:\n",
    "    point=i.text\n",
    "    Points.append(point)\n",
    "Points"
   ]
  },
  {
   "cell_type": "code",
   "execution_count": 73,
   "metadata": {},
   "outputs": [
    {
     "data": {
      "text/plain": [
       "[<selenium.webdriver.remote.webelement.WebElement (session=\"361318216a75fc7ca75cf687fed604d0\", element=\"e8edc990-cd1d-4af2-a85b-7c63cd180a55\")>,\n",
       " <selenium.webdriver.remote.webelement.WebElement (session=\"361318216a75fc7ca75cf687fed604d0\", element=\"f9d644f5-603b-4799-9254-56195078f360\")>,\n",
       " <selenium.webdriver.remote.webelement.WebElement (session=\"361318216a75fc7ca75cf687fed604d0\", element=\"9416bf42-aca2-4876-b0b4-42f39d54ea82\")>,\n",
       " <selenium.webdriver.remote.webelement.WebElement (session=\"361318216a75fc7ca75cf687fed604d0\", element=\"12b2dc62-4c66-45c7-940d-5197a7e38354\")>,\n",
       " <selenium.webdriver.remote.webelement.WebElement (session=\"361318216a75fc7ca75cf687fed604d0\", element=\"b4639b47-e9d2-4327-9d9a-3dcd57934dac\")>,\n",
       " <selenium.webdriver.remote.webelement.WebElement (session=\"361318216a75fc7ca75cf687fed604d0\", element=\"59d19f12-a95a-4b23-ba3e-52a7695384ac\")>,\n",
       " <selenium.webdriver.remote.webelement.WebElement (session=\"361318216a75fc7ca75cf687fed604d0\", element=\"b2ec5510-28dd-4054-95b5-a09cae75c000\")>,\n",
       " <selenium.webdriver.remote.webelement.WebElement (session=\"361318216a75fc7ca75cf687fed604d0\", element=\"f34ce2ed-db82-492f-bb61-2193766dceb3\")>,\n",
       " <selenium.webdriver.remote.webelement.WebElement (session=\"361318216a75fc7ca75cf687fed604d0\", element=\"07ef074a-5eff-443c-9da2-6b54af45e3e7\")>,\n",
       " <selenium.webdriver.remote.webelement.WebElement (session=\"361318216a75fc7ca75cf687fed604d0\", element=\"0c87dd67-cb80-4612-93bd-303d02e766bb\")>,\n",
       " <selenium.webdriver.remote.webelement.WebElement (session=\"361318216a75fc7ca75cf687fed604d0\", element=\"f06c3dfe-84e4-4c70-a505-b75fba1e589b\")>,\n",
       " <selenium.webdriver.remote.webelement.WebElement (session=\"361318216a75fc7ca75cf687fed604d0\", element=\"5b63dcc4-6e43-4d4e-9a39-aa40332c65dc\")>,\n",
       " <selenium.webdriver.remote.webelement.WebElement (session=\"361318216a75fc7ca75cf687fed604d0\", element=\"85f2326d-c5dc-44d2-b706-65664b7c43f7\")>,\n",
       " <selenium.webdriver.remote.webelement.WebElement (session=\"361318216a75fc7ca75cf687fed604d0\", element=\"841deccc-7755-47fd-9530-f0c57c12896c\")>,\n",
       " <selenium.webdriver.remote.webelement.WebElement (session=\"361318216a75fc7ca75cf687fed604d0\", element=\"c16076d2-1a74-4ce2-b5d8-f58c21938628\")>,\n",
       " <selenium.webdriver.remote.webelement.WebElement (session=\"361318216a75fc7ca75cf687fed604d0\", element=\"3746e601-dbee-4184-b003-fabf63bd661f\")>,\n",
       " <selenium.webdriver.remote.webelement.WebElement (session=\"361318216a75fc7ca75cf687fed604d0\", element=\"a860faeb-6ea6-4e2a-be1f-e949d89fb97a\")>,\n",
       " <selenium.webdriver.remote.webelement.WebElement (session=\"361318216a75fc7ca75cf687fed604d0\", element=\"775fb75e-0840-43af-b3a1-43ca49a4f9f1\")>,\n",
       " <selenium.webdriver.remote.webelement.WebElement (session=\"361318216a75fc7ca75cf687fed604d0\", element=\"a1b25486-aef9-4331-b060-ed3c77c809f4\")>,\n",
       " <selenium.webdriver.remote.webelement.WebElement (session=\"361318216a75fc7ca75cf687fed604d0\", element=\"0226a428-de5a-4920-aa19-5d92d61443ef\")>,\n",
       " <selenium.webdriver.remote.webelement.WebElement (session=\"361318216a75fc7ca75cf687fed604d0\", element=\"9f3ddeb4-2c62-4dfb-bf19-3b6945d73c13\")>,\n",
       " <selenium.webdriver.remote.webelement.WebElement (session=\"361318216a75fc7ca75cf687fed604d0\", element=\"22cb24a6-93cd-4938-ac39-e3266ac73596\")>,\n",
       " <selenium.webdriver.remote.webelement.WebElement (session=\"361318216a75fc7ca75cf687fed604d0\", element=\"a071c298-01c0-4bb9-baf4-4ad7cd5a3219\")>,\n",
       " <selenium.webdriver.remote.webelement.WebElement (session=\"361318216a75fc7ca75cf687fed604d0\", element=\"ca2321b7-8c6a-4249-81df-cd4e08882c17\")>,\n",
       " <selenium.webdriver.remote.webelement.WebElement (session=\"361318216a75fc7ca75cf687fed604d0\", element=\"216b3b2b-c2de-4366-b7b1-64961ab3f187\")>,\n",
       " <selenium.webdriver.remote.webelement.WebElement (session=\"361318216a75fc7ca75cf687fed604d0\", element=\"f486209f-bad1-445e-8be4-18f5bd9f2998\")>,\n",
       " <selenium.webdriver.remote.webelement.WebElement (session=\"361318216a75fc7ca75cf687fed604d0\", element=\"f07f4c6e-f63b-43d3-9731-b8ab5e058232\")>,\n",
       " <selenium.webdriver.remote.webelement.WebElement (session=\"361318216a75fc7ca75cf687fed604d0\", element=\"9af33585-c074-4655-9227-22b56aaa08fe\")>,\n",
       " <selenium.webdriver.remote.webelement.WebElement (session=\"361318216a75fc7ca75cf687fed604d0\", element=\"2ea4e3f5-7e65-4a0a-aaeb-ee5bbea6d326\")>,\n",
       " <selenium.webdriver.remote.webelement.WebElement (session=\"361318216a75fc7ca75cf687fed604d0\", element=\"e5a9379d-2eba-4395-9283-657facab3f47\")>,\n",
       " <selenium.webdriver.remote.webelement.WebElement (session=\"361318216a75fc7ca75cf687fed604d0\", element=\"837be132-5942-4cba-a6eb-e4d99ff81ebd\")>,\n",
       " <selenium.webdriver.remote.webelement.WebElement (session=\"361318216a75fc7ca75cf687fed604d0\", element=\"75a43de3-67dc-47df-abfc-e3f084400fea\")>,\n",
       " <selenium.webdriver.remote.webelement.WebElement (session=\"361318216a75fc7ca75cf687fed604d0\", element=\"2aad2b6b-028b-44b3-8e4b-c68ce4149524\")>,\n",
       " <selenium.webdriver.remote.webelement.WebElement (session=\"361318216a75fc7ca75cf687fed604d0\", element=\"042727b5-52d4-4d68-89d8-6e77cb50ae4f\")>,\n",
       " <selenium.webdriver.remote.webelement.WebElement (session=\"361318216a75fc7ca75cf687fed604d0\", element=\"a41c4c7c-6a02-4730-a2aa-6fb766cf606f\")>,\n",
       " <selenium.webdriver.remote.webelement.WebElement (session=\"361318216a75fc7ca75cf687fed604d0\", element=\"b64a9aa9-ca7d-460d-9025-d0b2e23b8677\")>,\n",
       " <selenium.webdriver.remote.webelement.WebElement (session=\"361318216a75fc7ca75cf687fed604d0\", element=\"ee861d1d-5707-4124-837c-00131d766c94\")>,\n",
       " <selenium.webdriver.remote.webelement.WebElement (session=\"361318216a75fc7ca75cf687fed604d0\", element=\"59ed3583-2b30-475e-8995-f22bd9ad4e25\")>]"
      ]
     },
     "execution_count": 73,
     "metadata": {},
     "output_type": "execute_result"
    }
   ],
   "source": [
    "#Now, let's scrap the rest of the matches and points\n",
    "matches_points=driver.find_elements_by_xpath(\"//td[@class='table-body__cell u-center-text']\")\n",
    "matches_points"
   ]
  },
  {
   "cell_type": "markdown",
   "metadata": {},
   "source": [
    "Now, the above elements are alternatively arranged in Matches and Points one by one. So, we will use a for loop and assign all the even values as matches and odd values as points"
   ]
  },
  {
   "cell_type": "code",
   "execution_count": 74,
   "metadata": {},
   "outputs": [],
   "source": [
    "n=0\n",
    "for i in matches_points:\n",
    "    if n%2==0:\n",
    "        matches=i.text\n",
    "        Matches.append(matches)\n",
    "        n+=1\n",
    "    else:\n",
    "        points=i.text\n",
    "        Points.append(points)\n",
    "        n+=1\n",
    "        "
   ]
  },
  {
   "cell_type": "code",
   "execution_count": 75,
   "metadata": {},
   "outputs": [
    {
     "data": {
      "text/plain": [
       "['44', '52', '32', '39', '31', '35', '34', '39', '43', '28']"
      ]
     },
     "execution_count": 75,
     "metadata": {},
     "output_type": "execute_result"
    }
   ],
   "source": [
    "Matches=Matches[0:10]\n",
    "Matches"
   ]
  },
  {
   "cell_type": "code",
   "execution_count": 76,
   "metadata": {},
   "outputs": [
    {
     "data": {
      "text/plain": [
       "['5,405',\n",
       " '6,102',\n",
       " '3,716',\n",
       " '4,344',\n",
       " '3,345',\n",
       " '3,490',\n",
       " '2,989',\n",
       " '3,297',\n",
       " '3,285',\n",
       " '1,549']"
      ]
     },
     "execution_count": 76,
     "metadata": {},
     "output_type": "execute_result"
    }
   ],
   "source": [
    "Points=Points[0:10]\n",
    "Points"
   ]
  },
  {
   "cell_type": "code",
   "execution_count": 77,
   "metadata": {},
   "outputs": [
    {
     "data": {
      "text/plain": [
       "[<selenium.webdriver.remote.webelement.WebElement (session=\"361318216a75fc7ca75cf687fed604d0\", element=\"3253ef6b-3ee4-47f9-a531-d1e41ed06034\")>]"
      ]
     },
     "execution_count": 77,
     "metadata": {},
     "output_type": "execute_result"
    }
   ],
   "source": [
    "#We have the top element of ratings in a different class than others, so we will scrape it first\n",
    "rating_tags=driver.find_elements_by_xpath(\"//td[@class='rankings-block__banner--rating u-text-right']\")\n",
    "rating_tags"
   ]
  },
  {
   "cell_type": "code",
   "execution_count": 78,
   "metadata": {},
   "outputs": [
    {
     "data": {
      "text/plain": [
       "['123']"
      ]
     },
     "execution_count": 78,
     "metadata": {},
     "output_type": "execute_result"
    }
   ],
   "source": [
    "for i in rating_tags:\n",
    "    ratings=i.text\n",
    "    Ratings.append(ratings)\n",
    "Ratings"
   ]
  },
  {
   "cell_type": "code",
   "execution_count": 79,
   "metadata": {},
   "outputs": [
    {
     "data": {
      "text/plain": [
       "[<selenium.webdriver.remote.webelement.WebElement (session=\"361318216a75fc7ca75cf687fed604d0\", element=\"fadde2da-8933-42e2-9bed-e74796772908\")>,\n",
       " <selenium.webdriver.remote.webelement.WebElement (session=\"361318216a75fc7ca75cf687fed604d0\", element=\"d0ee36aa-e1ea-4476-80c0-c7b7d12d924b\")>,\n",
       " <selenium.webdriver.remote.webelement.WebElement (session=\"361318216a75fc7ca75cf687fed604d0\", element=\"25845544-6b1f-4788-84dc-e9248cd7f595\")>,\n",
       " <selenium.webdriver.remote.webelement.WebElement (session=\"361318216a75fc7ca75cf687fed604d0\", element=\"560057c1-b26f-4818-8fec-da666bfaf312\")>,\n",
       " <selenium.webdriver.remote.webelement.WebElement (session=\"361318216a75fc7ca75cf687fed604d0\", element=\"0811192a-06c8-4f39-9afd-33be9b39ee6e\")>,\n",
       " <selenium.webdriver.remote.webelement.WebElement (session=\"361318216a75fc7ca75cf687fed604d0\", element=\"9c724300-909f-4aaa-88f2-c2e60504400a\")>,\n",
       " <selenium.webdriver.remote.webelement.WebElement (session=\"361318216a75fc7ca75cf687fed604d0\", element=\"dff20bc5-4460-4652-ba44-f94254f466ac\")>,\n",
       " <selenium.webdriver.remote.webelement.WebElement (session=\"361318216a75fc7ca75cf687fed604d0\", element=\"906e091a-73bf-48e4-8807-02bda3fdfa8d\")>,\n",
       " <selenium.webdriver.remote.webelement.WebElement (session=\"361318216a75fc7ca75cf687fed604d0\", element=\"82f520f8-19dd-4d92-9844-77ccf56a570e\")>,\n",
       " <selenium.webdriver.remote.webelement.WebElement (session=\"361318216a75fc7ca75cf687fed604d0\", element=\"7a41a5bf-a70e-4071-b109-5fa9bf06ef87\")>,\n",
       " <selenium.webdriver.remote.webelement.WebElement (session=\"361318216a75fc7ca75cf687fed604d0\", element=\"aa383336-efec-4989-89af-d86b7446c9d2\")>,\n",
       " <selenium.webdriver.remote.webelement.WebElement (session=\"361318216a75fc7ca75cf687fed604d0\", element=\"04e62248-1986-4124-b4de-b3d13c026de0\")>,\n",
       " <selenium.webdriver.remote.webelement.WebElement (session=\"361318216a75fc7ca75cf687fed604d0\", element=\"65a35364-0ec9-4b28-a61c-fbcccb26c607\")>,\n",
       " <selenium.webdriver.remote.webelement.WebElement (session=\"361318216a75fc7ca75cf687fed604d0\", element=\"9e24954a-800b-44bd-b79d-9738f23434d5\")>,\n",
       " <selenium.webdriver.remote.webelement.WebElement (session=\"361318216a75fc7ca75cf687fed604d0\", element=\"46a059ba-8d74-4b10-af09-a4cfaf4a4e5e\")>,\n",
       " <selenium.webdriver.remote.webelement.WebElement (session=\"361318216a75fc7ca75cf687fed604d0\", element=\"01694af1-0914-4af9-95c4-8c3908ea7dbd\")>,\n",
       " <selenium.webdriver.remote.webelement.WebElement (session=\"361318216a75fc7ca75cf687fed604d0\", element=\"cf910f72-aad4-4ad1-a2a2-89967a800623\")>,\n",
       " <selenium.webdriver.remote.webelement.WebElement (session=\"361318216a75fc7ca75cf687fed604d0\", element=\"d1714ebd-a2ad-46ca-a934-036aa1c4135e\")>,\n",
       " <selenium.webdriver.remote.webelement.WebElement (session=\"361318216a75fc7ca75cf687fed604d0\", element=\"9110b344-84a0-4a68-b844-0a0571e19123\")>]"
      ]
     },
     "execution_count": 79,
     "metadata": {},
     "output_type": "execute_result"
    }
   ],
   "source": [
    "rating_tags=driver.find_elements_by_xpath(\"//td[@class='table-body__cell u-text-right rating']\")\n",
    "rating_tags"
   ]
  },
  {
   "cell_type": "code",
   "execution_count": 80,
   "metadata": {},
   "outputs": [
    {
     "data": {
      "text/plain": [
       "['123',\n",
       " '117',\n",
       " '116',\n",
       " '111',\n",
       " '108',\n",
       " '100',\n",
       " '88',\n",
       " '85',\n",
       " '76',\n",
       " '55',\n",
       " '52',\n",
       " '44',\n",
       " '42',\n",
       " '40',\n",
       " '26',\n",
       " '18',\n",
       " '17',\n",
       " '17',\n",
       " '13',\n",
       " '0']"
      ]
     },
     "execution_count": 80,
     "metadata": {},
     "output_type": "execute_result"
    }
   ],
   "source": [
    "for i in rating_tags:\n",
    "    ratings=i.text\n",
    "    Ratings.append(ratings)\n",
    "Ratings"
   ]
  },
  {
   "cell_type": "code",
   "execution_count": 81,
   "metadata": {},
   "outputs": [
    {
     "data": {
      "text/plain": [
       "['123', '117', '116', '111', '108', '100', '88', '85', '76', '55']"
      ]
     },
     "execution_count": 81,
     "metadata": {},
     "output_type": "execute_result"
    }
   ],
   "source": [
    "Ratings=Ratings[0:10]\n",
    "Ratings"
   ]
  },
  {
   "cell_type": "code",
   "execution_count": 82,
   "metadata": {},
   "outputs": [
    {
     "data": {
      "text/html": [
       "<div>\n",
       "<style scoped>\n",
       "    .dataframe tbody tr th:only-of-type {\n",
       "        vertical-align: middle;\n",
       "    }\n",
       "\n",
       "    .dataframe tbody tr th {\n",
       "        vertical-align: top;\n",
       "    }\n",
       "\n",
       "    .dataframe thead th {\n",
       "        text-align: right;\n",
       "    }\n",
       "</style>\n",
       "<table border=\"1\" class=\"dataframe\">\n",
       "  <thead>\n",
       "    <tr style=\"text-align: right;\">\n",
       "      <th></th>\n",
       "      <th>Team</th>\n",
       "      <th>Matches</th>\n",
       "      <th>Points</th>\n",
       "      <th>Ratings</th>\n",
       "    </tr>\n",
       "  </thead>\n",
       "  <tbody>\n",
       "    <tr>\n",
       "      <th>0</th>\n",
       "      <td>England</td>\n",
       "      <td>44</td>\n",
       "      <td>5,405</td>\n",
       "      <td>123</td>\n",
       "    </tr>\n",
       "    <tr>\n",
       "      <th>1</th>\n",
       "      <td>India</td>\n",
       "      <td>52</td>\n",
       "      <td>6,102</td>\n",
       "      <td>117</td>\n",
       "    </tr>\n",
       "    <tr>\n",
       "      <th>2</th>\n",
       "      <td>New Zealand</td>\n",
       "      <td>32</td>\n",
       "      <td>3,716</td>\n",
       "      <td>116</td>\n",
       "    </tr>\n",
       "    <tr>\n",
       "      <th>3</th>\n",
       "      <td>Australia</td>\n",
       "      <td>39</td>\n",
       "      <td>4,344</td>\n",
       "      <td>111</td>\n",
       "    </tr>\n",
       "    <tr>\n",
       "      <th>4</th>\n",
       "      <td>South Africa</td>\n",
       "      <td>31</td>\n",
       "      <td>3,345</td>\n",
       "      <td>108</td>\n",
       "    </tr>\n",
       "    <tr>\n",
       "      <th>5</th>\n",
       "      <td>Pakistan</td>\n",
       "      <td>35</td>\n",
       "      <td>3,490</td>\n",
       "      <td>100</td>\n",
       "    </tr>\n",
       "    <tr>\n",
       "      <th>6</th>\n",
       "      <td>Bangladesh</td>\n",
       "      <td>34</td>\n",
       "      <td>2,989</td>\n",
       "      <td>88</td>\n",
       "    </tr>\n",
       "    <tr>\n",
       "      <th>7</th>\n",
       "      <td>Sri Lanka</td>\n",
       "      <td>39</td>\n",
       "      <td>3,297</td>\n",
       "      <td>85</td>\n",
       "    </tr>\n",
       "    <tr>\n",
       "      <th>8</th>\n",
       "      <td>West Indies</td>\n",
       "      <td>43</td>\n",
       "      <td>3,285</td>\n",
       "      <td>76</td>\n",
       "    </tr>\n",
       "    <tr>\n",
       "      <th>9</th>\n",
       "      <td>Afghanistan</td>\n",
       "      <td>28</td>\n",
       "      <td>1,549</td>\n",
       "      <td>55</td>\n",
       "    </tr>\n",
       "  </tbody>\n",
       "</table>\n",
       "</div>"
      ],
      "text/plain": [
       "           Team Matches Points Ratings\n",
       "0       England      44  5,405     123\n",
       "1         India      52  6,102     117\n",
       "2   New Zealand      32  3,716     116\n",
       "3     Australia      39  4,344     111\n",
       "4  South Africa      31  3,345     108\n",
       "5      Pakistan      35  3,490     100\n",
       "6    Bangladesh      34  2,989      88\n",
       "7     Sri Lanka      39  3,297      85\n",
       "8   West Indies      43  3,285      76\n",
       "9   Afghanistan      28  1,549      55"
      ]
     },
     "execution_count": 82,
     "metadata": {},
     "output_type": "execute_result"
    }
   ],
   "source": [
    "Team_Ranking=pd.DataFrame({})\n",
    "Team_Ranking['Team']=Team\n",
    "Team_Ranking['Matches']=Matches\n",
    "Team_Ranking['Points']=Points\n",
    "Team_Ranking['Ratings']=Ratings\n",
    "Team_Ranking"
   ]
  },
  {
   "cell_type": "markdown",
   "metadata": {},
   "source": [
    "### Part 2- Top 10 ODI Batsmen"
   ]
  },
  {
   "cell_type": "code",
   "execution_count": 83,
   "metadata": {},
   "outputs": [],
   "source": [
    "url=('https://www.icc-cricket.com/rankings/mens/player-rankings/odi/batting')"
   ]
  },
  {
   "cell_type": "code",
   "execution_count": 84,
   "metadata": {},
   "outputs": [],
   "source": [
    "driver.get(url)"
   ]
  },
  {
   "cell_type": "code",
   "execution_count": 85,
   "metadata": {},
   "outputs": [],
   "source": [
    "Player=[]\n",
    "Team=[]\n",
    "Rating=[]"
   ]
  },
  {
   "cell_type": "code",
   "execution_count": 86,
   "metadata": {},
   "outputs": [
    {
     "data": {
      "text/plain": [
       "[<selenium.webdriver.remote.webelement.WebElement (session=\"361318216a75fc7ca75cf687fed604d0\", element=\"fa04303c-f24a-4a58-9f54-acb30f6245c9\")>]"
      ]
     },
     "execution_count": 86,
     "metadata": {},
     "output_type": "execute_result"
    }
   ],
   "source": [
    "player_tags=driver.find_elements_by_xpath(\"//div[@class='rankings-block__banner--name-large']\")\n",
    "player_tags"
   ]
  },
  {
   "cell_type": "code",
   "execution_count": 87,
   "metadata": {},
   "outputs": [
    {
     "data": {
      "text/plain": [
       "['Virat Kohli']"
      ]
     },
     "execution_count": 87,
     "metadata": {},
     "output_type": "execute_result"
    }
   ],
   "source": [
    "for i in player_tags:\n",
    "    player=i.text\n",
    "    Player.append(player)\n",
    "Player"
   ]
  },
  {
   "cell_type": "code",
   "execution_count": 88,
   "metadata": {},
   "outputs": [],
   "source": [
    "#Now,working on further batsmen\n",
    "player_tags=driver.find_elements_by_xpath(\"//td[@class='table-body__cell rankings-table__name name']\")"
   ]
  },
  {
   "cell_type": "code",
   "execution_count": 89,
   "metadata": {
    "scrolled": true
   },
   "outputs": [
    {
     "data": {
      "text/plain": [
       "['Virat Kohli',\n",
       " 'Rohit Sharma',\n",
       " 'Babar Azam',\n",
       " 'Ross Taylor',\n",
       " 'Aaron Finch',\n",
       " 'Francois du Plessis',\n",
       " 'David Warner',\n",
       " 'Kane Williamson',\n",
       " 'Quinton de Kock',\n",
       " 'Jonny Bairstow',\n",
       " 'Shai Hope',\n",
       " 'Imam-ul-Haq',\n",
       " 'Joe Root',\n",
       " 'Martin Guptill',\n",
       " 'Steve Smith',\n",
       " 'Shikhar Dhawan',\n",
       " 'Mushfiqur Rahim',\n",
       " 'Jason Roy',\n",
       " 'Fakhar Zaman',\n",
       " 'Glenn Maxwell',\n",
       " 'Usman Khawaja',\n",
       " 'Eoin Morgan',\n",
       " 'Tamim Iqbal',\n",
       " 'Shakib Al Hasan',\n",
       " 'Jos Buttler',\n",
       " 'Ben Stokes',\n",
       " 'Shimron Hetmyer',\n",
       " 'Paul Stirling',\n",
       " 'Alex Carey',\n",
       " 'David Miller',\n",
       " 'Rassie van der Dussen',\n",
       " 'Nicholas Pooran',\n",
       " 'Haris Sohail',\n",
       " 'Lokesh Rahul',\n",
       " 'Tom Latham',\n",
       " 'Angelo Mathews',\n",
       " 'Kyle Coetzer',\n",
       " 'Henry Nicholls',\n",
       " 'Aqib Ilyas',\n",
       " 'Litton Das',\n",
       " 'Brendan Taylor',\n",
       " 'Kedar Jadhav',\n",
       " 'Soumya Sarkar',\n",
       " 'Rahmat Shah',\n",
       " 'Andrew Balbirnie',\n",
       " 'Sean Williams',\n",
       " 'Kusal Mendis',\n",
       " 'Mohammad Hafeez',\n",
       " 'Hardik Pandya',\n",
       " 'Imad Wasim',\n",
       " 'Evin Lewis',\n",
       " 'Kusal Perera',\n",
       " 'Sikandar Raza',\n",
       " 'Mahmudullah',\n",
       " 'Mohammad Shahzad',\n",
       " 'Marcus Stoinis',\n",
       " 'Calum MacLeod',\n",
       " 'Sarfaraz Ahmed',\n",
       " 'Chris Gayle',\n",
       " \"Kevin O'Brien\",\n",
       " 'Najibullah Zadran',\n",
       " 'Colin de Grandhomme',\n",
       " 'Avishka Fernando',\n",
       " 'Marnus Labuschagne',\n",
       " 'Jimmy Neesham',\n",
       " 'Mohammad Nabi',\n",
       " 'Heinrich Klaasen',\n",
       " 'Shreyas Iyer',\n",
       " 'Shaun Marsh',\n",
       " 'Hashmatullah Shaidi',\n",
       " 'Danushka Gunathilaka',\n",
       " 'William Porterfield',\n",
       " 'Mitchell Marsh',\n",
       " 'Peter Handscomb',\n",
       " 'Asghar Afghan',\n",
       " 'Richard Berrington',\n",
       " 'Colin Munro',\n",
       " 'Craig Ervine',\n",
       " 'Lahiru Thirimanne',\n",
       " 'Mitchell Santner',\n",
       " 'Thisara Perera',\n",
       " 'Sabbir Rahman',\n",
       " 'Muhammad Usman',\n",
       " 'Jason Holder',\n",
       " 'Ravindra Jadeja',\n",
       " 'Dhananjaya de Silva',\n",
       " 'Assad Vala',\n",
       " 'Aiden Markram',\n",
       " 'Andile Phehlukwayo',\n",
       " 'Mithun Ali',\n",
       " 'Gulbadin Naib',\n",
       " 'Chris Woakes',\n",
       " 'Matthew Cross',\n",
       " 'Sam Billings',\n",
       " 'Tony Ura',\n",
       " 'Rashid Khan',\n",
       " 'Moeen Ali',\n",
       " 'Kieron Pollard',\n",
       " 'Dimuth Karunaratne',\n",
       " 'Adil Rashid']"
      ]
     },
     "execution_count": 89,
     "metadata": {},
     "output_type": "execute_result"
    }
   ],
   "source": [
    "for i in player_tags:\n",
    "    player=i.text\n",
    "    Player.append(player)\n",
    "Player"
   ]
  },
  {
   "cell_type": "code",
   "execution_count": 90,
   "metadata": {},
   "outputs": [],
   "source": [
    "Player=Player[0:10]"
   ]
  },
  {
   "cell_type": "code",
   "execution_count": 91,
   "metadata": {},
   "outputs": [
    {
     "data": {
      "text/plain": [
       "[<selenium.webdriver.remote.webelement.WebElement (session=\"361318216a75fc7ca75cf687fed604d0\", element=\"04d7be92-1ecd-4326-8fdd-2071af399ee6\")>]"
      ]
     },
     "execution_count": 91,
     "metadata": {},
     "output_type": "execute_result"
    }
   ],
   "source": [
    "team_tags=driver.find_elements_by_xpath(\"//div[@class='rankings-block__banner--nationality']\")\n",
    "team_tags"
   ]
  },
  {
   "cell_type": "code",
   "execution_count": 92,
   "metadata": {},
   "outputs": [
    {
     "data": {
      "text/plain": [
       "['IND']"
      ]
     },
     "execution_count": 92,
     "metadata": {},
     "output_type": "execute_result"
    }
   ],
   "source": [
    "for i in team_tags:\n",
    "    team=i.text\n",
    "    Team.append(team)\n",
    "Team"
   ]
  },
  {
   "cell_type": "code",
   "execution_count": 93,
   "metadata": {},
   "outputs": [],
   "source": [
    "team_tags=driver.find_elements_by_xpath(\"//span[@class='table-body__logo-text']\")\n"
   ]
  },
  {
   "cell_type": "code",
   "execution_count": 94,
   "metadata": {},
   "outputs": [
    {
     "data": {
      "text/plain": [
       "['IND', 'IND', 'PAK', 'NZ', 'AUS', 'SA', 'AUS', 'NZ', 'SA', 'ENG']"
      ]
     },
     "execution_count": 94,
     "metadata": {},
     "output_type": "execute_result"
    }
   ],
   "source": [
    "for i in team_tags:\n",
    "    team=i.text\n",
    "    Team.append(team)\n",
    "Team=Team[0:10]\n",
    "Team"
   ]
  },
  {
   "cell_type": "code",
   "execution_count": 95,
   "metadata": {},
   "outputs": [],
   "source": [
    "ratings_tags=driver.find_elements_by_xpath(\"//div[@class='rankings-block__banner--rating']\")"
   ]
  },
  {
   "cell_type": "code",
   "execution_count": 96,
   "metadata": {},
   "outputs": [
    {
     "data": {
      "text/plain": [
       "['870']"
      ]
     },
     "execution_count": 96,
     "metadata": {},
     "output_type": "execute_result"
    }
   ],
   "source": [
    "for i in ratings_tags:\n",
    "    rating=i.text\n",
    "    Rating.append(rating)\n",
    "Rating"
   ]
  },
  {
   "cell_type": "code",
   "execution_count": 97,
   "metadata": {},
   "outputs": [],
   "source": [
    "ratings_tags=driver.find_elements_by_xpath(\"//td[@class='table-body__cell rating']\")"
   ]
  },
  {
   "cell_type": "code",
   "execution_count": 98,
   "metadata": {},
   "outputs": [
    {
     "data": {
      "text/plain": [
       "['870', '842', '837', '818', '791', '790', '773', '765', '755', '754']"
      ]
     },
     "execution_count": 98,
     "metadata": {},
     "output_type": "execute_result"
    }
   ],
   "source": [
    "for i in ratings_tags:\n",
    "    rating=i.text\n",
    "    Rating.append(rating)\n",
    "Rating=Rating[0:10]\n",
    "Rating"
   ]
  },
  {
   "cell_type": "code",
   "execution_count": 99,
   "metadata": {},
   "outputs": [
    {
     "data": {
      "text/html": [
       "<div>\n",
       "<style scoped>\n",
       "    .dataframe tbody tr th:only-of-type {\n",
       "        vertical-align: middle;\n",
       "    }\n",
       "\n",
       "    .dataframe tbody tr th {\n",
       "        vertical-align: top;\n",
       "    }\n",
       "\n",
       "    .dataframe thead th {\n",
       "        text-align: right;\n",
       "    }\n",
       "</style>\n",
       "<table border=\"1\" class=\"dataframe\">\n",
       "  <thead>\n",
       "    <tr style=\"text-align: right;\">\n",
       "      <th></th>\n",
       "      <th>Player</th>\n",
       "      <th>Team</th>\n",
       "      <th>Rating</th>\n",
       "    </tr>\n",
       "  </thead>\n",
       "  <tbody>\n",
       "    <tr>\n",
       "      <th>0</th>\n",
       "      <td>Virat Kohli</td>\n",
       "      <td>IND</td>\n",
       "      <td>870</td>\n",
       "    </tr>\n",
       "    <tr>\n",
       "      <th>1</th>\n",
       "      <td>Rohit Sharma</td>\n",
       "      <td>IND</td>\n",
       "      <td>842</td>\n",
       "    </tr>\n",
       "    <tr>\n",
       "      <th>2</th>\n",
       "      <td>Babar Azam</td>\n",
       "      <td>PAK</td>\n",
       "      <td>837</td>\n",
       "    </tr>\n",
       "    <tr>\n",
       "      <th>3</th>\n",
       "      <td>Ross Taylor</td>\n",
       "      <td>NZ</td>\n",
       "      <td>818</td>\n",
       "    </tr>\n",
       "    <tr>\n",
       "      <th>4</th>\n",
       "      <td>Aaron Finch</td>\n",
       "      <td>AUS</td>\n",
       "      <td>791</td>\n",
       "    </tr>\n",
       "    <tr>\n",
       "      <th>5</th>\n",
       "      <td>Francois du Plessis</td>\n",
       "      <td>SA</td>\n",
       "      <td>790</td>\n",
       "    </tr>\n",
       "    <tr>\n",
       "      <th>6</th>\n",
       "      <td>David Warner</td>\n",
       "      <td>AUS</td>\n",
       "      <td>773</td>\n",
       "    </tr>\n",
       "    <tr>\n",
       "      <th>7</th>\n",
       "      <td>Kane Williamson</td>\n",
       "      <td>NZ</td>\n",
       "      <td>765</td>\n",
       "    </tr>\n",
       "    <tr>\n",
       "      <th>8</th>\n",
       "      <td>Quinton de Kock</td>\n",
       "      <td>SA</td>\n",
       "      <td>755</td>\n",
       "    </tr>\n",
       "    <tr>\n",
       "      <th>9</th>\n",
       "      <td>Jonny Bairstow</td>\n",
       "      <td>ENG</td>\n",
       "      <td>754</td>\n",
       "    </tr>\n",
       "  </tbody>\n",
       "</table>\n",
       "</div>"
      ],
      "text/plain": [
       "                Player Team Rating\n",
       "0          Virat Kohli  IND    870\n",
       "1         Rohit Sharma  IND    842\n",
       "2           Babar Azam  PAK    837\n",
       "3          Ross Taylor   NZ    818\n",
       "4          Aaron Finch  AUS    791\n",
       "5  Francois du Plessis   SA    790\n",
       "6         David Warner  AUS    773\n",
       "7      Kane Williamson   NZ    765\n",
       "8      Quinton de Kock   SA    755\n",
       "9       Jonny Bairstow  ENG    754"
      ]
     },
     "execution_count": 99,
     "metadata": {},
     "output_type": "execute_result"
    }
   ],
   "source": [
    "#Creating the dataframe of top 10 batsmen\n",
    "Batsmen=pd.DataFrame({})\n",
    "Batsmen['Player']=Player\n",
    "Batsmen['Team']=Team\n",
    "Batsmen['Rating']=Rating\n",
    "Batsmen"
   ]
  },
  {
   "cell_type": "markdown",
   "metadata": {},
   "source": [
    "### Part 3:  Top 10 ODI Bowlers"
   ]
  },
  {
   "cell_type": "code",
   "execution_count": 100,
   "metadata": {},
   "outputs": [],
   "source": [
    "url=('https://www.icc-cricket.com/rankings/mens/player-rankings/odi/bowling')"
   ]
  },
  {
   "cell_type": "code",
   "execution_count": 101,
   "metadata": {},
   "outputs": [],
   "source": [
    "driver.get(url)"
   ]
  },
  {
   "cell_type": "code",
   "execution_count": 102,
   "metadata": {},
   "outputs": [],
   "source": [
    "Player=[]\n",
    "Team=[]\n",
    "Rating=[]"
   ]
  },
  {
   "cell_type": "code",
   "execution_count": 103,
   "metadata": {},
   "outputs": [],
   "source": [
    "#getting the top bowler first\n",
    "player_tags=driver.find_elements_by_xpath(\"//div[@class='rankings-block__banner--name-large']\")"
   ]
  },
  {
   "cell_type": "code",
   "execution_count": 104,
   "metadata": {},
   "outputs": [
    {
     "data": {
      "text/plain": [
       "['Trent Boult']"
      ]
     },
     "execution_count": 104,
     "metadata": {},
     "output_type": "execute_result"
    }
   ],
   "source": [
    "for i in player_tags:\n",
    "    player=i.text\n",
    "    Player.append(player)\n",
    "Player"
   ]
  },
  {
   "cell_type": "code",
   "execution_count": 105,
   "metadata": {},
   "outputs": [],
   "source": [
    "#getting the rest of the bowler names\n",
    "player_tags=driver.find_elements_by_xpath(\"//td[@class='table-body__cell rankings-table__name name']\")"
   ]
  },
  {
   "cell_type": "code",
   "execution_count": 106,
   "metadata": {},
   "outputs": [
    {
     "data": {
      "text/plain": [
       "['Trent Boult',\n",
       " 'Mujeeb Ur Rahman',\n",
       " 'Jasprit Bumrah',\n",
       " 'Chris Woakes',\n",
       " 'Kagiso Rabada',\n",
       " 'Josh Hazlewood',\n",
       " 'Mohammad Amir',\n",
       " 'Pat Cummins',\n",
       " 'Matt Henry',\n",
       " 'Jofra Archer']"
      ]
     },
     "execution_count": 106,
     "metadata": {},
     "output_type": "execute_result"
    }
   ],
   "source": [
    "for i in player_tags:\n",
    "    player=i.text\n",
    "    Player.append(player)\n",
    "Player=Player[0:10]\n",
    "Player"
   ]
  },
  {
   "cell_type": "code",
   "execution_count": 107,
   "metadata": {},
   "outputs": [],
   "source": [
    "#Let's get the top player's team\n",
    "team_tags=driver.find_elements_by_xpath(\"//div[@class='rankings-block__banner--nationality']\")"
   ]
  },
  {
   "cell_type": "code",
   "execution_count": 108,
   "metadata": {},
   "outputs": [
    {
     "data": {
      "text/plain": [
       "['NZ']"
      ]
     },
     "execution_count": 108,
     "metadata": {},
     "output_type": "execute_result"
    }
   ],
   "source": [
    "for i in team_tags:\n",
    "    team=i.text\n",
    "    Team.append(team)\n",
    "Team"
   ]
  },
  {
   "cell_type": "code",
   "execution_count": 109,
   "metadata": {},
   "outputs": [],
   "source": [
    "team_tags=driver.find_elements_by_xpath(\"//span[@class='table-body__logo-text']\")"
   ]
  },
  {
   "cell_type": "code",
   "execution_count": 110,
   "metadata": {},
   "outputs": [
    {
     "data": {
      "text/plain": [
       "['NZ', 'AFG', 'IND', 'ENG', 'SA', 'AUS', 'PAK', 'AUS', 'NZ', 'ENG']"
      ]
     },
     "execution_count": 110,
     "metadata": {},
     "output_type": "execute_result"
    }
   ],
   "source": [
    "for i in team_tags:\n",
    "    team=i.text\n",
    "    Team.append(team)\n",
    "Team=Team[0:10]\n",
    "Team"
   ]
  },
  {
   "cell_type": "code",
   "execution_count": 111,
   "metadata": {},
   "outputs": [],
   "source": [
    "#Let's get the top rating first\n",
    "rating_tags=driver.find_elements_by_xpath(\"//div[@class='rankings-block__banner--rating']\")"
   ]
  },
  {
   "cell_type": "code",
   "execution_count": 112,
   "metadata": {},
   "outputs": [
    {
     "data": {
      "text/plain": [
       "['722']"
      ]
     },
     "execution_count": 112,
     "metadata": {},
     "output_type": "execute_result"
    }
   ],
   "source": [
    "for i in rating_tags:\n",
    "    rating=i.text\n",
    "    Rating.append(rating)\n",
    "Rating"
   ]
  },
  {
   "cell_type": "code",
   "execution_count": 113,
   "metadata": {},
   "outputs": [],
   "source": [
    "#Let's get the further ratings\n",
    "rating_tags=driver.find_elements_by_xpath(\"//td[@class='table-body__cell rating']\")"
   ]
  },
  {
   "cell_type": "code",
   "execution_count": 114,
   "metadata": {},
   "outputs": [
    {
     "data": {
      "text/plain": [
       "['722', '701', '700', '675', '665', '660', '647', '646', '641', '637']"
      ]
     },
     "execution_count": 114,
     "metadata": {},
     "output_type": "execute_result"
    }
   ],
   "source": [
    "for i in rating_tags:\n",
    "    rating=i.text\n",
    "    Rating.append(rating)\n",
    "Rating=Rating[0:10]\n",
    "Rating"
   ]
  },
  {
   "cell_type": "code",
   "execution_count": 115,
   "metadata": {},
   "outputs": [
    {
     "data": {
      "text/html": [
       "<div>\n",
       "<style scoped>\n",
       "    .dataframe tbody tr th:only-of-type {\n",
       "        vertical-align: middle;\n",
       "    }\n",
       "\n",
       "    .dataframe tbody tr th {\n",
       "        vertical-align: top;\n",
       "    }\n",
       "\n",
       "    .dataframe thead th {\n",
       "        text-align: right;\n",
       "    }\n",
       "</style>\n",
       "<table border=\"1\" class=\"dataframe\">\n",
       "  <thead>\n",
       "    <tr style=\"text-align: right;\">\n",
       "      <th></th>\n",
       "      <th>Player</th>\n",
       "      <th>Team</th>\n",
       "      <th>Rating</th>\n",
       "    </tr>\n",
       "  </thead>\n",
       "  <tbody>\n",
       "    <tr>\n",
       "      <th>0</th>\n",
       "      <td>Trent Boult</td>\n",
       "      <td>NZ</td>\n",
       "      <td>722</td>\n",
       "    </tr>\n",
       "    <tr>\n",
       "      <th>1</th>\n",
       "      <td>Mujeeb Ur Rahman</td>\n",
       "      <td>AFG</td>\n",
       "      <td>701</td>\n",
       "    </tr>\n",
       "    <tr>\n",
       "      <th>2</th>\n",
       "      <td>Jasprit Bumrah</td>\n",
       "      <td>IND</td>\n",
       "      <td>700</td>\n",
       "    </tr>\n",
       "    <tr>\n",
       "      <th>3</th>\n",
       "      <td>Chris Woakes</td>\n",
       "      <td>ENG</td>\n",
       "      <td>675</td>\n",
       "    </tr>\n",
       "    <tr>\n",
       "      <th>4</th>\n",
       "      <td>Kagiso Rabada</td>\n",
       "      <td>SA</td>\n",
       "      <td>665</td>\n",
       "    </tr>\n",
       "    <tr>\n",
       "      <th>5</th>\n",
       "      <td>Josh Hazlewood</td>\n",
       "      <td>AUS</td>\n",
       "      <td>660</td>\n",
       "    </tr>\n",
       "    <tr>\n",
       "      <th>6</th>\n",
       "      <td>Mohammad Amir</td>\n",
       "      <td>PAK</td>\n",
       "      <td>647</td>\n",
       "    </tr>\n",
       "    <tr>\n",
       "      <th>7</th>\n",
       "      <td>Pat Cummins</td>\n",
       "      <td>AUS</td>\n",
       "      <td>646</td>\n",
       "    </tr>\n",
       "    <tr>\n",
       "      <th>8</th>\n",
       "      <td>Matt Henry</td>\n",
       "      <td>NZ</td>\n",
       "      <td>641</td>\n",
       "    </tr>\n",
       "    <tr>\n",
       "      <th>9</th>\n",
       "      <td>Jofra Archer</td>\n",
       "      <td>ENG</td>\n",
       "      <td>637</td>\n",
       "    </tr>\n",
       "  </tbody>\n",
       "</table>\n",
       "</div>"
      ],
      "text/plain": [
       "             Player Team Rating\n",
       "0       Trent Boult   NZ    722\n",
       "1  Mujeeb Ur Rahman  AFG    701\n",
       "2    Jasprit Bumrah  IND    700\n",
       "3      Chris Woakes  ENG    675\n",
       "4     Kagiso Rabada   SA    665\n",
       "5    Josh Hazlewood  AUS    660\n",
       "6     Mohammad Amir  PAK    647\n",
       "7       Pat Cummins  AUS    646\n",
       "8        Matt Henry   NZ    641\n",
       "9      Jofra Archer  ENG    637"
      ]
     },
     "execution_count": 115,
     "metadata": {},
     "output_type": "execute_result"
    }
   ],
   "source": [
    "Bowlers=pd.DataFrame({})\n",
    "Bowlers['Player']=Player\n",
    "Bowlers['Team']=Team\n",
    "Bowlers['Rating']=Rating\n",
    "Bowlers"
   ]
  },
  {
   "cell_type": "markdown",
   "metadata": {},
   "source": [
    "# Question 6 \n",
    "Write a python program to scrape cricket rankings from ‘www.icc-cricket.com’. You have to scrape:\n",
    "\n",
    "i) Top 10 ODI teams in women’s cricket along with the records for matches, points and rating.\n",
    "\n",
    "ii) Top 10 women’s ODI players along with the records of their team and rating.\n",
    "\n",
    "iii) Top 10 women’s ODI all-rounder along with the records of their team and rating."
   ]
  },
  {
   "cell_type": "code",
   "execution_count": 5,
   "metadata": {},
   "outputs": [],
   "source": [
    "url=('https://www.icc-cricket.com/rankings/womens/team-rankings/odi')"
   ]
  },
  {
   "cell_type": "code",
   "execution_count": 6,
   "metadata": {},
   "outputs": [],
   "source": [
    "driver.get(url)"
   ]
  },
  {
   "cell_type": "code",
   "execution_count": 18,
   "metadata": {},
   "outputs": [],
   "source": [
    "Team=[]\n",
    "Matches=[]\n",
    "Points=[]\n",
    "Rating=[]"
   ]
  },
  {
   "cell_type": "code",
   "execution_count": 19,
   "metadata": {},
   "outputs": [
    {
     "data": {
      "text/plain": [
       "[<selenium.webdriver.remote.webelement.WebElement (session=\"4d85f9b470d7157e030075f678841010\", element=\"d892ca9a-6b43-4709-bf42-0a758e9e12df\")>,\n",
       " <selenium.webdriver.remote.webelement.WebElement (session=\"4d85f9b470d7157e030075f678841010\", element=\"f0b114d8-18ef-47ea-ac71-7a9d14158e75\")>,\n",
       " <selenium.webdriver.remote.webelement.WebElement (session=\"4d85f9b470d7157e030075f678841010\", element=\"17306af8-0203-41bf-ba30-654e70d83508\")>,\n",
       " <selenium.webdriver.remote.webelement.WebElement (session=\"4d85f9b470d7157e030075f678841010\", element=\"f2bb0579-a500-45c2-a727-7b30e809cbf0\")>,\n",
       " <selenium.webdriver.remote.webelement.WebElement (session=\"4d85f9b470d7157e030075f678841010\", element=\"ed1635ca-f4e8-4290-95c4-5e1265f9efcf\")>,\n",
       " <selenium.webdriver.remote.webelement.WebElement (session=\"4d85f9b470d7157e030075f678841010\", element=\"16af2af4-e999-4c28-b743-c6dea22bd769\")>,\n",
       " <selenium.webdriver.remote.webelement.WebElement (session=\"4d85f9b470d7157e030075f678841010\", element=\"124a0f53-39e6-4bee-b3b2-eb29d8cb1644\")>,\n",
       " <selenium.webdriver.remote.webelement.WebElement (session=\"4d85f9b470d7157e030075f678841010\", element=\"e1578f3a-df8a-4f24-9b92-c306bb7a6d79\")>,\n",
       " <selenium.webdriver.remote.webelement.WebElement (session=\"4d85f9b470d7157e030075f678841010\", element=\"0a6f075e-da04-4d27-b859-547dc0fc801e\")>,\n",
       " <selenium.webdriver.remote.webelement.WebElement (session=\"4d85f9b470d7157e030075f678841010\", element=\"ad8989d2-642e-4019-bf13-58d5e84e44df\")>]"
      ]
     },
     "execution_count": 19,
     "metadata": {},
     "output_type": "execute_result"
    }
   ],
   "source": [
    "team_tags=driver.find_elements_by_xpath(\"//span[@class='u-hide-phablet']\")\n",
    "team_tags"
   ]
  },
  {
   "cell_type": "code",
   "execution_count": 20,
   "metadata": {},
   "outputs": [
    {
     "data": {
      "text/plain": [
       "['Australia',\n",
       " 'India',\n",
       " 'England',\n",
       " 'South Africa',\n",
       " 'New Zealand',\n",
       " 'West Indies',\n",
       " 'Pakistan',\n",
       " 'Bangladesh',\n",
       " 'Sri Lanka',\n",
       " 'Ireland']"
      ]
     },
     "execution_count": 20,
     "metadata": {},
     "output_type": "execute_result"
    }
   ],
   "source": [
    "for i in team_tags:\n",
    "    team=i.text\n",
    "    Team.append(team)\n",
    "Team"
   ]
  },
  {
   "cell_type": "code",
   "execution_count": 21,
   "metadata": {},
   "outputs": [
    {
     "data": {
      "text/plain": [
       "[<selenium.webdriver.remote.webelement.WebElement (session=\"4d85f9b470d7157e030075f678841010\", element=\"e44da2e2-a430-43e6-8ae4-7a5a529324e0\")>]"
      ]
     },
     "execution_count": 21,
     "metadata": {},
     "output_type": "execute_result"
    }
   ],
   "source": [
    "#let's extract the first element of matches\n",
    "matches_tags=driver.find_elements_by_xpath(\"//td[@class='rankings-block__banner--matches']\")\n",
    "matches_tags"
   ]
  },
  {
   "cell_type": "code",
   "execution_count": 22,
   "metadata": {},
   "outputs": [
    {
     "data": {
      "text/plain": [
       "['15']"
      ]
     },
     "execution_count": 22,
     "metadata": {},
     "output_type": "execute_result"
    }
   ],
   "source": [
    "for i in matches_tags:\n",
    "    matches=i.text\n",
    "    Matches.append(matches)\n",
    "Matches"
   ]
  },
  {
   "cell_type": "code",
   "execution_count": 23,
   "metadata": {},
   "outputs": [
    {
     "data": {
      "text/plain": [
       "[<selenium.webdriver.remote.webelement.WebElement (session=\"4d85f9b470d7157e030075f678841010\", element=\"3c5e0652-9176-4b2c-8f3e-ec3099f7af5c\")>]"
      ]
     },
     "execution_count": 23,
     "metadata": {},
     "output_type": "execute_result"
    }
   ],
   "source": [
    "#let's extract the first element of points tag as well\n",
    "points_tags=driver.find_elements_by_xpath(\"//td[@class='rankings-block__banner--points']\")\n",
    "points_tags"
   ]
  },
  {
   "cell_type": "code",
   "execution_count": 24,
   "metadata": {},
   "outputs": [
    {
     "data": {
      "text/plain": [
       "['2,436']"
      ]
     },
     "execution_count": 24,
     "metadata": {},
     "output_type": "execute_result"
    }
   ],
   "source": [
    "for i in points_tags:\n",
    "    points=i.text\n",
    "    Points.append(points)\n",
    "Points"
   ]
  },
  {
   "cell_type": "code",
   "execution_count": 25,
   "metadata": {},
   "outputs": [],
   "source": [
    "#Now, let's scrap the rest of the matches and points as they are in the same class\n",
    "matches_points=driver.find_elements_by_xpath(\"//td[@class='table-body__cell u-center-text']\")"
   ]
  },
  {
   "cell_type": "markdown",
   "metadata": {},
   "source": [
    "Now, the above elements are alternatively arranged in Matches and Points one by one. So, we will use a for loop and assign all the even values as matches and odd values as points"
   ]
  },
  {
   "cell_type": "code",
   "execution_count": 26,
   "metadata": {},
   "outputs": [],
   "source": [
    "n=0\n",
    "for i in matches_points:\n",
    "    if n%2==0:\n",
    "        matches=i.text\n",
    "        Matches.append(matches)\n",
    "        n+=1\n",
    "    else:\n",
    "        points=i.text\n",
    "        Points.append(points)\n",
    "        n+=1"
   ]
  },
  {
   "cell_type": "code",
   "execution_count": 27,
   "metadata": {},
   "outputs": [
    {
     "data": {
      "text/plain": [
       "['15', '15', '14', '16', '15', '12', '12', '5', '11', '2']"
      ]
     },
     "execution_count": 27,
     "metadata": {},
     "output_type": "execute_result"
    }
   ],
   "source": [
    "Matches=Matches[0:10]\n",
    "Matches"
   ]
  },
  {
   "cell_type": "code",
   "execution_count": 28,
   "metadata": {},
   "outputs": [
    {
     "data": {
      "text/plain": [
       "['2,436',\n",
       " '1,812',\n",
       " '1,670',\n",
       " '1,713',\n",
       " '1,384',\n",
       " '1,025',\n",
       " '927',\n",
       " '306',\n",
       " '519',\n",
       " '25']"
      ]
     },
     "execution_count": 28,
     "metadata": {},
     "output_type": "execute_result"
    }
   ],
   "source": [
    "Points=Points[0:10]\n",
    "Points"
   ]
  },
  {
   "cell_type": "code",
   "execution_count": 29,
   "metadata": {},
   "outputs": [
    {
     "data": {
      "text/plain": [
       "[<selenium.webdriver.remote.webelement.WebElement (session=\"4d85f9b470d7157e030075f678841010\", element=\"a929e34d-2576-4cb0-b3bc-bef030a0d799\")>]"
      ]
     },
     "execution_count": 29,
     "metadata": {},
     "output_type": "execute_result"
    }
   ],
   "source": [
    "#Now, let's extract the first element of the rating \n",
    "rating_tag=driver.find_elements_by_xpath(\"//td[@class='rankings-block__banner--rating u-text-right']\")\n",
    "rating_tag"
   ]
  },
  {
   "cell_type": "code",
   "execution_count": 31,
   "metadata": {},
   "outputs": [
    {
     "data": {
      "text/plain": [
       "['162']"
      ]
     },
     "execution_count": 31,
     "metadata": {},
     "output_type": "execute_result"
    }
   ],
   "source": [
    "for i in rating_tag:\n",
    "    rating=i.text\n",
    "    Rating.append(rating)\n",
    "Rating"
   ]
  },
  {
   "cell_type": "code",
   "execution_count": 32,
   "metadata": {},
   "outputs": [],
   "source": [
    "#Extracting rest of the ratings\n",
    "rating_tag=driver.find_elements_by_xpath(\"//td[@class='table-body__cell u-text-right rating']\")"
   ]
  },
  {
   "cell_type": "code",
   "execution_count": 33,
   "metadata": {},
   "outputs": [
    {
     "data": {
      "text/plain": [
       "['162', '121', '119', '107', '92', '85', '77', '61', '47', '13']"
      ]
     },
     "execution_count": 33,
     "metadata": {},
     "output_type": "execute_result"
    }
   ],
   "source": [
    "for i in rating_tag:\n",
    "    rating=i.text\n",
    "    Rating.append(rating)\n",
    "Rating"
   ]
  },
  {
   "cell_type": "code",
   "execution_count": 35,
   "metadata": {},
   "outputs": [
    {
     "data": {
      "text/html": [
       "<div>\n",
       "<style scoped>\n",
       "    .dataframe tbody tr th:only-of-type {\n",
       "        vertical-align: middle;\n",
       "    }\n",
       "\n",
       "    .dataframe tbody tr th {\n",
       "        vertical-align: top;\n",
       "    }\n",
       "\n",
       "    .dataframe thead th {\n",
       "        text-align: right;\n",
       "    }\n",
       "</style>\n",
       "<table border=\"1\" class=\"dataframe\">\n",
       "  <thead>\n",
       "    <tr style=\"text-align: right;\">\n",
       "      <th></th>\n",
       "      <th>Team</th>\n",
       "      <th>Matches</th>\n",
       "      <th>Points</th>\n",
       "      <th>Rating</th>\n",
       "    </tr>\n",
       "  </thead>\n",
       "  <tbody>\n",
       "    <tr>\n",
       "      <th>0</th>\n",
       "      <td>Australia</td>\n",
       "      <td>15</td>\n",
       "      <td>2,436</td>\n",
       "      <td>162</td>\n",
       "    </tr>\n",
       "    <tr>\n",
       "      <th>1</th>\n",
       "      <td>India</td>\n",
       "      <td>15</td>\n",
       "      <td>1,812</td>\n",
       "      <td>121</td>\n",
       "    </tr>\n",
       "    <tr>\n",
       "      <th>2</th>\n",
       "      <td>England</td>\n",
       "      <td>14</td>\n",
       "      <td>1,670</td>\n",
       "      <td>119</td>\n",
       "    </tr>\n",
       "    <tr>\n",
       "      <th>3</th>\n",
       "      <td>South Africa</td>\n",
       "      <td>16</td>\n",
       "      <td>1,713</td>\n",
       "      <td>107</td>\n",
       "    </tr>\n",
       "    <tr>\n",
       "      <th>4</th>\n",
       "      <td>New Zealand</td>\n",
       "      <td>15</td>\n",
       "      <td>1,384</td>\n",
       "      <td>92</td>\n",
       "    </tr>\n",
       "    <tr>\n",
       "      <th>5</th>\n",
       "      <td>West Indies</td>\n",
       "      <td>12</td>\n",
       "      <td>1,025</td>\n",
       "      <td>85</td>\n",
       "    </tr>\n",
       "    <tr>\n",
       "      <th>6</th>\n",
       "      <td>Pakistan</td>\n",
       "      <td>12</td>\n",
       "      <td>927</td>\n",
       "      <td>77</td>\n",
       "    </tr>\n",
       "    <tr>\n",
       "      <th>7</th>\n",
       "      <td>Bangladesh</td>\n",
       "      <td>5</td>\n",
       "      <td>306</td>\n",
       "      <td>61</td>\n",
       "    </tr>\n",
       "    <tr>\n",
       "      <th>8</th>\n",
       "      <td>Sri Lanka</td>\n",
       "      <td>11</td>\n",
       "      <td>519</td>\n",
       "      <td>47</td>\n",
       "    </tr>\n",
       "    <tr>\n",
       "      <th>9</th>\n",
       "      <td>Ireland</td>\n",
       "      <td>2</td>\n",
       "      <td>25</td>\n",
       "      <td>13</td>\n",
       "    </tr>\n",
       "  </tbody>\n",
       "</table>\n",
       "</div>"
      ],
      "text/plain": [
       "           Team Matches Points Rating\n",
       "0     Australia      15  2,436    162\n",
       "1         India      15  1,812    121\n",
       "2       England      14  1,670    119\n",
       "3  South Africa      16  1,713    107\n",
       "4   New Zealand      15  1,384     92\n",
       "5   West Indies      12  1,025     85\n",
       "6      Pakistan      12    927     77\n",
       "7    Bangladesh       5    306     61\n",
       "8     Sri Lanka      11    519     47\n",
       "9       Ireland       2     25     13"
      ]
     },
     "execution_count": 35,
     "metadata": {},
     "output_type": "execute_result"
    }
   ],
   "source": [
    "Team_Ranking=pd.DataFrame({})\n",
    "Team_Ranking['Team']=Team\n",
    "Team_Ranking['Matches']=Matches\n",
    "Team_Ranking['Points']=Points\n",
    "Team_Ranking['Rating']=Rating\n",
    "Team_Ranking"
   ]
  },
  {
   "cell_type": "markdown",
   "metadata": {},
   "source": [
    "### Part 2: Top 10 women’s ODI players along with the records of their team and rating"
   ]
  },
  {
   "cell_type": "code",
   "execution_count": 36,
   "metadata": {},
   "outputs": [],
   "source": [
    "url=('https://www.icc-cricket.com/rankings/womens/player-rankings/odi/batting')"
   ]
  },
  {
   "cell_type": "code",
   "execution_count": 37,
   "metadata": {},
   "outputs": [],
   "source": [
    "driver.get(url)"
   ]
  },
  {
   "cell_type": "code",
   "execution_count": 49,
   "metadata": {},
   "outputs": [],
   "source": [
    "Player=[]\n",
    "Team=[]\n",
    "Rating=[]"
   ]
  },
  {
   "cell_type": "code",
   "execution_count": 50,
   "metadata": {},
   "outputs": [],
   "source": [
    "#Getting the first player\n",
    "player_tag=driver.find_elements_by_xpath(\"//div[@class='rankings-block__banner--name-large']\")"
   ]
  },
  {
   "cell_type": "code",
   "execution_count": 51,
   "metadata": {},
   "outputs": [
    {
     "data": {
      "text/plain": [
       "['Meg Lanning']"
      ]
     },
     "execution_count": 51,
     "metadata": {},
     "output_type": "execute_result"
    }
   ],
   "source": [
    "for i in player_tag:\n",
    "    player=i.text\n",
    "    Player.append(player)\n",
    "Player\n"
   ]
  },
  {
   "cell_type": "code",
   "execution_count": 53,
   "metadata": {},
   "outputs": [],
   "source": [
    "#getting the rest of the players\n",
    "player_tag=driver.find_elements_by_xpath(\"//td[@class='table-body__cell rankings-table__name name']\")\n"
   ]
  },
  {
   "cell_type": "code",
   "execution_count": 54,
   "metadata": {},
   "outputs": [
    {
     "data": {
      "text/plain": [
       "['Meg Lanning',\n",
       " 'Stafanie Taylor',\n",
       " 'Alyssa Healy',\n",
       " 'Smriti Mandhana',\n",
       " 'Amy Satterthwaite',\n",
       " 'Tammy Beaumont',\n",
       " 'Ellyse Perry',\n",
       " 'Lizelle Lee',\n",
       " 'Laura Wolvaardt',\n",
       " 'Mithali Raj']"
      ]
     },
     "execution_count": 54,
     "metadata": {},
     "output_type": "execute_result"
    }
   ],
   "source": [
    "for i in player_tag:\n",
    "    player=i.text\n",
    "    Player.append(player)\n",
    "Player=Player[0:10]\n",
    "Player"
   ]
  },
  {
   "cell_type": "code",
   "execution_count": 55,
   "metadata": {},
   "outputs": [
    {
     "data": {
      "text/plain": [
       "[<selenium.webdriver.remote.webelement.WebElement (session=\"4d85f9b470d7157e030075f678841010\", element=\"d5e8d8b1-1c3a-4204-a3b2-bf1ccf565af7\")>]"
      ]
     },
     "execution_count": 55,
     "metadata": {},
     "output_type": "execute_result"
    }
   ],
   "source": [
    "#Getting the first team\n",
    "team_tag=driver.find_elements_by_xpath(\"//div[@class='rankings-block__banner--nationality']\")\n",
    "team_tag"
   ]
  },
  {
   "cell_type": "code",
   "execution_count": 56,
   "metadata": {},
   "outputs": [
    {
     "data": {
      "text/plain": [
       "['AUS']"
      ]
     },
     "execution_count": 56,
     "metadata": {},
     "output_type": "execute_result"
    }
   ],
   "source": [
    "for i in team_tag:\n",
    "    team=i.text\n",
    "    Team.append(team)\n",
    "Team"
   ]
  },
  {
   "cell_type": "code",
   "execution_count": 58,
   "metadata": {},
   "outputs": [],
   "source": [
    "#Getting the rest of the teams\n",
    "team_tag=driver.find_elements_by_xpath(\"//span[@class='table-body__logo-text']\")\n"
   ]
  },
  {
   "cell_type": "code",
   "execution_count": 59,
   "metadata": {},
   "outputs": [
    {
     "data": {
      "text/plain": [
       "['AUS', 'WI', 'AUS', 'IND', 'NZ', 'ENG', 'AUS', 'SA', 'SA', 'IND']"
      ]
     },
     "execution_count": 59,
     "metadata": {},
     "output_type": "execute_result"
    }
   ],
   "source": [
    "for i in team_tag:\n",
    "    team=i.text\n",
    "    Team.append(team)\n",
    "Team=Team[0:10]\n",
    "Team"
   ]
  },
  {
   "cell_type": "code",
   "execution_count": 60,
   "metadata": {},
   "outputs": [],
   "source": [
    "#getting the first rating\n",
    "rating_tag=driver.find_elements_by_xpath(\"//div[@class='rankings-block__banner--rating']\")"
   ]
  },
  {
   "cell_type": "code",
   "execution_count": 61,
   "metadata": {},
   "outputs": [
    {
     "data": {
      "text/plain": [
       "['749']"
      ]
     },
     "execution_count": 61,
     "metadata": {},
     "output_type": "execute_result"
    }
   ],
   "source": [
    "for i in rating_tag:\n",
    "    rating=i.text\n",
    "    Rating.append(rating)\n",
    "Rating"
   ]
  },
  {
   "cell_type": "code",
   "execution_count": 62,
   "metadata": {},
   "outputs": [],
   "source": [
    "rating_tag=driver.find_elements_by_xpath(\"//td[@class='table-body__cell rating']\")"
   ]
  },
  {
   "cell_type": "code",
   "execution_count": 63,
   "metadata": {},
   "outputs": [
    {
     "data": {
      "text/plain": [
       "['749', '746', '741', '732', '723', '716', '691', '690', '689', '687']"
      ]
     },
     "execution_count": 63,
     "metadata": {},
     "output_type": "execute_result"
    }
   ],
   "source": [
    "for i in rating_tag:\n",
    "    rating=i.text\n",
    "    Rating.append(rating)\n",
    "Rating=Rating[0:10]\n",
    "Rating"
   ]
  },
  {
   "cell_type": "code",
   "execution_count": 64,
   "metadata": {},
   "outputs": [
    {
     "data": {
      "text/html": [
       "<div>\n",
       "<style scoped>\n",
       "    .dataframe tbody tr th:only-of-type {\n",
       "        vertical-align: middle;\n",
       "    }\n",
       "\n",
       "    .dataframe tbody tr th {\n",
       "        vertical-align: top;\n",
       "    }\n",
       "\n",
       "    .dataframe thead th {\n",
       "        text-align: right;\n",
       "    }\n",
       "</style>\n",
       "<table border=\"1\" class=\"dataframe\">\n",
       "  <thead>\n",
       "    <tr style=\"text-align: right;\">\n",
       "      <th></th>\n",
       "      <th>Player</th>\n",
       "      <th>Team</th>\n",
       "      <th>Rating</th>\n",
       "    </tr>\n",
       "  </thead>\n",
       "  <tbody>\n",
       "    <tr>\n",
       "      <th>0</th>\n",
       "      <td>Meg Lanning</td>\n",
       "      <td>AUS</td>\n",
       "      <td>749</td>\n",
       "    </tr>\n",
       "    <tr>\n",
       "      <th>1</th>\n",
       "      <td>Stafanie Taylor</td>\n",
       "      <td>WI</td>\n",
       "      <td>746</td>\n",
       "    </tr>\n",
       "    <tr>\n",
       "      <th>2</th>\n",
       "      <td>Alyssa Healy</td>\n",
       "      <td>AUS</td>\n",
       "      <td>741</td>\n",
       "    </tr>\n",
       "    <tr>\n",
       "      <th>3</th>\n",
       "      <td>Smriti Mandhana</td>\n",
       "      <td>IND</td>\n",
       "      <td>732</td>\n",
       "    </tr>\n",
       "    <tr>\n",
       "      <th>4</th>\n",
       "      <td>Amy Satterthwaite</td>\n",
       "      <td>NZ</td>\n",
       "      <td>723</td>\n",
       "    </tr>\n",
       "    <tr>\n",
       "      <th>5</th>\n",
       "      <td>Tammy Beaumont</td>\n",
       "      <td>ENG</td>\n",
       "      <td>716</td>\n",
       "    </tr>\n",
       "    <tr>\n",
       "      <th>6</th>\n",
       "      <td>Ellyse Perry</td>\n",
       "      <td>AUS</td>\n",
       "      <td>691</td>\n",
       "    </tr>\n",
       "    <tr>\n",
       "      <th>7</th>\n",
       "      <td>Lizelle Lee</td>\n",
       "      <td>SA</td>\n",
       "      <td>690</td>\n",
       "    </tr>\n",
       "    <tr>\n",
       "      <th>8</th>\n",
       "      <td>Laura Wolvaardt</td>\n",
       "      <td>SA</td>\n",
       "      <td>689</td>\n",
       "    </tr>\n",
       "    <tr>\n",
       "      <th>9</th>\n",
       "      <td>Mithali Raj</td>\n",
       "      <td>IND</td>\n",
       "      <td>687</td>\n",
       "    </tr>\n",
       "  </tbody>\n",
       "</table>\n",
       "</div>"
      ],
      "text/plain": [
       "              Player Team Rating\n",
       "0        Meg Lanning  AUS    749\n",
       "1    Stafanie Taylor   WI    746\n",
       "2       Alyssa Healy  AUS    741\n",
       "3    Smriti Mandhana  IND    732\n",
       "4  Amy Satterthwaite   NZ    723\n",
       "5     Tammy Beaumont  ENG    716\n",
       "6       Ellyse Perry  AUS    691\n",
       "7        Lizelle Lee   SA    690\n",
       "8    Laura Wolvaardt   SA    689\n",
       "9        Mithali Raj  IND    687"
      ]
     },
     "execution_count": 64,
     "metadata": {},
     "output_type": "execute_result"
    }
   ],
   "source": [
    "#Creating the dataframe of top 10 batsmen\n",
    "Batswomen=pd.DataFrame({})\n",
    "Batswomen['Player']=Player\n",
    "Batswomen['Team']=Team\n",
    "Batswomen['Rating']=Rating\n",
    "Batswomen"
   ]
  },
  {
   "cell_type": "markdown",
   "metadata": {},
   "source": [
    "### Part 3: Top 10 women’s ODI all-rounder along with the records of their team and rating"
   ]
  },
  {
   "cell_type": "code",
   "execution_count": 65,
   "metadata": {},
   "outputs": [],
   "source": [
    "url=('https://www.icc-cricket.com/rankings/womens/player-rankings/odi/bowling')"
   ]
  },
  {
   "cell_type": "code",
   "execution_count": 66,
   "metadata": {},
   "outputs": [],
   "source": [
    "driver.get(url)"
   ]
  },
  {
   "cell_type": "code",
   "execution_count": 67,
   "metadata": {},
   "outputs": [],
   "source": [
    "Player=[]\n",
    "Team=[]\n",
    "Rating=[]\n"
   ]
  },
  {
   "cell_type": "code",
   "execution_count": 68,
   "metadata": {},
   "outputs": [],
   "source": [
    "#getting the top bowler first\n",
    "player_tags=driver.find_elements_by_xpath(\"//div[@class='rankings-block__banner--name-large']\")\n"
   ]
  },
  {
   "cell_type": "code",
   "execution_count": 69,
   "metadata": {},
   "outputs": [
    {
     "data": {
      "text/plain": [
       "['Jess Jonassen']"
      ]
     },
     "execution_count": 69,
     "metadata": {},
     "output_type": "execute_result"
    }
   ],
   "source": [
    "for i in player_tags:\n",
    "    player=i.text\n",
    "    Player.append(player)\n",
    "Player\n"
   ]
  },
  {
   "cell_type": "code",
   "execution_count": 70,
   "metadata": {},
   "outputs": [],
   "source": [
    "#getting the rest of the bowler names\n",
    "player_tags=driver.find_elements_by_xpath(\"//td[@class='table-body__cell rankings-table__name name']\")\n"
   ]
  },
  {
   "cell_type": "code",
   "execution_count": 71,
   "metadata": {},
   "outputs": [
    {
     "data": {
      "text/plain": [
       "['Jess Jonassen',\n",
       " 'Marizanne Kapp',\n",
       " 'Megan Schutt',\n",
       " 'Shabnim Ismail',\n",
       " 'Jhulan Goswami',\n",
       " 'Poonam Yadav',\n",
       " 'Shikha Pandey',\n",
       " 'Ellyse Perry',\n",
       " 'Anya Shrubsole',\n",
       " 'Deepti Sharma']"
      ]
     },
     "execution_count": 71,
     "metadata": {},
     "output_type": "execute_result"
    }
   ],
   "source": [
    "for i in player_tags:\n",
    "    player=i.text\n",
    "    Player.append(player)\n",
    "Player=Player[0:10]\n",
    "Player\n"
   ]
  },
  {
   "cell_type": "code",
   "execution_count": 72,
   "metadata": {},
   "outputs": [],
   "source": [
    "#Let's get the top player's team\n",
    "team_tags=driver.find_elements_by_xpath(\"//div[@class='rankings-block__banner--nationality']\")\n"
   ]
  },
  {
   "cell_type": "code",
   "execution_count": 73,
   "metadata": {},
   "outputs": [
    {
     "data": {
      "text/plain": [
       "['AUS']"
      ]
     },
     "execution_count": 73,
     "metadata": {},
     "output_type": "execute_result"
    }
   ],
   "source": [
    "for i in team_tags:\n",
    "    team=i.text\n",
    "    Team.append(team)\n",
    "Team\n"
   ]
  },
  {
   "cell_type": "code",
   "execution_count": 74,
   "metadata": {},
   "outputs": [],
   "source": [
    "team_tags=driver.find_elements_by_xpath(\"//span[@class='table-body__logo-text']\")\n"
   ]
  },
  {
   "cell_type": "code",
   "execution_count": 75,
   "metadata": {},
   "outputs": [
    {
     "data": {
      "text/plain": [
       "['AUS', 'SA', 'AUS', 'SA', 'IND', 'IND', 'IND', 'AUS', 'ENG', 'IND']"
      ]
     },
     "execution_count": 75,
     "metadata": {},
     "output_type": "execute_result"
    }
   ],
   "source": [
    "for i in team_tags:\n",
    "    team=i.text\n",
    "    Team.append(team)\n",
    "Team=Team[0:10]\n",
    "Team\n"
   ]
  },
  {
   "cell_type": "code",
   "execution_count": 76,
   "metadata": {},
   "outputs": [],
   "source": [
    "#Let's get the top rating first\n",
    "rating_tags=driver.find_elements_by_xpath(\"//div[@class='rankings-block__banner--rating']\")"
   ]
  },
  {
   "cell_type": "code",
   "execution_count": 77,
   "metadata": {},
   "outputs": [
    {
     "data": {
      "text/plain": [
       "['804']"
      ]
     },
     "execution_count": 77,
     "metadata": {},
     "output_type": "execute_result"
    }
   ],
   "source": [
    "for i in rating_tags:\n",
    "    rating=i.text\n",
    "    Rating.append(rating)\n",
    "Rating\n"
   ]
  },
  {
   "cell_type": "code",
   "execution_count": 78,
   "metadata": {},
   "outputs": [],
   "source": [
    "#Let's get the further ratings\n",
    "rating_tags=driver.find_elements_by_xpath(\"//td[@class='table-body__cell rating']\")\n"
   ]
  },
  {
   "cell_type": "code",
   "execution_count": 79,
   "metadata": {},
   "outputs": [
    {
     "data": {
      "text/plain": [
       "['804', '738', '735', '717', '691', '679', '675', '666', '645', '639']"
      ]
     },
     "execution_count": 79,
     "metadata": {},
     "output_type": "execute_result"
    }
   ],
   "source": [
    "for i in rating_tags:\n",
    "    rating=i.text\n",
    "    Rating.append(rating)\n",
    "Rating=Rating[0:10]\n",
    "Rating\n"
   ]
  },
  {
   "cell_type": "code",
   "execution_count": 80,
   "metadata": {},
   "outputs": [
    {
     "data": {
      "text/html": [
       "<div>\n",
       "<style scoped>\n",
       "    .dataframe tbody tr th:only-of-type {\n",
       "        vertical-align: middle;\n",
       "    }\n",
       "\n",
       "    .dataframe tbody tr th {\n",
       "        vertical-align: top;\n",
       "    }\n",
       "\n",
       "    .dataframe thead th {\n",
       "        text-align: right;\n",
       "    }\n",
       "</style>\n",
       "<table border=\"1\" class=\"dataframe\">\n",
       "  <thead>\n",
       "    <tr style=\"text-align: right;\">\n",
       "      <th></th>\n",
       "      <th>Player</th>\n",
       "      <th>Team</th>\n",
       "      <th>Rating</th>\n",
       "    </tr>\n",
       "  </thead>\n",
       "  <tbody>\n",
       "    <tr>\n",
       "      <th>0</th>\n",
       "      <td>Jess Jonassen</td>\n",
       "      <td>AUS</td>\n",
       "      <td>804</td>\n",
       "    </tr>\n",
       "    <tr>\n",
       "      <th>1</th>\n",
       "      <td>Marizanne Kapp</td>\n",
       "      <td>SA</td>\n",
       "      <td>738</td>\n",
       "    </tr>\n",
       "    <tr>\n",
       "      <th>2</th>\n",
       "      <td>Megan Schutt</td>\n",
       "      <td>AUS</td>\n",
       "      <td>735</td>\n",
       "    </tr>\n",
       "    <tr>\n",
       "      <th>3</th>\n",
       "      <td>Shabnim Ismail</td>\n",
       "      <td>SA</td>\n",
       "      <td>717</td>\n",
       "    </tr>\n",
       "    <tr>\n",
       "      <th>4</th>\n",
       "      <td>Jhulan Goswami</td>\n",
       "      <td>IND</td>\n",
       "      <td>691</td>\n",
       "    </tr>\n",
       "    <tr>\n",
       "      <th>5</th>\n",
       "      <td>Poonam Yadav</td>\n",
       "      <td>IND</td>\n",
       "      <td>679</td>\n",
       "    </tr>\n",
       "    <tr>\n",
       "      <th>6</th>\n",
       "      <td>Shikha Pandey</td>\n",
       "      <td>IND</td>\n",
       "      <td>675</td>\n",
       "    </tr>\n",
       "    <tr>\n",
       "      <th>7</th>\n",
       "      <td>Ellyse Perry</td>\n",
       "      <td>AUS</td>\n",
       "      <td>666</td>\n",
       "    </tr>\n",
       "    <tr>\n",
       "      <th>8</th>\n",
       "      <td>Anya Shrubsole</td>\n",
       "      <td>ENG</td>\n",
       "      <td>645</td>\n",
       "    </tr>\n",
       "    <tr>\n",
       "      <th>9</th>\n",
       "      <td>Deepti Sharma</td>\n",
       "      <td>IND</td>\n",
       "      <td>639</td>\n",
       "    </tr>\n",
       "  </tbody>\n",
       "</table>\n",
       "</div>"
      ],
      "text/plain": [
       "           Player Team Rating\n",
       "0   Jess Jonassen  AUS    804\n",
       "1  Marizanne Kapp   SA    738\n",
       "2    Megan Schutt  AUS    735\n",
       "3  Shabnim Ismail   SA    717\n",
       "4  Jhulan Goswami  IND    691\n",
       "5    Poonam Yadav  IND    679\n",
       "6   Shikha Pandey  IND    675\n",
       "7    Ellyse Perry  AUS    666\n",
       "8  Anya Shrubsole  ENG    645\n",
       "9   Deepti Sharma  IND    639"
      ]
     },
     "execution_count": 80,
     "metadata": {},
     "output_type": "execute_result"
    }
   ],
   "source": [
    "Bowlers=pd.DataFrame({})\n",
    "Bowlers['Player']=Player\n",
    "Bowlers['Team']=Team\n",
    "Bowlers['Rating']=Rating\n",
    "Bowlers"
   ]
  },
  {
   "cell_type": "markdown",
   "metadata": {},
   "source": [
    "# Question 7 \n",
    "Write a python program to scrape details of all the mobile phones under Rs. 20,000 listed on Amazon.in. The\n",
    "scraped data should include Product Name, Price, Image URL and Average Rating"
   ]
  },
  {
   "cell_type": "code",
   "execution_count": 10,
   "metadata": {},
   "outputs": [],
   "source": [
    "from selenium.common.exceptions import NoSuchElementException\n",
    "from selenium import webdriver\n",
    "from selenium.webdriver.support.ui import WebDriverWait\n",
    "from selenium.webdriver.support import expected_conditions as EC\n",
    "from selenium.webdriver.common.by import By\n",
    "from selenium.common.exceptions import TimeoutException"
   ]
  },
  {
   "cell_type": "code",
   "execution_count": 51,
   "metadata": {},
   "outputs": [],
   "source": [
    "url=('https://www.amazon.in/s?i=electronics&bbn=1389401031&rh=n%3A976419031%2Cn%3A1389401031%2Cn%3A1389432031%2Cp_36%3A-2000000&dc&qid=1610913853&rnid=1389401031&ref=sr_nr_n_3')"
   ]
  },
  {
   "cell_type": "code",
   "execution_count": 52,
   "metadata": {},
   "outputs": [],
   "source": [
    "driver.get(url)"
   ]
  },
  {
   "cell_type": "code",
   "execution_count": 67,
   "metadata": {},
   "outputs": [],
   "source": [
    "Product=[]\n",
    "Price=[]\n",
    "Img=[]\n",
    "Rating=[]"
   ]
  },
  {
   "cell_type": "code",
   "execution_count": 68,
   "metadata": {},
   "outputs": [],
   "source": [
    "delay=5\n",
    "try:\n",
    "    for i in range(0,300):\n",
    "        for i in driver.find_elements_by_xpath(\"//span[@class='a-size-medium a-color-base a-text-normal']\"):\n",
    "            Product.append(i.text)\n",
    "        for j in driver.find_elements_by_xpath(\"//span[@class='a-price-whole']\"):\n",
    "            Price.append(j.text)\n",
    "        img_tag=driver.find_elements_by_xpath(\"//img[@class='s-image']\")\n",
    "        for k in img_tag:\n",
    "            Img.append(k.get_attribute('src'))\n",
    "        for l in driver.find_elements_by_xpath(\"//div[@class='a-row a-size-small']/span[1]\"):\n",
    "            Rating.append(l.get_attribute('aria-label'))\n",
    "    WebDriverWait(driver,delay).until(EC.presence_of_element_located((By.CLASS_NAME,'a-last')))\n",
    "    driver.find_element_by_xpath(\"//li[@class='a-last']\").click()\n",
    "except TimeoutException as e:\n",
    "    print(\"Exception Raised\",e)\n",
    "\n",
    "   "
   ]
  },
  {
   "cell_type": "code",
   "execution_count": 74,
   "metadata": {},
   "outputs": [
    {
     "name": "stdout",
     "output_type": "stream",
     "text": [
      "8700 8700 8700 6900\n"
     ]
    }
   ],
   "source": [
    "print(len(Product),len(Price),len(Img),len(Rating))"
   ]
  },
  {
   "cell_type": "code",
   "execution_count": null,
   "metadata": {},
   "outputs": [],
   "source": [
    "#here, we have the ratings of only top 6900 entries which are featured on top. hence, we will fill the rest will null values"
   ]
  },
  {
   "cell_type": "code",
   "execution_count": 76,
   "metadata": {},
   "outputs": [],
   "source": [
    "Amazon=pd.DataFrame({})\n",
    "Amazon['Product']=Product[0:6900]\n",
    "Amazon['Price']=Price[0:6900]\n",
    "Amazon['Image']=Img[0:6900]\n",
    "Amazon['Rating']=Rating\n",
    "\n"
   ]
  },
  {
   "cell_type": "code",
   "execution_count": 77,
   "metadata": {},
   "outputs": [
    {
     "data": {
      "text/html": [
       "<div>\n",
       "<style scoped>\n",
       "    .dataframe tbody tr th:only-of-type {\n",
       "        vertical-align: middle;\n",
       "    }\n",
       "\n",
       "    .dataframe tbody tr th {\n",
       "        vertical-align: top;\n",
       "    }\n",
       "\n",
       "    .dataframe thead th {\n",
       "        text-align: right;\n",
       "    }\n",
       "</style>\n",
       "<table border=\"1\" class=\"dataframe\">\n",
       "  <thead>\n",
       "    <tr style=\"text-align: right;\">\n",
       "      <th></th>\n",
       "      <th>Product</th>\n",
       "      <th>Price</th>\n",
       "      <th>Image</th>\n",
       "      <th>Rating</th>\n",
       "    </tr>\n",
       "  </thead>\n",
       "  <tbody>\n",
       "    <tr>\n",
       "      <th>0</th>\n",
       "      <td>IKALL K100 Dual Sim Multimedia 1.8 Inch Mobile...</td>\n",
       "      <td>1,229</td>\n",
       "      <td>https://m.media-amazon.com/images/I/61ehdqsYmP...</td>\n",
       "      <td>2.4 out of 5 stars</td>\n",
       "    </tr>\n",
       "    <tr>\n",
       "      <th>1</th>\n",
       "      <td>IKALL K43 with 1.8 Inch Colour Display Multime...</td>\n",
       "      <td>669</td>\n",
       "      <td>https://m.media-amazon.com/images/I/51Z43GBX6v...</td>\n",
       "      <td>2.1 out of 5 stars</td>\n",
       "    </tr>\n",
       "    <tr>\n",
       "      <th>2</th>\n",
       "      <td>Oppo A31 (Mystery Black, 6GB RAM, 128GB Storag...</td>\n",
       "      <td>11,990</td>\n",
       "      <td>https://m.media-amazon.com/images/I/71KCwNV6Mu...</td>\n",
       "      <td>4.0 out of 5 stars</td>\n",
       "    </tr>\n",
       "    <tr>\n",
       "      <th>3</th>\n",
       "      <td>Samsung Galaxy M31 (Iceberg Blue, 6GB RAM, 128...</td>\n",
       "      <td>15,999</td>\n",
       "      <td>https://m.media-amazon.com/images/I/71ZsMOcpeP...</td>\n",
       "      <td>4.2 out of 5 stars</td>\n",
       "    </tr>\n",
       "    <tr>\n",
       "      <th>4</th>\n",
       "      <td>Samsung Galaxy M31 (Space Black, 6GB RAM, 128G...</td>\n",
       "      <td>15,999</td>\n",
       "      <td>https://m.media-amazon.com/images/I/71OxJeyywS...</td>\n",
       "      <td>4.2 out of 5 stars</td>\n",
       "    </tr>\n",
       "  </tbody>\n",
       "</table>\n",
       "</div>"
      ],
      "text/plain": [
       "                                             Product   Price  \\\n",
       "0  IKALL K100 Dual Sim Multimedia 1.8 Inch Mobile...   1,229   \n",
       "1  IKALL K43 with 1.8 Inch Colour Display Multime...     669   \n",
       "2  Oppo A31 (Mystery Black, 6GB RAM, 128GB Storag...  11,990   \n",
       "3  Samsung Galaxy M31 (Iceberg Blue, 6GB RAM, 128...  15,999   \n",
       "4  Samsung Galaxy M31 (Space Black, 6GB RAM, 128G...  15,999   \n",
       "\n",
       "                                               Image              Rating  \n",
       "0  https://m.media-amazon.com/images/I/61ehdqsYmP...  2.4 out of 5 stars  \n",
       "1  https://m.media-amazon.com/images/I/51Z43GBX6v...  2.1 out of 5 stars  \n",
       "2  https://m.media-amazon.com/images/I/71KCwNV6Mu...  4.0 out of 5 stars  \n",
       "3  https://m.media-amazon.com/images/I/71ZsMOcpeP...  4.2 out of 5 stars  \n",
       "4  https://m.media-amazon.com/images/I/71OxJeyywS...  4.2 out of 5 stars  "
      ]
     },
     "execution_count": 77,
     "metadata": {},
     "output_type": "execute_result"
    }
   ],
   "source": [
    "Amazon.head()"
   ]
  },
  {
   "cell_type": "code",
   "execution_count": 78,
   "metadata": {},
   "outputs": [
    {
     "data": {
      "text/html": [
       "<div>\n",
       "<style scoped>\n",
       "    .dataframe tbody tr th:only-of-type {\n",
       "        vertical-align: middle;\n",
       "    }\n",
       "\n",
       "    .dataframe tbody tr th {\n",
       "        vertical-align: top;\n",
       "    }\n",
       "\n",
       "    .dataframe thead th {\n",
       "        text-align: right;\n",
       "    }\n",
       "</style>\n",
       "<table border=\"1\" class=\"dataframe\">\n",
       "  <thead>\n",
       "    <tr style=\"text-align: right;\">\n",
       "      <th></th>\n",
       "      <th>Product</th>\n",
       "      <th>Price</th>\n",
       "      <th>Image</th>\n",
       "      <th>Rating</th>\n",
       "    </tr>\n",
       "  </thead>\n",
       "  <tbody>\n",
       "    <tr>\n",
       "      <th>6895</th>\n",
       "      <td>Redmi Note 9 Pro Max (Champagne Gold, 6GB RAM,...</td>\n",
       "      <td>14,999</td>\n",
       "      <td>https://m.media-amazon.com/images/I/81Ox29uGzN...</td>\n",
       "      <td>3.7 out of 5 stars</td>\n",
       "    </tr>\n",
       "    <tr>\n",
       "      <th>6896</th>\n",
       "      <td>Redmi 9 Power (Mighty Black, 4GB RAM, 128GB St...</td>\n",
       "      <td>11,999</td>\n",
       "      <td>https://m.media-amazon.com/images/I/71Mg51D9C6...</td>\n",
       "      <td>3.7 out of 5 stars</td>\n",
       "    </tr>\n",
       "    <tr>\n",
       "      <th>6897</th>\n",
       "      <td>Redmi 9 Power (Electric Green, 4GB RAM, 128GB ...</td>\n",
       "      <td>11,999</td>\n",
       "      <td>https://m.media-amazon.com/images/I/71anKhv48F...</td>\n",
       "      <td>4.2 out of 5 stars</td>\n",
       "    </tr>\n",
       "    <tr>\n",
       "      <th>6898</th>\n",
       "      <td>Redmi Note 9 Pro (Champagne Gold, 4GB RAM, 64G...</td>\n",
       "      <td>12,999</td>\n",
       "      <td>https://m.media-amazon.com/images/I/81Ox29uGzN...</td>\n",
       "      <td>3.4 out of 5 stars</td>\n",
       "    </tr>\n",
       "    <tr>\n",
       "      <th>6899</th>\n",
       "      <td>Samsung Galaxy M01 Core (Black, 2GB RAM, 32GB ...</td>\n",
       "      <td>5,999</td>\n",
       "      <td>https://m.media-amazon.com/images/I/71AYb2AGHX...</td>\n",
       "      <td>4.2 out of 5 stars</td>\n",
       "    </tr>\n",
       "  </tbody>\n",
       "</table>\n",
       "</div>"
      ],
      "text/plain": [
       "                                                Product   Price  \\\n",
       "6895  Redmi Note 9 Pro Max (Champagne Gold, 6GB RAM,...  14,999   \n",
       "6896  Redmi 9 Power (Mighty Black, 4GB RAM, 128GB St...  11,999   \n",
       "6897  Redmi 9 Power (Electric Green, 4GB RAM, 128GB ...  11,999   \n",
       "6898  Redmi Note 9 Pro (Champagne Gold, 4GB RAM, 64G...  12,999   \n",
       "6899  Samsung Galaxy M01 Core (Black, 2GB RAM, 32GB ...   5,999   \n",
       "\n",
       "                                                  Image              Rating  \n",
       "6895  https://m.media-amazon.com/images/I/81Ox29uGzN...  3.7 out of 5 stars  \n",
       "6896  https://m.media-amazon.com/images/I/71Mg51D9C6...  3.7 out of 5 stars  \n",
       "6897  https://m.media-amazon.com/images/I/71anKhv48F...  4.2 out of 5 stars  \n",
       "6898  https://m.media-amazon.com/images/I/81Ox29uGzN...  3.4 out of 5 stars  \n",
       "6899  https://m.media-amazon.com/images/I/71AYb2AGHX...  4.2 out of 5 stars  "
      ]
     },
     "execution_count": 78,
     "metadata": {},
     "output_type": "execute_result"
    }
   ],
   "source": [
    "Amazon.tail()"
   ]
  },
  {
   "cell_type": "markdown",
   "metadata": {},
   "source": [
    "# Question 8\n",
    "***Write a python program to extract information about the local weather from the National Weather Service\n",
    "website of USA, https://www.weather.gov/ for the city, San Francisco. You need to extract data about 7 day\n",
    "extended forecast display for the city. The data should include period, short description, temperature and\n",
    "description. ***"
   ]
  },
  {
   "cell_type": "code",
   "execution_count": 4,
   "metadata": {},
   "outputs": [],
   "source": [
    "\n",
    "url = \"https://forecast.weather.gov/MapClick.php?lat=37.777120000000025&lon=-122.41963999999996#.YAT01ugzbDc\"\n",
    "page = requests.get(url)\n",
    "soup = BeautifulSoup(page.content,\"html.parser\")\n",
    "\n",
    "\n",
    "periods=[]\n",
    "short_descriptions=[]\n",
    "temps=[]\n",
    "descriptions=[]\n",
    "\n",
    "\n",
    "period=soup.find_all('p',class_='period-name')\n",
    "for i in period:\n",
    "    periods.append(i.text)\n",
    "\n",
    "\n",
    "short_description=soup.find_all('p',class_='short-desc')\n",
    "for i in short_description:\n",
    "    short_descriptions.append(i.text)\n",
    "\n",
    "\n",
    "temp=soup.find_all('p',class_='temp')\n",
    "for i in temp:\n",
    "    temps.append(i.text)\n",
    "\n",
    "\n",
    "description=soup.find_all('div',class_='col-sm-10 forecast-text')\n",
    "for i in description:\n",
    "    descriptions.append(i.text)"
   ]
  },
  {
   "cell_type": "code",
   "execution_count": 5,
   "metadata": {},
   "outputs": [],
   "source": [
    "import pandas as pd\n",
    "weather=pd.DataFrame({})\n",
    "weather['periods']=periods[:7]\n",
    "weather['short_descriptions']=short_descriptions[:7]\n",
    "weather['temps']=temps[:7]\n",
    "weather['descriptions']=descriptions[:7]"
   ]
  },
  {
   "cell_type": "code",
   "execution_count": 6,
   "metadata": {},
   "outputs": [
    {
     "data": {
      "text/html": [
       "<div>\n",
       "<style scoped>\n",
       "    .dataframe tbody tr th:only-of-type {\n",
       "        vertical-align: middle;\n",
       "    }\n",
       "\n",
       "    .dataframe tbody tr th {\n",
       "        vertical-align: top;\n",
       "    }\n",
       "\n",
       "    .dataframe thead th {\n",
       "        text-align: right;\n",
       "    }\n",
       "</style>\n",
       "<table border=\"1\" class=\"dataframe\">\n",
       "  <thead>\n",
       "    <tr style=\"text-align: right;\">\n",
       "      <th></th>\n",
       "      <th>periods</th>\n",
       "      <th>short_descriptions</th>\n",
       "      <th>temps</th>\n",
       "      <th>descriptions</th>\n",
       "    </tr>\n",
       "  </thead>\n",
       "  <tbody>\n",
       "    <tr>\n",
       "      <th>0</th>\n",
       "      <td>Today</td>\n",
       "      <td>Mostly Sunny</td>\n",
       "      <td>High: 60 °F</td>\n",
       "      <td>Mostly sunny, with a high near 60. Calm wind b...</td>\n",
       "    </tr>\n",
       "    <tr>\n",
       "      <th>1</th>\n",
       "      <td>Tonight</td>\n",
       "      <td>Slight ChanceShowers</td>\n",
       "      <td>Low: 48 °F</td>\n",
       "      <td>A 20 percent chance of showers after 11pm.  Mo...</td>\n",
       "    </tr>\n",
       "    <tr>\n",
       "      <th>2</th>\n",
       "      <td>Friday</td>\n",
       "      <td>ChanceShowers</td>\n",
       "      <td>High: 56 °F</td>\n",
       "      <td>A 50 percent chance of showers.  Partly sunny,...</td>\n",
       "    </tr>\n",
       "    <tr>\n",
       "      <th>3</th>\n",
       "      <td>FridayNight</td>\n",
       "      <td>Slight ChanceShowers</td>\n",
       "      <td>Low: 43 °F</td>\n",
       "      <td>A 20 percent chance of showers.  Partly cloudy...</td>\n",
       "    </tr>\n",
       "    <tr>\n",
       "      <th>4</th>\n",
       "      <td>Saturday</td>\n",
       "      <td>Sunny</td>\n",
       "      <td>High: 58 °F</td>\n",
       "      <td>Sunny, with a high near 58. North northeast wi...</td>\n",
       "    </tr>\n",
       "    <tr>\n",
       "      <th>5</th>\n",
       "      <td>SaturdayNight</td>\n",
       "      <td>Mostly Clear</td>\n",
       "      <td>Low: 44 °F</td>\n",
       "      <td>Mostly clear, with a low around 44.</td>\n",
       "    </tr>\n",
       "    <tr>\n",
       "      <th>6</th>\n",
       "      <td>Sunday</td>\n",
       "      <td>ShowersLikely</td>\n",
       "      <td>High: 55 °F</td>\n",
       "      <td>Showers likely after 11am.  Mostly cloudy, wit...</td>\n",
       "    </tr>\n",
       "  </tbody>\n",
       "</table>\n",
       "</div>"
      ],
      "text/plain": [
       "         periods    short_descriptions        temps  \\\n",
       "0          Today          Mostly Sunny  High: 60 °F   \n",
       "1        Tonight  Slight ChanceShowers   Low: 48 °F   \n",
       "2         Friday         ChanceShowers  High: 56 °F   \n",
       "3    FridayNight  Slight ChanceShowers   Low: 43 °F   \n",
       "4       Saturday                 Sunny  High: 58 °F   \n",
       "5  SaturdayNight          Mostly Clear   Low: 44 °F   \n",
       "6         Sunday         ShowersLikely  High: 55 °F   \n",
       "\n",
       "                                        descriptions  \n",
       "0  Mostly sunny, with a high near 60. Calm wind b...  \n",
       "1  A 20 percent chance of showers after 11pm.  Mo...  \n",
       "2  A 50 percent chance of showers.  Partly sunny,...  \n",
       "3  A 20 percent chance of showers.  Partly cloudy...  \n",
       "4  Sunny, with a high near 58. North northeast wi...  \n",
       "5                Mostly clear, with a low around 44.  \n",
       "6  Showers likely after 11am.  Mostly cloudy, wit...  "
      ]
     },
     "execution_count": 6,
     "metadata": {},
     "output_type": "execute_result"
    }
   ],
   "source": [
    "weather"
   ]
  },
  {
   "cell_type": "code",
   "execution_count": null,
   "metadata": {},
   "outputs": [],
   "source": []
  }
 ],
 "metadata": {
  "kernelspec": {
   "display_name": "Python 3",
   "language": "python",
   "name": "python3"
  },
  "language_info": {
   "codemirror_mode": {
    "name": "ipython",
    "version": 3
   },
   "file_extension": ".py",
   "mimetype": "text/x-python",
   "name": "python",
   "nbconvert_exporter": "python",
   "pygments_lexer": "ipython3",
   "version": "3.7.6"
  }
 },
 "nbformat": 4,
 "nbformat_minor": 4
}
